{
 "cells": [
  {
   "cell_type": "markdown",
   "id": "decimal-pledge",
   "metadata": {},
   "source": [
    "# Cricket Analysis and Prediction using ML.Net"
   ]
  },
  {
   "cell_type": "markdown",
   "id": "theoretical-definition",
   "metadata": {},
   "source": [
    "<img src=\".\\assets\\cricket-banner.png\" alt=\"Cricket\" style=\"zoom:80%;margin:auto;\">\n",
    "\n",
    "<br>\n",
    "<span style=\"color:red\"><b>Disclaimer:</b> The analysis and prediction done here is for learning purpose only and should not be used for any illegal activities such as betting.</span>"
   ]
  },
  {
   "cell_type": "markdown",
   "id": "stuck-trunk",
   "metadata": {},
   "source": [
    "## Introduction"
   ]
  },
  {
   "cell_type": "markdown",
   "id": "brief-ordinance",
   "metadata": {},
   "source": [
    "Cricket, a game of bat and ball is one of the most popular games and played in varied formats. It's a game of numbers with each match generating a plethora of data about players and matches. This data is used by analysts and data scientists to uncover meaningful insights and forecast about matches and players performance. In this session, I'll be performing some analytics and prediction on the cricket data using Microsoft ML.Net framework and C#."
   ]
  },
  {
   "cell_type": "markdown",
   "id": "innovative-musical",
   "metadata": {},
   "source": [
    "<img src=\"assets\\cricket-history.png\" alt=\"Cricket\" style=\"zoom:80%;margin:auto;\">"
   ]
  },
  {
   "cell_type": "markdown",
   "id": "destroyed-culture",
   "metadata": {},
   "source": [
    "## Problem Statement\n",
    "\n",
    "Analyze the cricket dataset and predict the score after 6 overs for a match."
   ]
  },
  {
   "cell_type": "markdown",
   "id": "photographic-synthetic",
   "metadata": {},
   "source": [
    "## Dataset\n",
    "\n",
    "Source: [CricSheet](https://cricsheet.org/) > [Download T20 Dataset](https://cricsheet.org/downloads/t20s_male_csv2.zip)\n"
   ]
  },
  {
   "cell_type": "markdown",
   "id": "figured-manual",
   "metadata": {},
   "source": [
    "### Exploratory Data Analysis - EDA\n",
    "\n",
    "- No of Features: 22\n",
    "- Total Records: 194K\n",
    "- Features have a mix of date, number and string\n",
    "- Contains Null Values"
   ]
  },
  {
   "cell_type": "code",
   "execution_count": null,
   "id": "premier-finger",
   "metadata": {},
   "outputs": [],
   "source": [
    "#!about"
   ]
  },
  {
   "cell_type": "markdown",
   "id": "subtle-cricket",
   "metadata": {},
   "source": [
    "### 1. Define Application wide Items"
   ]
  },
  {
   "cell_type": "markdown",
   "id": "specified-listing",
   "metadata": {},
   "source": [
    "#### Nuget Packages"
   ]
  },
  {
   "cell_type": "code",
   "execution_count": 1,
   "id": "advisory-baptist",
   "metadata": {
    "scrolled": true
   },
   "outputs": [
    {
     "data": {
      "text/html": [
       "\r\n",
       "<div>\r\n",
       "    <div id='dotnet-interactive-this-cell-18360.Microsoft.DotNet.Interactive.Http.HttpPort' style='display: none'>\r\n",
       "        The below script needs to be able to find the current output cell; this is an easy method to get it.\r\n",
       "    </div>\r\n",
       "    <script type='text/javascript'>\r\n",
       "async function probeAddresses(probingAddresses) {\r\n",
       "    function timeout(ms, promise) {\r\n",
       "        return new Promise(function (resolve, reject) {\r\n",
       "            setTimeout(function () {\r\n",
       "                reject(new Error('timeout'))\r\n",
       "            }, ms)\r\n",
       "            promise.then(resolve, reject)\r\n",
       "        })\r\n",
       "    }\r\n",
       "\r\n",
       "    if (Array.isArray(probingAddresses)) {\r\n",
       "        for (let i = 0; i < probingAddresses.length; i++) {\r\n",
       "\r\n",
       "            let rootUrl = probingAddresses[i];\r\n",
       "\r\n",
       "            if (!rootUrl.endsWith('/')) {\r\n",
       "                rootUrl = `${rootUrl}/`;\r\n",
       "            }\r\n",
       "\r\n",
       "            try {\r\n",
       "                let response = await timeout(1000, fetch(`${rootUrl}discovery`, {\r\n",
       "                    method: 'POST',\r\n",
       "                    cache: 'no-cache',\r\n",
       "                    mode: 'cors',\r\n",
       "                    timeout: 1000,\r\n",
       "                    headers: {\r\n",
       "                        'Content-Type': 'text/plain'\r\n",
       "                    },\r\n",
       "                    body: probingAddresses[i]\r\n",
       "                }));\r\n",
       "\r\n",
       "                if (response.status == 200) {\r\n",
       "                    return rootUrl;\r\n",
       "                }\r\n",
       "            }\r\n",
       "            catch (e) { }\r\n",
       "        }\r\n",
       "    }\r\n",
       "}\r\n",
       "\r\n",
       "function loadDotnetInteractiveApi() {\r\n",
       "    probeAddresses([\"http://10.45.72.190:1000/\", \"http://172.19.208.1:1000/\", \"http://192.168.1.40:1000/\", \"http://127.0.0.1:1000/\"])\r\n",
       "        .then((root) => {\r\n",
       "        // use probing to find host url and api resources\r\n",
       "        // load interactive helpers and language services\r\n",
       "        let dotnetInteractiveRequire = require.config({\r\n",
       "        context: '18360.Microsoft.DotNet.Interactive.Http.HttpPort',\r\n",
       "                paths:\r\n",
       "            {\r\n",
       "                'dotnet-interactive': `${root}resources`\r\n",
       "                }\r\n",
       "        }) || require;\r\n",
       "\r\n",
       "            window.dotnetInteractiveRequire = dotnetInteractiveRequire;\r\n",
       "\r\n",
       "            window.configureRequireFromExtension = function(extensionName, extensionCacheBuster) {\r\n",
       "                let paths = {};\r\n",
       "                paths[extensionName] = `${root}extensions/${extensionName}/resources/`;\r\n",
       "                \r\n",
       "                let internalRequire = require.config({\r\n",
       "                    context: extensionCacheBuster,\r\n",
       "                    paths: paths,\r\n",
       "                    urlArgs: `cacheBuster=${extensionCacheBuster}`\r\n",
       "                    }) || require;\r\n",
       "\r\n",
       "                return internalRequire\r\n",
       "            };\r\n",
       "        \r\n",
       "            dotnetInteractiveRequire([\r\n",
       "                    'dotnet-interactive/dotnet-interactive'\r\n",
       "                ],\r\n",
       "                function (dotnet) {\r\n",
       "                    dotnet.init(window);\r\n",
       "                },\r\n",
       "                function (error) {\r\n",
       "                    console.log(error);\r\n",
       "                }\r\n",
       "            );\r\n",
       "        })\r\n",
       "        .catch(error => {console.log(error);});\r\n",
       "    }\r\n",
       "\r\n",
       "// ensure `require` is available globally\r\n",
       "if ((typeof(require) !==  typeof(Function)) || (typeof(require.config) !== typeof(Function))) {\r\n",
       "    let require_script = document.createElement('script');\r\n",
       "    require_script.setAttribute('src', 'https://cdnjs.cloudflare.com/ajax/libs/require.js/2.3.6/require.min.js');\r\n",
       "    require_script.setAttribute('type', 'text/javascript');\r\n",
       "    \r\n",
       "    \r\n",
       "    require_script.onload = function() {\r\n",
       "        loadDotnetInteractiveApi();\r\n",
       "    };\r\n",
       "\r\n",
       "    document.getElementsByTagName('head')[0].appendChild(require_script);\r\n",
       "}\r\n",
       "else {\r\n",
       "    loadDotnetInteractiveApi();\r\n",
       "}\r\n",
       "\r\n",
       "    </script>\r\n",
       "</div>"
      ]
     },
     "metadata": {},
     "output_type": "display_data"
    },
    {
     "data": {
      "text/plain": [
       "Installed package Daany.DataFrame version 1.0.0"
      ]
     },
     "metadata": {},
     "output_type": "display_data"
    },
    {
     "data": {
      "text/plain": [
       "Installed package Microsoft.ML.FastTree version 1.7.0"
      ]
     },
     "metadata": {},
     "output_type": "display_data"
    },
    {
     "data": {
      "text/plain": [
       "Installed package CsvHelper version 27.2.1"
      ]
     },
     "metadata": {},
     "output_type": "display_data"
    },
    {
     "data": {
      "text/plain": [
       "Installed package Microsoft.Data.Analysis version 0.19.0"
      ]
     },
     "metadata": {},
     "output_type": "display_data"
    },
    {
     "data": {
      "text/plain": [
       "Installed package Microsoft.ML version 1.7.0"
      ]
     },
     "metadata": {},
     "output_type": "display_data"
    },
    {
     "data": {
      "text/markdown": [
       "Loading extensions from `Microsoft.Data.Analysis.Interactive.dll`"
      ]
     },
     "metadata": {},
     "output_type": "display_data"
    }
   ],
   "source": [
    "// ML.NET Nuget packages installation\n",
    "#r \"nuget:Microsoft.ML\"\n",
    "#r \"nuget:Microsoft.ML.FastTree\"    \n",
    "#r \"nuget:Microsoft.Data.Analysis\"\n",
    "#r \"nuget:Daany.DataFrame, 1.0.0\"\n",
    "#r \"nuget:CsvHelper\""
   ]
  },
  {
   "cell_type": "markdown",
   "id": "green-groove",
   "metadata": {},
   "source": [
    "#### Namespaces"
   ]
  },
  {
   "cell_type": "code",
   "execution_count": null,
   "id": "imposed-sussex",
   "metadata": {},
   "outputs": [],
   "source": [
    "using CsvHelper;\n",
    "using CsvHelper.Configuration;\n",
    "using Daany;\n",
    "using Microsoft.ML;\n",
    "using Microsoft.ML.Data;\n",
    "using Microsoft.Data.Analysis;\n",
    "using Microsoft.AspNetCore.Html;\n",
    "using Microsoft.DotNet.Interactive.Formatting;\n",
    "using static Microsoft.DotNet.Interactive.Formatting.PocketViewTags;\n",
    "using System.Net.Http;\n",
    "using System.IO;\n",
    "using System.IO.Compression;\n",
    "using System.Globalization;"
   ]
  },
  {
   "cell_type": "markdown",
   "id": "irish-announcement",
   "metadata": {},
   "source": [
    "#### Constants"
   ]
  },
  {
   "cell_type": "code",
   "execution_count": null,
   "id": "ancient-replication",
   "metadata": {},
   "outputs": [],
   "source": [
    "// File\n",
    "const string DATASET_DIRECTORY = \"t20s_male_csv2\";\n",
    "const string DATASET_FILE = \"t20s_male_csv2.zip\";\n",
    "const string DATASET_URL = \"https://cricsheet.org/downloads/\";\n",
    "const string DATASET_MERGED_CSV = \"t20_merged.csv\";\n",
    "const string DATASET_ALL_CSV = \"t20_all.csv\";\n",
    "const string DATASET_CLEANED_CSV = \"t20_cleaned.csv\";\n",
    "const string MODEL_FILE = \"model.zip\";\n",
    "const string SEARCH_PATTERN = \"*.csv\";\n",
    "\n",
    "// DataFrame/Table\n",
    "const int TOP_COUNT = 5;\n",
    "const int DEFAULT_ROW_COUNT = 10;\n",
    "\n",
    "// Columns\n",
    "const string CSV_COLUMN_BALL = \"ball\";\n",
    "const string CSV_COLUMN_SCORE = \"score\";\n",
    "const string CSV_COLUMN_RUNS_OFF_BAT = \"runs_off_bat\";\n",
    "const string CSV_COLUMN_EXTRAS = \"extras\";\n",
    "const string CSV_COLUMN_TOTAL_SCORE = \"total_score\";\n",
    "const string CSV_COLUMN_VENUE = \"venue\";\n",
    "const string CSV_COLUMN_INNINGS = \"innings\";\n",
    "const string CSV_COLUMN_BATTING_TEAM = \"batting_team\";\n",
    "const string CSV_COLUMN_BOWLING_TEAM = \"bowling_team\";\n",
    "const string CSV_COLUMN_STRIKER = \"striker\";\n",
    "const string CSV_COLUMN_NON_STRIKER = \"non_striker\";\n",
    "const string CSV_COLUMN_BOWLER = \"bowler\";\n",
    "\n",
    "// Misc\n",
    "const float OVER_THRESHOLD = 6.0f;"
   ]
  },
  {
   "cell_type": "markdown",
   "id": "broken-progress",
   "metadata": {},
   "source": [
    "### 2. Utility Functions"
   ]
  },
  {
   "cell_type": "markdown",
   "id": "continuing-detroit",
   "metadata": {},
   "source": [
    "#### Merges multiple CSV files present in specified directory"
   ]
  },
  {
   "cell_type": "code",
   "execution_count": null,
   "id": "significant-forty",
   "metadata": {},
   "outputs": [],
   "source": [
    "public void MergeCsv(string sourceFolder, string destinationFile, string searchPattern, Predicate<string> excludeFiles)\n",
    "{\n",
    "    /*\n",
    "     https://chris.koester.io/index.php/2017/01/27/combine-csv-files/\n",
    "     C# script combines multiple csv files without duplicating headers.\n",
    "     Combining 8 files with a combined total of about 9.2 million rows \n",
    "     took about 3.5 minutes on a network share and 44 seconds on an SSD.\n",
    "    */\n",
    "\n",
    "    // Specify wildcard search to match CSV files that will be combined\n",
    "    string[] filePaths = Array.FindAll(Directory.GetFiles(sourceFolder, searchPattern, SearchOption.AllDirectories), excludeFiles);\n",
    "    StreamWriter fileDest = new StreamWriter(destinationFile, true);\n",
    "\n",
    "    int i;\n",
    "    for (i = 0; i < filePaths.Length; i++)\n",
    "    {\n",
    "        string file = filePaths[i];\n",
    "\n",
    "        string[] lines = File.ReadAllLines(file);\n",
    "\n",
    "        if (i > 0)\n",
    "        {\n",
    "            lines = lines.Skip(1).ToArray(); // Skip header row for all but first file\n",
    "        }\n",
    "\n",
    "        foreach (string line in lines)\n",
    "        {\n",
    "            fileDest.WriteLine(line);\n",
    "        }\n",
    "    }\n",
    "\n",
    "    fileDest.Close();\n",
    "}"
   ]
  },
  {
   "cell_type": "code",
   "execution_count": null,
   "id": "functional-webcam",
   "metadata": {},
   "outputs": [],
   "source": [
    "/// <summary>\n",
    "/// Exclude files based on a condition\n",
    "/// </summary>\n",
    "/// <param name=\"fileName\">Name of the file</param>\n",
    "/// <returns>True, if matched else false</returns>\n",
    "public bool ExcludeFiles(string fileName)\n",
    "{\n",
    "    if (fileName.EndsWith(\"info.csv\"))\n",
    "    {\n",
    "        return false;\n",
    "    }\n",
    "    return true;\n",
    "}"
   ]
  },
  {
   "cell_type": "markdown",
   "id": "thick-royal",
   "metadata": {},
   "source": [
    "#### Formatters\n",
    "\n",
    "By default the output of DataFrame is not proper and in order to display it as a table, we need to have a custom formatter implemented as shown in next cell. "
   ]
  },
  {
   "cell_type": "code",
   "execution_count": null,
   "id": "acquired-repository",
   "metadata": {},
   "outputs": [],
   "source": [
    "// Formats the table\n",
    "Formatter.Register(typeof(Microsoft.Data.Analysis.DataFrame),(dataFrame, writer) =>\n",
    "{\n",
    "    var df = dataFrame as Microsoft.Data.Analysis.DataFrame;\n",
    "    var headers = new List<IHtmlContent>();\n",
    "    headers.Add(th(i(\"index\")));\n",
    "    headers.AddRange(df.Columns.Select(c => (IHtmlContent)th(c.Name)));\n",
    "    var rows = new List<List<IHtmlContent>>();\n",
    "    var take = 10;\n",
    "    for (var i = 0; i < Math.Min(take, df.Rows.Count); i++)\n",
    "    {\n",
    "        var cells = new List<IHtmlContent>();\n",
    "        cells.Add(td(i));\n",
    "        foreach (var obj in df.Rows[i])\n",
    "        {\n",
    "            cells.Add(td(obj));\n",
    "        }\n",
    "        rows.Add(cells);\n",
    "    }\n",
    "\n",
    "    var t = table(\n",
    "        thead(\n",
    "            headers),\n",
    "        tbody(\n",
    "            rows.Select(\n",
    "                r => tr(r))));\n",
    "\n",
    "    writer.Write(t);\n",
    "}, \"text/html\");"
   ]
  },
  {
   "cell_type": "code",
   "execution_count": null,
   "id": "revised-promise",
   "metadata": {},
   "outputs": [],
   "source": [
    "// Formats the Danny DataFrame\n",
    "/* Formatter.Register(typeof(Daany.DataFrame), (dataFrame, writer) =>\n",
    "{\n",
    "    var df = dataFrame as Daany.DataFrame;\n",
    "    var headers = new List<IHtmlContent>();\n",
    "    headers.Add(th(i(\"index\")));\n",
    "    headers.AddRange(df.Columns.Select(c => (IHtmlContent)th(c)));\n",
    "    var rows = new List<List<IHtmlContent>>();\n",
    "    var take = 10;\n",
    "    for (var i = 0; i < Math.Min(take, df.RowCount()); i++)\n",
    "    {\n",
    "        var cells = new List<IHtmlContent>();\n",
    "        cells.Add(td(i));\n",
    "        foreach (var obj in df.GetRowEnumerator())\n",
    "        {\n",
    "            cells.Add(td(obj));\n",
    "        }\n",
    "        rows.Add(cells);\n",
    "    }\n",
    "\n",
    "    var t = table(\n",
    "        thead(\n",
    "            headers),\n",
    "        tbody(\n",
    "            rows.Select(\n",
    "                r => tr(r))));\n",
    "\n",
    "    writer.Write(t);\n",
    "}, \"text/html\"); */"
   ]
  },
  {
   "cell_type": "markdown",
   "id": "confused-terrorism",
   "metadata": {},
   "source": [
    "### 2. Load Dataset"
   ]
  },
  {
   "cell_type": "markdown",
   "id": "equipped-feedback",
   "metadata": {},
   "source": [
    "The Dataset present in Cricksheet is in compressed zip format. Internally it contains csv file that we will be using for our analysis and prediction."
   ]
  },
  {
   "cell_type": "markdown",
   "id": "healthy-tracker",
   "metadata": {},
   "source": [
    "#### 2.a Cleans Previous Data"
   ]
  },
  {
   "cell_type": "code",
   "execution_count": null,
   "id": "domestic-trigger",
   "metadata": {},
   "outputs": [],
   "source": [
    "/// <summary>\n",
    "/// Cleans previous data present in current working directory\n",
    "/// </summary>\n",
    "public void CleanPreviousData()\n",
    "{\n",
    "    if (File.Exists(DATASET_FILE))\n",
    "    {\n",
    "        File.Delete(DATASET_FILE);\n",
    "    }\n",
    "\n",
    "    if (File.Exists(DATASET_MERGED_CSV))\n",
    "    {\n",
    "        File.Delete(DATASET_MERGED_CSV);\n",
    "    }\n",
    "    \n",
    "    if (File.Exists(DATASET_CLEANED_CSV))\n",
    "    {\n",
    "        File.Delete(DATASET_CLEANED_CSV);\n",
    "    }\n",
    "    \n",
    "    if (Directory.Exists(DATASET_DIRECTORY))\n",
    "    {\n",
    "        Directory.Delete(DATASET_DIRECTORY, true);\n",
    "    }\n",
    "}"
   ]
  },
  {
   "cell_type": "markdown",
   "id": "crucial-hobby",
   "metadata": {},
   "source": [
    "#### 2.b Loads the Dataset and returns a DataFrame"
   ]
  },
  {
   "cell_type": "code",
   "execution_count": null,
   "id": "interested-kernel",
   "metadata": {},
   "outputs": [],
   "source": [
    "/// <summary>\n",
    "/// Loads the dataset from specified URL\n",
    "/// </summary>\n",
    "/// <param name=\"url\">Remote URL</param>\n",
    "/// <param name=\"fileName\">Name of the file</param>\n",
    "/// <returns>A DataFrame</returns>\n",
    "public async Task<Microsoft.Data.Analysis.DataFrame> LoadDatasetAsync(string url, string fileName)\n",
    "{\n",
    "    // Delete previous data\n",
    "    CleanPreviousData();\n",
    "\n",
    "    // Loads zip file from remote URL\n",
    "    var remoteFilePath = Path.Combine(url, fileName);\n",
    "    using (var httpClient = new HttpClient())\n",
    "    {\n",
    "        var contents = await httpClient.GetByteArrayAsync(remoteFilePath);\n",
    "        await File.WriteAllBytesAsync(fileName, contents);\n",
    "    }\n",
    "\n",
    "    // Unzip file -> Merge CSV -> Load to DataFrame\n",
    "    if (File.Exists(fileName))\n",
    "    {\n",
    "        var extractedDirectory = Path.Combine(Directory.GetCurrentDirectory(), DATASET_DIRECTORY);\n",
    "\n",
    "        try\n",
    "        {\n",
    "            ZipFile.ExtractToDirectory(fileName, extractedDirectory);\n",
    "            MergeCsv(extractedDirectory, DATASET_MERGED_CSV, SEARCH_PATTERN, ExcludeFiles);\n",
    "\n",
    "            return Microsoft.Data.Analysis.DataFrame.LoadCsv(DATASET_MERGED_CSV);\n",
    "        }\n",
    "        catch (Exception e)\n",
    "        {\n",
    "            display(e);\n",
    "            throw;\n",
    "        }\n",
    "\n",
    "    }\n",
    "\n",
    "    return new Microsoft.Data.Analysis.DataFrame();\n",
    "}"
   ]
  },
  {
   "cell_type": "code",
   "execution_count": null,
   "id": "stone-accident",
   "metadata": {},
   "outputs": [],
   "source": [
    "var cricketDataFrame = await LoadDatasetAsync(DATASET_URL, DATASET_FILE);"
   ]
  },
  {
   "cell_type": "markdown",
   "id": "imported-lucas",
   "metadata": {},
   "source": [
    "#### Filtering\n",
    "\n",
    "As we are considering data for initial 6 overs of a match, we need to remove data for further overs"
   ]
  },
  {
   "cell_type": "code",
   "execution_count": null,
   "id": "subsequent-casting",
   "metadata": {},
   "outputs": [],
   "source": [
    "var filterColumn = cricketDataFrame.Columns[CSV_COLUMN_BALL].ElementwiseLessThanOrEqual(OVER_THRESHOLD);\n",
    "var sixOverDataFrame = cricketDataFrame.Filter(filterColumn);"
   ]
  },
  {
   "cell_type": "markdown",
   "id": "innovative-system",
   "metadata": {},
   "source": [
    "### 3. Data Analysis"
   ]
  },
  {
   "cell_type": "code",
   "execution_count": null,
   "id": "northern-engineer",
   "metadata": {},
   "outputs": [],
   "source": [
    "sixOverDataFrame.Head(TOP_COUNT)"
   ]
  },
  {
   "cell_type": "code",
   "execution_count": null,
   "id": "accompanied-banana",
   "metadata": {},
   "outputs": [],
   "source": [
    "sixOverDataFrame.Info()"
   ]
  },
  {
   "cell_type": "code",
   "execution_count": null,
   "id": "opposite-proposal",
   "metadata": {},
   "outputs": [],
   "source": [
    "sixOverDataFrame.Description()"
   ]
  },
  {
   "cell_type": "markdown",
   "id": "sound-translation",
   "metadata": {},
   "source": [
    "### Score and Total Score\n",
    "\n",
    "The dataset contains various runs scored every ball such as runs_off_bat, extras, wides, legbyes etc. There is no column for runs scored per ball.\n",
    "We could get it by adding 'runs_off_bat' and 'extras'.\n",
    "\n",
    "**Score = runs_off_bat + extras**\n",
    "\n",
    "Similary we can get total runs per ball by having a cumulative sum of runs per ball in a inning.\n",
    "\n",
    "**Total Score = CumulativeSum(Score/inning)**"
   ]
  },
  {
   "cell_type": "code",
   "execution_count": null,
   "id": "nominated-bloom",
   "metadata": {},
   "outputs": [],
   "source": [
    "// Add a column for Total Score\n",
    "sixOverDataFrame.Columns.Add(new PrimitiveDataFrameColumn<int>(CSV_COLUMN_SCORE, sixOverDataFrame.Rows.Count));\n",
    "sixOverDataFrame.Columns[CSV_COLUMN_SCORE] = sixOverDataFrame.Columns[CSV_COLUMN_RUNS_OFF_BAT] + sixOverDataFrame.Columns[CSV_COLUMN_EXTRAS];"
   ]
  },
  {
   "cell_type": "code",
   "execution_count": null,
   "id": "spectacular-problem",
   "metadata": {},
   "outputs": [],
   "source": [
    "sixOverDataFrame.Info()"
   ]
  },
  {
   "cell_type": "code",
   "execution_count": null,
   "id": "oriental-brooklyn",
   "metadata": {},
   "outputs": [],
   "source": [
    "sixOverDataFrame.Head(20)"
   ]
  },
  {
   "cell_type": "markdown",
   "id": "portable-plastic",
   "metadata": {},
   "source": [
    "#### Total Score"
   ]
  },
  {
   "cell_type": "code",
   "execution_count": null,
   "id": "preceding-weather",
   "metadata": {},
   "outputs": [],
   "source": [
    "public void AddTotalScorePerBall(Microsoft.Data.Analysis.DataFrame df)\n",
    "{\n",
    "    // calculate total_score per ball\n",
    "    df.Columns.Add(new PrimitiveDataFrameColumn<Single>(CSV_COLUMN_TOTAL_SCORE, df.Rows.Count));\n",
    "    Single previousMatchId = -1;\n",
    "    Single previousInning = -1;\n",
    "    Single previousScore = -1;\n",
    "\n",
    "    foreach (var dfRow in df.Rows)\n",
    "    {\n",
    "        var matchId = (Single)dfRow[0];\n",
    "        var inning = (Single)dfRow[4];\n",
    "        var score = (Single)dfRow[df.Columns.Count - 2]; // Score\n",
    "\n",
    "        if (previousMatchId == -1) // First time\n",
    "        {\n",
    "            // Reset\n",
    "            previousMatchId = matchId;\n",
    "            previousInning = inning;\n",
    "\n",
    "            if (previousScore == -1)\n",
    "            {\n",
    "                previousScore = score;\n",
    "            }\n",
    "        }\n",
    "\n",
    "        if (matchId == previousMatchId && inning == previousInning)\n",
    "        {\n",
    "            Single newScore = previousScore + score;\n",
    "\n",
    "            // Total Score\n",
    "            dfRow[df.Columns.Count - 1] = (Single)newScore;\n",
    "            previousScore = newScore;\n",
    "        }\n",
    "        else\n",
    "        {\n",
    "            // Total Score\n",
    "            dfRow[df.Columns.Count - 1] = (Single)score;\n",
    "            \n",
    "            // Reset\n",
    "            previousMatchId = -1;\n",
    "            previousInning = -1;\n",
    "            previousScore = score;\n",
    "        }\n",
    "    }    \n",
    "}"
   ]
  },
  {
   "cell_type": "code",
   "execution_count": null,
   "id": "severe-supervision",
   "metadata": {},
   "outputs": [],
   "source": [
    "AddTotalScorePerBall(sixOverDataFrame);"
   ]
  },
  {
   "cell_type": "code",
   "execution_count": null,
   "id": "dressed-clerk",
   "metadata": {},
   "outputs": [],
   "source": [
    "display(sixOverDataFrame)"
   ]
  },
  {
   "cell_type": "markdown",
   "id": "printable-offense",
   "metadata": {},
   "source": [
    "### Feature Selection\n",
    "\n",
    "There are 24 total columns in the dataset now. Not all of them are relevant for making prediction. There are different strategies available for Feature selection such as confusion matrix, seaborn plot which can be applied to select appropriate features. In order to keep things simple, I have chosen few parameters after performing different combinations. The features selected are as follows.\n",
    "\n",
    "**Input Features**\n",
    "- venue\n",
    "- innings\n",
    "- ball\n",
    "- batting_team\n",
    "- bowling_team\n",
    "- striker\n",
    "- non_striker\n",
    "- bowler\n",
    "\n",
    "**Output**\n",
    "- total_runs"
   ]
  },
  {
   "cell_type": "code",
   "execution_count": null,
   "id": "black-audio",
   "metadata": {},
   "outputs": [],
   "source": [
    "// Remove extra features\n",
    "sixOverDataFrame.Columns.Remove(\"match_id\");\n",
    "sixOverDataFrame.Columns.Remove(\"season\");\n",
    "sixOverDataFrame.Columns.Remove(\"start_date\");\n",
    "sixOverDataFrame.Columns.Remove(\"runs_off_bat\");\n",
    "sixOverDataFrame.Columns.Remove(\"extras\");\n",
    "sixOverDataFrame.Columns.Remove(\"wides\");\n",
    "sixOverDataFrame.Columns.Remove(\"noballs\");\n",
    "sixOverDataFrame.Columns.Remove(\"byes\");\n",
    "sixOverDataFrame.Columns.Remove(\"legbyes\");\n",
    "sixOverDataFrame.Columns.Remove(\"penalty\");\n",
    "sixOverDataFrame.Columns.Remove(\"player_dismissed\");\n",
    "sixOverDataFrame.Columns.Remove(\"other_wicket_type\");\n",
    "sixOverDataFrame.Columns.Remove(\"other_player_dismissed\");\n",
    "sixOverDataFrame.Columns.Remove(\"score\");\n",
    "sixOverDataFrame.Columns.Remove(\"wicket_type\");"
   ]
  },
  {
   "cell_type": "code",
   "execution_count": null,
   "id": "opponent-banking",
   "metadata": {},
   "outputs": [],
   "source": [
    "display(sixOverDataFrame);"
   ]
  },
  {
   "cell_type": "code",
   "execution_count": null,
   "id": "associate-arcade",
   "metadata": {},
   "outputs": [],
   "source": [
    "sixOverDataFrame.Info()"
   ]
  },
  {
   "cell_type": "code",
   "execution_count": null,
   "id": "secure-action",
   "metadata": {},
   "outputs": [],
   "source": [
    "sixOverDataFrame.Description()"
   ]
  },
  {
   "cell_type": "markdown",
   "id": "ranking-cleaner",
   "metadata": {},
   "source": [
    "**Note** In order to make predictions, ML.Net requires a csv file that could be loaded by ML.Net API's. There is no direct way of loading a DataFrame to make predictions and DataFrame API doesn't expose any API to save the DataFrame to a csv file. \n",
    "\n",
    "I discovered a library 'Danny' which allows creating, manipulating and saving the DataFrame to a CSV file. \n",
    "\n",
    "<img src=\"assets\\daany-dotnet.png\" alt=\"Danny dotnet\" style=\"zoom:60%;margin:auto;\">\n",
    "\n",
    "\n",
    "Link: https://github.com/bhrnjica/daany\n",
    "\n",
    "I'll be using this library to recreate the DataFrame, perform modifications same as above and save it as a CSV file to be used for prediction. I found it to be very flexible. As this is kind of repetitive thing, you can skip to Training section for model creation and training.\n"
   ]
  },
  {
   "cell_type": "markdown",
   "id": "funded-mother",
   "metadata": {},
   "source": [
    "### Data Manipulation\n",
    "- Take records till 6 overs\n",
    "- Remove missing values\n",
    "- Add 'score' column representing runs per ball\n",
    "- Add 'total_score' column to get the total score till the current ball"
   ]
  },
  {
   "cell_type": "markdown",
   "id": "intellectual-pressure",
   "metadata": {},
   "source": [
    "**Note** \n",
    "The csv dataset file has some values which contains comma ',' in the cell value such as venue having \"Simonds Stadium, South Geelong\". As a result of which, ML.Net LoadFromTextFile(...) API loads in a wrong manner and consider them to be two separate value instead of single. In order to oversome this, I have written a helper function CreateCsvAndReplaceSeparatorInCells(...) to replace comma with the specified character. "
   ]
  },
  {
   "cell_type": "code",
   "execution_count": null,
   "id": "paperback-independence",
   "metadata": {},
   "outputs": [],
   "source": [
    "/// <summary>\n",
    "/// Replace a character in a cell of csv with a defined separator\n",
    "/// </summary>\n",
    "/// <param name=\"inputFile\">Name of input file</param>\n",
    "/// <param name=\"outputFile\">Name of output file</param>\n",
    "/// <param name=\"separator\">Separator such as comma</param>\n",
    "/// <param name=\"separatorReplacement\">Replacement character such as underscore</param>\n",
    "private static void CreateCsvAndReplaceSeparatorInCells(string inputFile, string outputFile, char separator, char separatorReplacement)\n",
    "{\n",
    "    var culture = CultureInfo.InvariantCulture;\n",
    "    using var reader = new StreamReader(inputFile);\n",
    "    using var csvIn = new CsvReader(reader, new CsvConfiguration(culture));\n",
    "    using var recordsIn = new CsvDataReader(csvIn);\n",
    "    using var writer = new StreamWriter(outputFile);\n",
    "    using var outCsv = new CsvWriter(writer, culture);\n",
    "\n",
    "    // Write Header\n",
    "    csvIn.ReadHeader();\n",
    "    var headers = csvIn.HeaderRecord;\n",
    "    foreach (var header in headers)\n",
    "    {\n",
    "        outCsv.WriteField(header.Replace(separator, separatorReplacement));\n",
    "    }\n",
    "    outCsv.NextRecord();\n",
    "\n",
    "    // Write rows\n",
    "    while (recordsIn.Read())\n",
    "    {\n",
    "        var columns = recordsIn.FieldCount;\n",
    "        for (var index = 0; index < columns; index++)\n",
    "        {\n",
    "            var cellValue = recordsIn.GetString(index);\n",
    "            outCsv.WriteField(cellValue.Replace(separator, separatorReplacement));\n",
    "        }\n",
    "        outCsv.NextRecord();\n",
    "    }\n",
    "}"
   ]
  },
  {
   "cell_type": "code",
   "execution_count": null,
   "id": "specified-swimming",
   "metadata": {},
   "outputs": [],
   "source": [
    "CreateCsvAndReplaceSeparatorInCells(DATASET_MERGED_CSV,  DATASET_ALL_CSV, ',', '_');"
   ]
  },
  {
   "cell_type": "code",
   "execution_count": null,
   "id": "indonesian-finger",
   "metadata": {},
   "outputs": [],
   "source": [
    "// Load CSV\n",
    "Daany.DataFrame cricketDaanyDataFrame = Daany.DataFrame.FromCsv(DATASET_ALL_CSV);\n",
    "display(cricketDaanyDataFrame.RowCount());    "
   ]
  },
  {
   "cell_type": "code",
   "execution_count": null,
   "id": "controversial-texas",
   "metadata": {},
   "outputs": [],
   "source": [
    "// Remove missing values\n",
    "var missingValues = cricketDaanyDataFrame.MissingValues();\n",
    "\n",
    "List<string> nonNullColumns = new List<string>();\n",
    "foreach (var dfColumn in cricketDaanyDataFrame.Columns)\n",
    "{\n",
    "    if (!missingValues.ContainsKey(dfColumn))\n",
    "    {\n",
    "        display(dfColumn);\n",
    "        nonNullColumns.Add(dfColumn);\n",
    "    }\n",
    "}\n",
    "\n",
    "cricketDaanyDataFrame = cricketDaanyDataFrame[nonNullColumns.ToArray()];\n",
    "display(cricketDaanyDataFrame);"
   ]
  },
  {
   "cell_type": "code",
   "execution_count": null,
   "id": "developed-neutral",
   "metadata": {},
   "outputs": [],
   "source": [
    "// Filter dataset to include till 6 overs and discard beyond that\n",
    "var sixBallDaanyDataFrame = cricketDaanyDataFrame.Filter(CSV_COLUMN_BALL, OVER_THRESHOLD, FilterOperator.LessOrEqual);"
   ]
  },
  {
   "cell_type": "code",
   "execution_count": null,
   "id": "pregnant-filter",
   "metadata": {},
   "outputs": [],
   "source": [
    "// Add 'score' column\n",
    "sixBallDaanyDataFrame.AddCalculatedColumn(CSV_COLUMN_SCORE, (r, i) =>\n",
    "{\n",
    "    return Convert.ToInt32(r[CSV_COLUMN_RUNS_OFF_BAT]) + Convert.ToInt32(r[CSV_COLUMN_EXTRAS]);\n",
    "});"
   ]
  },
  {
   "cell_type": "markdown",
   "id": "increasing-found",
   "metadata": {},
   "source": [
    "#### Calculating Total Score\n",
    "There is no direct way to calculate the total score as it has to be cumulative sum and restricted to 6 overs only in the dataset. I have written a function to calculat the Total Score"
   ]
  },
  {
   "cell_type": "code",
   "execution_count": null,
   "id": "fuzzy-binary",
   "metadata": {},
   "outputs": [],
   "source": [
    "/// <summary>\n",
    "/// Adds a total_score column to the DataFrame by calculating the cumulative sum\n",
    "/// </summary>\n",
    "/// <param name=\"df\">DataFrame to which new column is added</param>\n",
    "public void AddTotalScorePerBallDaany(Daany.DataFrame df)\n",
    "{\n",
    "    // https://github.com/bhrnjica/daany\n",
    "    // calculate total_score per ball\n",
    "    df.AddCalculatedColumn(CSV_COLUMN_TOTAL_SCORE, (r, i) =>\n",
    "    {\n",
    "        var response = Convert.ToSingle(r[CSV_COLUMN_SCORE]);\n",
    "        return 0;\n",
    "    });\n",
    "\n",
    "    int previousMatchId = -1;\n",
    "    int previousInning = -1;\n",
    "    float previousScore = -1;\n",
    "    int rowIndex = 0;\n",
    "\n",
    "    foreach (var dfRow in df.GetRowEnumerator())\n",
    "    {\n",
    "        var matchId = (int)dfRow[0];\n",
    "        var inning = (int)dfRow[4];\n",
    "        var score = Convert.ToSingle(dfRow[df.Columns.Count - 2]); // Score\n",
    "\n",
    "        if (previousMatchId == -1) // First time\n",
    "        {\n",
    "            // Reset\n",
    "            previousMatchId = matchId;\n",
    "            previousInning = inning;\n",
    "\n",
    "            if (previousScore == -1)\n",
    "            {\n",
    "                previousScore = score;\n",
    "            }\n",
    "        }\n",
    "\n",
    "        if (matchId == previousMatchId && inning == previousInning)\n",
    "        {\n",
    "            float newScore = previousScore + score;\n",
    "\n",
    "            // Total Score\n",
    "            dfRow[df.Columns.Count - 1] = newScore;\n",
    "\n",
    "            df[rowIndex, df.Columns.Count - 1] = newScore;\n",
    "            previousScore = newScore;\n",
    "        }\n",
    "        else\n",
    "        {\n",
    "            // Total Score\n",
    "            dfRow[df.Columns.Count - 1] = score;\n",
    "            df[rowIndex, df.Columns.Count - 1] = score;\n",
    "\n",
    "            // Reset\n",
    "            previousMatchId = -1;\n",
    "            previousInning = -1;\n",
    "            previousScore = score;\n",
    "        }\n",
    "\n",
    "        rowIndex++;\n",
    "    }\n",
    "}"
   ]
  },
  {
   "cell_type": "code",
   "execution_count": null,
   "id": "congressional-booth",
   "metadata": {},
   "outputs": [],
   "source": [
    "AddTotalScorePerBallDaany(sixBallDaanyDataFrame);\n",
    "display(sixBallDaanyDataFrame);"
   ]
  },
  {
   "cell_type": "code",
   "execution_count": null,
   "id": "committed-scottish",
   "metadata": {},
   "outputs": [],
   "source": [
    "// Filter columns\n",
    "sixBallDaanyDataFrame = sixBallDaanyDataFrame[CSV_COLUMN_VENUE, CSV_COLUMN_INNINGS, CSV_COLUMN_BALL, CSV_COLUMN_BATTING_TEAM, CSV_COLUMN_BOWLING_TEAM, CSV_COLUMN_STRIKER, CSV_COLUMN_NON_STRIKER, CSV_COLUMN_BOWLER, CSV_COLUMN_TOTAL_SCORE];\n",
    "display(sixBallDaanyDataFrame);"
   ]
  },
  {
   "cell_type": "code",
   "execution_count": null,
   "id": "accessory-camping",
   "metadata": {},
   "outputs": [],
   "source": [
    "// Save DataFrame to CSV\n",
    "Daany.DataFrame.ToCsv(DATASET_CLEANED_CSV, sixBallDaanyDataFrame);"
   ]
  },
  {
   "cell_type": "markdown",
   "id": "present-report",
   "metadata": {},
   "source": [
    "### Final Dataset Columns\n",
    "- Venue\n",
    "- Innings\n",
    "- Ball\n",
    "- Batting_Team\n",
    "- Bowling_Team\n",
    "- Striker\n",
    "- Non_Striker\n",
    "- Bowler\n",
    "- Total_Score"
   ]
  },
  {
   "cell_type": "markdown",
   "id": "otherwise-bosnia",
   "metadata": {},
   "source": [
    "### **Training**"
   ]
  },
  {
   "cell_type": "markdown",
   "id": "unavailable-vacation",
   "metadata": {},
   "source": [
    "### Data Classes\n",
    "\n",
    "We need to create few data structures to map the columns within our dataset."
   ]
  },
  {
   "cell_type": "markdown",
   "id": "upset-appraisal",
   "metadata": {},
   "source": [
    "#### Match"
   ]
  },
  {
   "cell_type": "code",
   "execution_count": null,
   "id": "polished-winner",
   "metadata": {},
   "outputs": [],
   "source": [
    "/// <summary>\n",
    "/// Represents the input features involved in prediction\n",
    "/// </summary>\n",
    "public class Match\n",
    "{\n",
    "    /// <summary>\n",
    "    /// Match venue\n",
    "    /// </summary>\n",
    "    [LoadColumn(0)]\n",
    "    public string Venue { get; set; }\n",
    "\n",
    "    /// <summary>\n",
    "    /// Innning within a Match\n",
    "    /// </summary>\n",
    "    [LoadColumn(1)]\n",
    "    public float Inning { get; set; }\n",
    "\n",
    "    /// <summary>\n",
    "    /// Current Ball being thrown\n",
    "    /// </summary>\n",
    "    [LoadColumn(2)]\n",
    "    public float Ball { get; set; }\n",
    "\n",
    "    /// <summary>\n",
    "    /// Name of the batting team\n",
    "    /// </summary>\n",
    "    [LoadColumn(3)]\n",
    "    public string BattingTeam { get; set; }\n",
    "\n",
    "    /// <summary>\n",
    "    /// Name of the bowling team\n",
    "    /// </summary>\n",
    "    [LoadColumn(4)] \n",
    "    public string BowlingTeam { get; set; }\n",
    "\n",
    "    /// <summary>\n",
    "    /// Batsman on strike\n",
    "    /// </summary>\n",
    "    [LoadColumn(5)]\n",
    "    public string Striker { get; set; }\n",
    "\n",
    "    /// <summary>\n",
    "    /// Non striker batsman\n",
    "    /// </summary>\n",
    "    [LoadColumn(6)]\n",
    "    public string NonStriker { get; set; }\n",
    "\n",
    "    /// <summary>\n",
    "    /// Current bowler\n",
    "    /// </summary>\n",
    "    [LoadColumn(7)]\n",
    "    public string Bowler { get; set; }\n",
    "\n",
    "    /// <summary>\n",
    "    /// Total score till the current ball\n",
    "    /// </summary>\n",
    "    [LoadColumn(8)]\n",
    "    public float TotalScore { get; set; }\n",
    "    \n",
    "    public override string ToString()\n",
    "    {\n",
    "        var sb = new StringBuilder();\n",
    "        sb.Append($\"Venue: {Venue}\");\n",
    "        sb.Append($\"\\nBatting Team: {BattingTeam}\");\n",
    "        sb.Append($\"\\nBowling Team: {BowlingTeam}\");\n",
    "        sb.Append($\"\\nInning: {Inning}\");\n",
    "        sb.Append($\"\\nBall: {Ball}\");\n",
    "        sb.Append($\"\\nStriker: {Striker}\");\n",
    "        sb.Append($\"\\nNon-Striker: {NonStriker}\");\n",
    "        sb.Append($\"\\nBowler: {Bowler}\");\n",
    "\n",
    "        return sb.ToString();\n",
    "    }\n",
    "}"
   ]
  },
  {
   "cell_type": "markdown",
   "id": "twenty-summer",
   "metadata": {},
   "source": [
    "#### MatchScorePrediction"
   ]
  },
  {
   "cell_type": "code",
   "execution_count": null,
   "id": "above-applicant",
   "metadata": {},
   "outputs": [],
   "source": [
    "/// <summary>\n",
    "/// Manages the score prediction \n",
    "/// </summary>\n",
    "public class MatchScorePrediction\n",
    "{\n",
    "    /// <summary>\n",
    "    /// Total runs scored by the team at the specified ball\n",
    "    /// </summary>\n",
    "    [ColumnName(\"Score\")]\n",
    "    public float TotalScore { get; set; }\n",
    "}"
   ]
  },
  {
   "cell_type": "markdown",
   "id": "solid-deadline",
   "metadata": {},
   "source": [
    "### Load Dataset"
   ]
  },
  {
   "cell_type": "code",
   "execution_count": null,
   "id": "tracked-syracuse",
   "metadata": {},
   "outputs": [],
   "source": [
    "// Load the dataset\n",
    "var mlContext = new MLContext(seed:1);\n",
    "IDataView data = mlContext.Data.LoadFromTextFile<Match>(\n",
    "    path:DATASET_CLEANED_CSV,\n",
    "    hasHeader: true,\n",
    "    separatorChar: ',');"
   ]
  },
  {
   "cell_type": "code",
   "execution_count": null,
   "id": "demographic-karaoke",
   "metadata": {},
   "outputs": [],
   "source": [
    "// Split dataset\n",
    "var trainTestData = mlContext.Data.TrainTestSplit(data, 0.2); // Training/Test : 80/20"
   ]
  },
  {
   "cell_type": "code",
   "execution_count": null,
   "id": "biblical-revelation",
   "metadata": {},
   "outputs": [],
   "source": [
    "// Transform\n",
    "var dataProcessPipeline = mlContext.Transforms.CopyColumns(outputColumnName: \"Label\", inputColumnName: nameof(Match.TotalScore))\n",
    "\n",
    "    .Append(mlContext.Transforms.Categorical.OneHotEncoding(\"VenueEncoded\", nameof(Match.Venue)))\n",
    "    .Append(mlContext.Transforms.Categorical.OneHotEncoding(\"BattingTeamEncoded\", nameof(Match.BattingTeam)))\n",
    "    .Append(mlContext.Transforms.Categorical.OneHotEncoding(\"BowlingTeamEncoded\", nameof(Match.BowlingTeam)))\n",
    "    .Append(mlContext.Transforms.Categorical.OneHotEncoding(\"StrikerEncoded\", nameof(Match.Striker)))\n",
    "    .Append(mlContext.Transforms.Categorical.OneHotEncoding(\"NonStrikerEncoded\", nameof(Match.NonStriker)))\n",
    "    .Append(mlContext.Transforms.Categorical.OneHotEncoding(\"BowlerEncoded\", nameof(Match.Bowler)))\n",
    "\n",
    "    .Append(mlContext.Transforms.Concatenate(\"Features\", \n",
    "        \"VenueEncoded\",\n",
    "                        nameof(Match.Inning),\n",
    "                        nameof(Match.Ball),\n",
    "                        \"BattingTeamEncoded\",\n",
    "                        \"BowlingTeamEncoded\",\n",
    "                        \"StrikerEncoded\",\n",
    "                        \"NonStrikerEncoded\",\n",
    "                        \"BowlerEncoded\"\n",
    "    ));"
   ]
  },
  {
   "cell_type": "code",
   "execution_count": null,
   "id": "attempted-documentary",
   "metadata": {},
   "outputs": [],
   "source": [
    "// Train\n",
    "var trainingPipeline = dataProcessPipeline.Append(mlContext.Regression.Trainers.FastTree(labelColumnName: \"Label\", featureColumnName: \"Features\"));\n",
    "var trainedModel = trainingPipeline.Fit(trainTestData.TrainSet);"
   ]
  },
  {
   "cell_type": "markdown",
   "id": "processed-cholesterol",
   "metadata": {},
   "source": [
    "### **Evaluate**"
   ]
  },
  {
   "cell_type": "code",
   "execution_count": null,
   "id": "variable-workstation",
   "metadata": {},
   "outputs": [],
   "source": [
    "var predictions = trainedModel.Transform(trainTestData.TestSet);\n",
    "var metrics = mlContext.Regression.Evaluate(predictions, \"Label\", \"Score\");\n",
    "display($\"*************************************************\");\n",
    "display($\"*       Model quality metrics evaluation         \");\n",
    "display($\"*------------------------------------------------\");\n",
    "display($\"*       RSquared Score:      {metrics.RSquared:0.##}\");\n",
    "display($\"*       Root Mean Squared Error:      {metrics.RootMeanSquaredError:#.##}\");"
   ]
  },
  {
   "cell_type": "markdown",
   "id": "friendly-yukon",
   "metadata": {},
   "source": [
    "### **Save Model**"
   ]
  },
  {
   "cell_type": "code",
   "execution_count": null,
   "id": "ignored-singing",
   "metadata": {},
   "outputs": [],
   "source": [
    "// Save\n",
    "var savedPath = Path.Combine(Directory.GetCurrentDirectory(), MODEL_FILE);\n",
    "mlContext.Model.Save(trainedModel, trainTestData.TrainSet.Schema, savedPath);\n",
    "display($\"The model is saved to {savedPath}\");"
   ]
  },
  {
   "cell_type": "markdown",
   "id": "abstract-aruba",
   "metadata": {},
   "source": [
    "### **Prediction**"
   ]
  },
  {
   "cell_type": "code",
   "execution_count": null,
   "id": "consistent-schedule",
   "metadata": {},
   "outputs": [],
   "source": [
    "// Predict\n",
    "display(\"*********** Predict...\");\n",
    "var predictionEngine = mlContext.Model.CreatePredictionEngine<Match, MatchScorePrediction>(trainedModel);\n",
    "var match = new Match\n",
    "{\n",
    "    Ball = 3.4f,\n",
    "    BattingTeam = \"India\",\n",
    "    BowlingTeam = \"New Zealand\",\n",
    "    Bowler = \"CJ Anderson\",\n",
    "    Inning = 1,\n",
    "    Striker = \"V Kohli\",\n",
    "    NonStriker = \"Yuvraj Singh\",\n",
    "    Venue = \"Vidarbha Cricket Association Stadium_ Jamtha\"\n",
    "};\n",
    "\n",
    "// make the prediction\n",
    "var prediction = predictionEngine.Predict(match);\n",
    "\n",
    "// report the results\n",
    "display($\"Match Info:\\n\\n{match} \");\n",
    "display($\"\\n^^^^^^ Prediction:  {prediction.TotalScore} \");\n",
    "display($\"**********************************************************************\");\n",
    "display($\"Predicted score: {prediction.TotalScore:0.####}, actual score: 20\");\n",
    "display($\"**********************************************************************\");"
   ]
  },
  {
   "cell_type": "markdown",
   "id": "caring-satellite",
   "metadata": {},
   "source": [
    "The model has performed quite well as the predicted score is quite near to the actual score. We need to see how it perform with different set of data. We have used FastTree algorithm which seems to be good. There are lot of things we can try to improve here by choosing different algorithm, features, and large dataset etc. "
   ]
  },
  {
   "cell_type": "markdown",
   "id": "provincial-brunei",
   "metadata": {},
   "source": [
    "## Conclusion"
   ]
  },
  {
   "cell_type": "markdown",
   "id": "opponent-blame",
   "metadata": {},
   "source": [
    "Cricket is an interesting game with some nerve wracking moments during the match which keeps you on the toes. With this excitement and enthusiasm, a lot of data gets generated per ball that gets delivered over the field. This humungoes data is intelligently utilized by Data scients, Machine learning and AI practitioner to make insights and predictions about various aspects of the game. In this notebook, I have just scratched the possibilities that could be explored in the game of cricket. We took the dataset from web, cleaned, analyzed and finally able to make a prediction of finding a score. We have explored the usage some great libraries such as DataFrame, ML.Net and Daany.\n",
    "\n",
    "I hope you have enjoyed the notebook."
   ]
  },
  {
   "cell_type": "markdown",
   "id": "unnecessary-pepper",
   "metadata": {},
   "source": [
    "## Resources\n",
    "\n",
    "- Notebook: https://github.com/praveenraghuvanshi/tech-sessions/blob/master/16062021-Global-AI-Community-2021/CricketAnalysis.ipynb\n",
    "- Source: https://github.com/praveenraghuvanshi/tech-sessions/tree/master/16062021-Global-AI-Community-2021/src/SportAnalytics"
   ]
  },
  {
   "cell_type": "markdown",
   "id": "alternative-astronomy",
   "metadata": {},
   "source": [
    "## Contact"
   ]
  },
  {
   "cell_type": "markdown",
   "id": "indie-drill",
   "metadata": {},
   "source": [
    "Linktree: https://linktr.ee/praveenraghuvanshi <br>\n",
    "Twitter: @praveenraghuvan\\ <br>\n",
    "Github: praveenraghuvanshi\\ <br>\n",
    "Blog: praveenraghuvanshi.github.io\\ <br>\n",
    "Dev.To: https://dev.to/praveenraghuvanshi\\ <br>\n",
    "Website: https://www.praveenraghuvanshi.com\\ <br>\n",
    "Email: contact@praveenraghuvanshi.com\n"
   ]
  },
  {
   "cell_type": "code",
   "execution_count": null,
   "id": "distinct-today",
   "metadata": {},
   "outputs": [],
   "source": []
  }
 ],
 "metadata": {
  "kernelspec": {
   "display_name": ".NET (C#)",
   "language": "C#",
   "name": ".net-csharp"
  },
  "language_info": {
   "file_extension": ".cs",
   "mimetype": "text/x-csharp",
   "name": "C#",
   "pygments_lexer": "csharp",
   "version": "9.0"
  },
  "nteract": {
   "version": "0.28.0"
  }
 },
 "nbformat": 4,
 "nbformat_minor": 5
}
