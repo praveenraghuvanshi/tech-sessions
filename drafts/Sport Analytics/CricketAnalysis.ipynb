{
 "cells": [
  {
   "cell_type": "markdown",
   "id": "north-iceland",
   "metadata": {},
   "source": [
    "# Cricket Analysis and Prediction using ML.Net"
   ]
  },
  {
   "cell_type": "markdown",
   "id": "palestinian-heavy",
   "metadata": {},
   "source": [
    "<img src=\".\\assets\\cricket-banner.jpg\" alt=\"Cricket\" style=\"zoom:80%;margin:auto;\">\n",
    "\n",
    "<br>\n",
    "<span style=\"color:red\"><b>Disclaimer:</b> The analysis and prediction done here is for learning purpose only and should not be used for any illegal activities such as betting.</span>."
   ]
  },
  {
   "cell_type": "markdown",
   "id": "stuck-evening",
   "metadata": {},
   "source": [
    "## Introduction"
   ]
  },
  {
   "cell_type": "markdown",
   "id": "interior-reasoning",
   "metadata": {},
   "source": [
    "Cricket, a game of bat and ball is one of the most popular games and played in varied formats. It's a game of numbers with each match generating a plethora of data about players and matches. This data is used by analysts and data scientists to uncover meaningful insights and forecast about matches and players performance. In this session, I'll be performing some analytics and prediction on the cricket data using Microsoft ML.Net framework and C#."
   ]
  },
  {
   "cell_type": "markdown",
   "id": "frank-sacramento",
   "metadata": {},
   "source": [
    "<img src=\".\\assets\\cricket-history.png\" alt=\"Cricket\" style=\"zoom:80%;margin:auto;\">"
   ]
  },
  {
   "cell_type": "markdown",
   "id": "extraordinary-morrison",
   "metadata": {},
   "source": [
    "## Problem Statement\n",
    "\n",
    "Analyze the cricket dataset and predict the score after 6 overs for a match."
   ]
  },
  {
   "cell_type": "markdown",
   "id": "fitting-payment",
   "metadata": {},
   "source": [
    "## Dataset\n",
    "\n",
    "- Source: [CricSheet](https://cricsheet.org/) > [Download T20 Dataset](https://cricsheet.org/downloads/t20s_male_csv2.zip)\n"
   ]
  },
  {
   "cell_type": "markdown",
   "id": "outer-performer",
   "metadata": {},
   "source": [
    "### Exploratory Data Analysis - EDA\n",
    "\n",
    "- No of Features: 22\n",
    "- Total Records: 194K\n",
    "- Features have a mix of date, number and string\n",
    "- Contains Null Values"
   ]
  },
  {
   "cell_type": "code",
   "execution_count": 2,
   "id": "brief-auction",
   "metadata": {},
   "outputs": [
    {
     "data": {
      "text/html": [
       "<table><tbody><tr><td><img src=\"data:image/png;base64, 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\" width=\"125em\"></img></td><td style=\"line-height:.8em\"><p style=\"font-size:1.5em\"><b>.NET Interactive</b></p><p>&#169; 2020 Microsoft Corporation</p><p><b>Version: </b>1.0.230701+897ec27256aa312cc872b52b261726684b29d42b</p><p><b>Build date: </b>2021-06-09T11:13:17.2992510Z</p><p><a href=\"https://github.com/dotnet/interactive\">https://github.com/dotnet/interactive</a></p></td></tr></tbody></table>"
      ]
     },
     "metadata": {},
     "output_type": "display_data"
    }
   ],
   "source": [
    "#!about"
   ]
  },
  {
   "cell_type": "markdown",
   "id": "fixed-prisoner",
   "metadata": {},
   "source": [
    "### 1. Define Application wide Items"
   ]
  },
  {
   "cell_type": "markdown",
   "id": "enabling-possession",
   "metadata": {},
   "source": [
    "#### Nuget Packages"
   ]
  },
  {
   "cell_type": "code",
   "execution_count": 3,
   "id": "conditional-miami",
   "metadata": {},
   "outputs": [
    {
     "data": {
      "text/plain": [
       "Installed package Microsoft.Data.Analysis version 0.4.0"
      ]
     },
     "metadata": {},
     "output_type": "display_data"
    }
   ],
   "source": [
    "// ML.NET Nuget packages installation\n",
    "#r \"nuget:Microsoft.Data.Analysis\""
   ]
  },
  {
   "cell_type": "markdown",
   "id": "constitutional-thanks",
   "metadata": {},
   "source": [
    "#### Namespaces"
   ]
  },
  {
   "cell_type": "code",
   "execution_count": 4,
   "id": "thorough-acrylic",
   "metadata": {},
   "outputs": [],
   "source": [
    "using Microsoft.Data.Analysis;\n",
    "using Microsoft.AspNetCore.Html;\n",
    "using Microsoft.DotNet.Interactive.Formatting;\n",
    "using static Microsoft.DotNet.Interactive.Formatting.PocketViewTags;\n",
    "using System.Net.Http;\n",
    "using System.IO;\n",
    "using System.IO.Compression;"
   ]
  },
  {
   "cell_type": "markdown",
   "id": "changed-retro",
   "metadata": {},
   "source": [
    "#### Constants"
   ]
  },
  {
   "cell_type": "code",
   "execution_count": 5,
   "id": "compliant-steam",
   "metadata": {},
   "outputs": [],
   "source": [
    "// File\n",
    "const string DATASET_DIRECTORY = \"t20s_male_csv2\";\n",
    "const string DATASET_FILE = \"t20s_male_csv2.zip\";\n",
    "const string DATASET_URL = \"https://cricsheet.org/downloads/\";\n",
    "const string FINAL_CSV = \"t20_final.csv\";\n",
    "\n",
    "// DataFrame/Table\n",
    "const int TOP_COUNT = 5;\n",
    "const int DEFAULT_ROW_COUNT = 10;"
   ]
  },
  {
   "cell_type": "markdown",
   "id": "manual-oasis",
   "metadata": {},
   "source": [
    "### 2. Utility Functions"
   ]
  },
  {
   "cell_type": "markdown",
   "id": "coastal-karen",
   "metadata": {},
   "source": [
    "#### Merges multiple CSV files present in specified directory"
   ]
  },
  {
   "cell_type": "code",
   "execution_count": 6,
   "id": "handy-spider",
   "metadata": {},
   "outputs": [],
   "source": [
    "public void MergeCsv(string sourceFolder, string destinationFile)\n",
    "{\n",
    "    /*\n",
    "     https://chris.koester.io/index.php/2017/01/27/combine-csv-files/\n",
    "     C# script combines multiple csv files without duplicating headers.\n",
    "     Combining 8 files with a combined total of about 9.2 million rows \n",
    "     took about 3.5 minutes on a network share and 44 seconds on an SSD.\n",
    "    */\n",
    "\n",
    "    // Specify wildcard search to match CSV files that will be combined\n",
    "    string[] filePaths = Directory.GetFiles(sourceFolder, \"*.csv\");\n",
    "    StreamWriter fileDest = new StreamWriter(destinationFile, true);\n",
    "\n",
    "    int i;\n",
    "    for (i = 0; i < filePaths.Length; i++)\n",
    "    {\n",
    "        string file = filePaths[i];\n",
    "\n",
    "        string[] lines = File.ReadAllLines(file);\n",
    "\n",
    "        if (i > 0)\n",
    "        {\n",
    "            lines = lines.Skip(1).ToArray(); // Skip header row for all but first file\n",
    "        }\n",
    "\n",
    "        foreach (string line in lines)\n",
    "        {\n",
    "            fileDest.WriteLine(line);\n",
    "        }\n",
    "    }\n",
    "\n",
    "    fileDest.Close();\n",
    "}"
   ]
  },
  {
   "cell_type": "markdown",
   "id": "suspected-power",
   "metadata": {},
   "source": [
    "#### Formatters\n",
    "\n",
    "By default the output of DataFrame is not proper and in order to display it as a table, we need to have a custom formatter implemented as shown in next cell. "
   ]
  },
  {
   "cell_type": "code",
   "execution_count": 7,
   "id": "rubber-description",
   "metadata": {},
   "outputs": [],
   "source": [
    "// Formats the table\n",
    "Formatter.Register(typeof(DataFrame),(dataFrame, writer) =>\n",
    "{\n",
    "    var df = dataFrame as DataFrame;\n",
    "    var headers = new List<IHtmlContent>();\n",
    "    headers.Add(th(i(\"index\")));\n",
    "    headers.AddRange(df.Columns.Select(c => (IHtmlContent)th(c.Name)));\n",
    "    var rows = new List<List<IHtmlContent>>();\n",
    "    var take = 10;\n",
    "    for (var i = 0; i < Math.Min(take, df.Rows.Count); i++)\n",
    "    {\n",
    "        var cells = new List<IHtmlContent>();\n",
    "        cells.Add(td(i));\n",
    "        foreach (var obj in df.Rows[i])\n",
    "        {\n",
    "            cells.Add(td(obj));\n",
    "        }\n",
    "        rows.Add(cells);\n",
    "    }\n",
    "\n",
    "    var t = table(\n",
    "        thead(\n",
    "            headers),\n",
    "        tbody(\n",
    "            rows.Select(\n",
    "                r => tr(r))));\n",
    "\n",
    "    writer.Write(t);\n",
    "}, \"text/html\");"
   ]
  },
  {
   "cell_type": "markdown",
   "id": "champion-manitoba",
   "metadata": {},
   "source": [
    "### 2. Load Dataset"
   ]
  },
  {
   "cell_type": "markdown",
   "id": "yellow-terrorist",
   "metadata": {},
   "source": [
    "The Dataset present in Cricksheet is in compressed zip format. Internally it contains csv file that we will be using for our analysis and prediction."
   ]
  },
  {
   "cell_type": "markdown",
   "id": "compound-valentine",
   "metadata": {},
   "source": [
    "#### 2.a Cleans Previous Data"
   ]
  },
  {
   "cell_type": "code",
   "execution_count": 8,
   "id": "local-plain",
   "metadata": {},
   "outputs": [],
   "source": [
    "/// <summary>\n",
    "/// Cleans previous data present in current working directory\n",
    "/// </summary>\n",
    "public void CleanPreviousData()\n",
    "{\n",
    "    if (File.Exists(DATASET_FILE))\n",
    "    {\n",
    "        File.Delete(DATASET_FILE);\n",
    "    }\n",
    "\n",
    "    if (File.Exists(FINAL_CSV))\n",
    "    {\n",
    "        File.Delete(FINAL_CSV);\n",
    "    }\n",
    "\n",
    "    if (Directory.Exists(DATASET_DIRECTORY))\n",
    "    {\n",
    "        Directory.Delete(DATASET_DIRECTORY, true);\n",
    "    }\n",
    "}"
   ]
  },
  {
   "cell_type": "markdown",
   "id": "extreme-major",
   "metadata": {},
   "source": [
    "#### 2.b Loads the Dataset and returns a DataFrame"
   ]
  },
  {
   "cell_type": "code",
   "execution_count": 9,
   "id": "fatal-browse",
   "metadata": {},
   "outputs": [],
   "source": [
    "/// <summary>\n",
    "/// Loads the dataset from specified URL\n",
    "/// </summary>\n",
    "/// <param name=\"url\">Remote URL</param>\n",
    "/// <param name=\"fileName\">Name of the file</param>\n",
    "/// <returns>A DataFrame</returns>\n",
    "public async Task<DataFrame> LoadDatasetAsync(string url, string fileName)\n",
    "{\n",
    "    // Delete previous data\n",
    "    CleanPreviousData();\n",
    "\n",
    "    // Loads zip file from remote URL\n",
    "    var remoteFilePath = Path.Combine(url, fileName);\n",
    "    using (var httpClient = new HttpClient())\n",
    "    {\n",
    "        var contents = await httpClient.GetByteArrayAsync(remoteFilePath);\n",
    "        await File.WriteAllBytesAsync(fileName, contents);\n",
    "    }\n",
    "\n",
    "    // Unzip file -> Merge CSV -> Load to DataFrame\n",
    "    if (File.Exists(fileName))\n",
    "    {\n",
    "        var extractedDirectory = Path.Combine(Directory.GetCurrentDirectory(), DATASET_DIRECTORY);\n",
    "\n",
    "        try\n",
    "        {\n",
    "            ZipFile.ExtractToDirectory(fileName, extractedDirectory);\n",
    "            MergeCsv(extractedDirectory, FINAL_CSV);\n",
    "\n",
    "            return DataFrame.LoadCsv(FINAL_CSV);\n",
    "        }\n",
    "        catch (Exception e)\n",
    "        {\n",
    "            display(e);\n",
    "            throw;\n",
    "        }\n",
    "\n",
    "    }\n",
    "\n",
    "    return new DataFrame();\n",
    "}"
   ]
  },
  {
   "cell_type": "code",
   "execution_count": 10,
   "id": "pacific-tender",
   "metadata": {},
   "outputs": [],
   "source": [
    "var cricketDataFrame = await LoadDatasetAsync(DATASET_URL, DATASET_FILE);"
   ]
  },
  {
   "cell_type": "markdown",
   "id": "variable-cancellation",
   "metadata": {},
   "source": [
    "#### Filtering\n",
    "\n",
    "As we are considering data for initial 6 overs of a match, we need to remove data for further overs"
   ]
  },
  {
   "cell_type": "code",
   "execution_count": 13,
   "id": "moved-inclusion",
   "metadata": {},
   "outputs": [],
   "source": [
    "var filterColumn = cricketDataFrame.Columns[\"ball\"].ElementwiseLessThanOrEqual(6.0);\n",
    "var sixOverDataFrame = cricketDataFrame.Filter(filterColumn);"
   ]
  },
  {
   "cell_type": "markdown",
   "id": "interpreted-resistance",
   "metadata": {},
   "source": [
    "### 3. Data Analysis"
   ]
  },
  {
   "cell_type": "code",
   "execution_count": 14,
   "id": "classified-compiler",
   "metadata": {},
   "outputs": [
    {
     "data": {
      "text/html": [
       "<table><thead><th><i>index</i></th><th>match_id</th><th>season</th><th>start_date</th><th>venue</th><th>innings</th><th>ball</th><th>batting_team</th><th>bowling_team</th><th>striker</th><th>non_striker</th><th>bowler</th><th>runs_off_bat</th><th>extras</th><th>wides</th><th>noballs</th><th>byes</th><th>legbyes</th><th>penalty</th><th>wicket_type</th><th>player_dismissed</th><th>other_wicket_type</th><th>other_player_dismissed</th></thead><tbody><tr><td><div class=\"dni-plaintext\">0</div></td><td><div class=\"dni-plaintext\">1001349</div></td><td>2016/17</td><td><span>2017-02-17 00:00:00Z</span></td><td>Melbourne Cricket Ground</td><td><div class=\"dni-plaintext\">1</div></td><td><div class=\"dni-plaintext\">0.1</div></td><td>Australia</td><td>Sri Lanka</td><td>AJ Finch</td><td>M Klinger</td><td>SL Malinga</td><td><div class=\"dni-plaintext\">0</div></td><td><div class=\"dni-plaintext\">0</div></td><td></td><td></td><td></td><td></td><td></td><td></td><td></td><td></td><td></td></tr><tr><td><div class=\"dni-plaintext\">1</div></td><td><div class=\"dni-plaintext\">1001349</div></td><td>2016/17</td><td><span>2017-02-17 00:00:00Z</span></td><td>Melbourne Cricket Ground</td><td><div class=\"dni-plaintext\">1</div></td><td><div class=\"dni-plaintext\">0.2</div></td><td>Australia</td><td>Sri Lanka</td><td>AJ Finch</td><td>M Klinger</td><td>SL Malinga</td><td><div class=\"dni-plaintext\">0</div></td><td><div class=\"dni-plaintext\">0</div></td><td></td><td></td><td></td><td></td><td></td><td></td><td></td><td></td><td></td></tr><tr><td><div class=\"dni-plaintext\">2</div></td><td><div class=\"dni-plaintext\">1001349</div></td><td>2016/17</td><td><span>2017-02-17 00:00:00Z</span></td><td>Melbourne Cricket Ground</td><td><div class=\"dni-plaintext\">1</div></td><td><div class=\"dni-plaintext\">0.3</div></td><td>Australia</td><td>Sri Lanka</td><td>AJ Finch</td><td>M Klinger</td><td>SL Malinga</td><td><div class=\"dni-plaintext\">1</div></td><td><div class=\"dni-plaintext\">0</div></td><td></td><td></td><td></td><td></td><td></td><td></td><td></td><td></td><td></td></tr><tr><td><div class=\"dni-plaintext\">3</div></td><td><div class=\"dni-plaintext\">1001349</div></td><td>2016/17</td><td><span>2017-02-17 00:00:00Z</span></td><td>Melbourne Cricket Ground</td><td><div class=\"dni-plaintext\">1</div></td><td><div class=\"dni-plaintext\">0.4</div></td><td>Australia</td><td>Sri Lanka</td><td>M Klinger</td><td>AJ Finch</td><td>SL Malinga</td><td><div class=\"dni-plaintext\">2</div></td><td><div class=\"dni-plaintext\">0</div></td><td></td><td></td><td></td><td></td><td></td><td></td><td></td><td></td><td></td></tr><tr><td><div class=\"dni-plaintext\">4</div></td><td><div class=\"dni-plaintext\">1001349</div></td><td>2016/17</td><td><span>2017-02-17 00:00:00Z</span></td><td>Melbourne Cricket Ground</td><td><div class=\"dni-plaintext\">1</div></td><td><div class=\"dni-plaintext\">0.5</div></td><td>Australia</td><td>Sri Lanka</td><td>M Klinger</td><td>AJ Finch</td><td>SL Malinga</td><td><div class=\"dni-plaintext\">0</div></td><td><div class=\"dni-plaintext\">0</div></td><td></td><td></td><td></td><td></td><td></td><td></td><td></td><td></td><td></td></tr></tbody></table>"
      ]
     },
     "execution_count": 14,
     "metadata": {},
     "output_type": "execute_result"
    }
   ],
   "source": [
    "sixOverDataFrame.Head(TOP_COUNT)"
   ]
  },
  {
   "cell_type": "code",
   "execution_count": 15,
   "id": "turkish-aggregate",
   "metadata": {},
   "outputs": [
    {
     "data": {
      "text/html": [
       "<table><thead><th><i>index</i></th><th>Info</th><th>match_id</th><th>season</th><th>start_date</th><th>venue</th><th>innings</th><th>ball</th><th>batting_team</th><th>bowling_team</th><th>striker</th><th>non_striker</th><th>bowler</th><th>runs_off_bat</th><th>extras</th><th>wides</th><th>noballs</th><th>byes</th><th>legbyes</th><th>penalty</th><th>wicket_type</th><th>player_dismissed</th><th>other_wicket_type</th><th>other_player_dismissed</th></thead><tbody><tr><td><div class=\"dni-plaintext\">0</div></td><td>DataType</td><td>System.Single</td><td>System.String</td><td>System.DateTime</td><td>System.String</td><td>System.Single</td><td>System.Single</td><td>System.String</td><td>System.String</td><td>System.String</td><td>System.String</td><td>System.String</td><td>System.Single</td><td>System.Single</td><td>System.String</td><td>System.String</td><td>System.String</td><td>System.String</td><td>System.String</td><td>System.String</td><td>System.String</td><td>System.String</td><td>System.String</td></tr><tr><td><div class=\"dni-plaintext\">1</div></td><td>Length (excluding null values)</td><td>75244</td><td>75244</td><td>75244</td><td>75244</td><td>75244</td><td>75244</td><td>75244</td><td>75244</td><td>75244</td><td>75244</td><td>75244</td><td>75244</td><td>75244</td><td>75244</td><td>75244</td><td>75244</td><td>75244</td><td>75244</td><td>75244</td><td>75244</td><td>75244</td><td>75244</td></tr></tbody></table>"
      ]
     },
     "execution_count": 15,
     "metadata": {},
     "output_type": "execute_result"
    }
   ],
   "source": [
    "sixOverDataFrame.Info()"
   ]
  },
  {
   "cell_type": "code",
   "execution_count": 16,
   "id": "cognitive-international",
   "metadata": {},
   "outputs": [
    {
     "data": {
      "text/html": [
       "<table><thead><th><i>index</i></th><th>Description</th><th>match_id</th><th>start_date</th><th>innings</th><th>ball</th><th>runs_off_bat</th><th>extras</th></thead><tbody><tr><td><div class=\"dni-plaintext\">0</div></td><td>Length (excluding null values)</td><td><div class=\"dni-plaintext\">75244</div></td><td><div class=\"dni-plaintext\">75244</div></td><td><div class=\"dni-plaintext\">75244</div></td><td><div class=\"dni-plaintext\">75244</div></td><td><div class=\"dni-plaintext\">75244</div></td><td><div class=\"dni-plaintext\">75244</div></td></tr><tr><td><div class=\"dni-plaintext\">1</div></td><td>Max</td><td><div class=\"dni-plaintext\">1263713</div></td><td><div class=\"dni-plaintext\">&lt;null&gt;</div></td><td><div class=\"dni-plaintext\">4</div></td><td><div class=\"dni-plaintext\">5.9</div></td><td><div class=\"dni-plaintext\">6</div></td><td><div class=\"dni-plaintext\">5</div></td></tr><tr><td><div class=\"dni-plaintext\">2</div></td><td>Min</td><td><div class=\"dni-plaintext\">211028</div></td><td><div class=\"dni-plaintext\">&lt;null&gt;</div></td><td><div class=\"dni-plaintext\">1</div></td><td><div class=\"dni-plaintext\">0.1</div></td><td><div class=\"dni-plaintext\">0</div></td><td><div class=\"dni-plaintext\">0</div></td></tr><tr><td><div class=\"dni-plaintext\">3</div></td><td>Mean</td><td><div class=\"dni-plaintext\">879266</div></td><td><div class=\"dni-plaintext\">&lt;null&gt;</div></td><td><div class=\"dni-plaintext\">1.5008107</div></td><td><div class=\"dni-plaintext\">2.8433447</div></td><td><div class=\"dni-plaintext\">1.1237973</div></td><td><div class=\"dni-plaintext\">0.08085695</div></td></tr></tbody></table>"
      ]
     },
     "execution_count": 16,
     "metadata": {},
     "output_type": "execute_result"
    }
   ],
   "source": [
    "sixOverDataFrame.Description()"
   ]
  },
  {
   "cell_type": "code",
   "execution_count": null,
   "id": "promising-livestock",
   "metadata": {},
   "outputs": [],
   "source": []
  },
  {
   "cell_type": "code",
   "execution_count": null,
   "id": "running-quebec",
   "metadata": {},
   "outputs": [],
   "source": []
  },
  {
   "cell_type": "code",
   "execution_count": null,
   "id": "married-norman",
   "metadata": {},
   "outputs": [],
   "source": []
  },
  {
   "cell_type": "markdown",
   "id": "composite-patent",
   "metadata": {},
   "source": [
    "## Problem statement\n",
    "EDA\n",
    " - Data Cleaning\n",
    " - Analysis of Dataset\n",
    " - Visualizations\n",
    "\n",
    "Prediction\n",
    " - Algorithm(Linear Regression)\n",
    " - Parameter Tuning\n",
    " - Better algorithm\n",
    " - Accuracy/Loss\n",
    " - Model Builder\n",
    " "
   ]
  },
  {
   "cell_type": "code",
   "execution_count": null,
   "id": "outside-bookmark",
   "metadata": {},
   "outputs": [],
   "source": []
  }
 ],
 "metadata": {
  "kernelspec": {
   "display_name": ".NET (C#)",
   "language": "C#",
   "name": ".net-csharp"
  },
  "language_info": {
   "file_extension": ".cs",
   "mimetype": "text/x-csharp",
   "name": "C#",
   "pygments_lexer": "csharp",
   "version": "9.0"
  }
 },
 "nbformat": 4,
 "nbformat_minor": 5
}
