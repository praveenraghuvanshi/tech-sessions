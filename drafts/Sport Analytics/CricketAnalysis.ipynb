{
 "cells": [
  {
   "cell_type": "markdown",
   "id": "comparative-theme",
   "metadata": {},
   "source": [
    "# Cricket Analysis and Prediction using ML.Net"
   ]
  },
  {
   "cell_type": "markdown",
   "id": "bored-stress",
   "metadata": {},
   "source": [
    "<img src=\".\\assets\\cricket-banner.jpg\" alt=\"Cricket\" style=\"zoom:80%;margin:auto;\">\n",
    "\n",
    "<br>\n",
    "<span style=\"color:red\"><b>Disclaimer:</b> The analysis and prediction done here is for learning purpose only and should not be used for any illegal activities such as betting.</span>."
   ]
  },
  {
   "cell_type": "markdown",
   "id": "formal-discrimination",
   "metadata": {},
   "source": [
    "## Introduction"
   ]
  },
  {
   "cell_type": "markdown",
   "id": "pregnant-switzerland",
   "metadata": {},
   "source": [
    "Cricket, a game of bat and ball is one of the most popular games and played in varied formats. It's a game of numbers with each match generating a plethora of data about players and matches. This data is used by analysts and data scientists to uncover meaningful insights and forecast about matches and players performance. In this session, I'll be performing some analytics and prediction on the cricket data using Microsoft ML.Net framework and C#."
   ]
  },
  {
   "cell_type": "markdown",
   "id": "exposed-monitoring",
   "metadata": {},
   "source": [
    "<img src=\".\\assets\\cricket-history.png\" alt=\"Cricket\" style=\"zoom:80%;margin:auto;\">"
   ]
  },
  {
   "cell_type": "markdown",
   "id": "spanish-vegetable",
   "metadata": {},
   "source": [
    "## Problem Statement\n",
    "\n",
    "Analyze the cricket dataset and predict the score after 6 overs for a match."
   ]
  },
  {
   "cell_type": "markdown",
   "id": "impossible-knock",
   "metadata": {},
   "source": [
    "## Dataset\n",
    "\n",
    "- Source: [CricSheet](https://cricsheet.org/) > [Download T20 Dataset](https://cricsheet.org/downloads/t20s_male_csv2.zip)\n"
   ]
  },
  {
   "cell_type": "markdown",
   "id": "blocked-reality",
   "metadata": {},
   "source": [
    "### Pre-Analysis \n",
    "- Discuss about the dataset"
   ]
  },
  {
   "cell_type": "markdown",
   "id": "lasting-matthew",
   "metadata": {},
   "source": [
    "## Problem statement\n",
    "EDA\n",
    " - Data Cleaning\n",
    " - Analysis of Dataset\n",
    " - Visualizations\n",
    "\n",
    "Prediction\n",
    " - Algorithm(Linear Regression)\n",
    " - Parameter Tuning\n",
    " - Better algorithm\n",
    " - Accuracy/Loss\n",
    " - Model Builder\n",
    " "
   ]
  },
  {
   "cell_type": "code",
   "execution_count": null,
   "id": "decent-strip",
   "metadata": {},
   "outputs": [],
   "source": []
  }
 ],
 "metadata": {
  "kernelspec": {
   "display_name": ".NET (C#)",
   "language": "C#",
   "name": ".net-csharp"
  },
  "language_info": {
   "file_extension": ".cs",
   "mimetype": "text/x-csharp",
   "name": "C#",
   "pygments_lexer": "csharp",
   "version": "9.0"
  }
 },
 "nbformat": 4,
 "nbformat_minor": 5
}
