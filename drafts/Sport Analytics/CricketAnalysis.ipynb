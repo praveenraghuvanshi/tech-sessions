{
 "cells": [
  {
   "cell_type": "markdown",
   "id": "infrared-highlight",
   "metadata": {},
   "source": [
    "# Cricket Analysis and Prediction using ML.Net"
   ]
  },
  {
   "cell_type": "markdown",
   "id": "dangerous-worthy",
   "metadata": {},
   "source": [
    "<img src=\".\\assets\\cricket-banner.jpg\" alt=\"Cricket\" style=\"zoom:80%;margin:auto;\">\n",
    "\n",
    "<br>\n",
    "<span style=\"color:red\"><b>Disclaimer:</b> The analysis and prediction done here is for learning purpose only and should not be used for any illegal activities such as betting.</span>."
   ]
  },
  {
   "cell_type": "markdown",
   "id": "balanced-azerbaijan",
   "metadata": {},
   "source": [
    "## Introduction"
   ]
  },
  {
   "cell_type": "markdown",
   "id": "mounted-willow",
   "metadata": {},
   "source": [
    "Cricket, a game of bat and ball is one of the most popular games and played in varied formats. It's a game of numbers with each match generating a plethora of data about players and matches. This data is used by analysts and data scientists to uncover meaningful insights and forecast about matches and players performance. In this session, I'll be performing some analytics and prediction on the cricket data using Microsoft ML.Net framework and C#."
   ]
  },
  {
   "cell_type": "markdown",
   "id": "spiritual-multimedia",
   "metadata": {},
   "source": [
    "<img src=\"assets\\cricket-history.png\" alt=\"Cricket\" style=\"zoom:80%;margin:auto;\">"
   ]
  },
  {
   "cell_type": "markdown",
   "id": "stunning-vegetable",
   "metadata": {},
   "source": [
    "## Problem Statement\n",
    "\n",
    "Analyze the cricket dataset and predict the score after 6 overs for a match."
   ]
  },
  {
   "cell_type": "markdown",
   "id": "greater-secondary",
   "metadata": {},
   "source": [
    "## Dataset\n",
    "\n",
    "- Source: [CricSheet](https://cricsheet.org/) > [Download T20 Dataset](https://cricsheet.org/downloads/t20s_male_csv2.zip)\n"
   ]
  },
  {
   "cell_type": "markdown",
   "id": "prescribed-intermediate",
   "metadata": {},
   "source": [
    "### Exploratory Data Analysis - EDA\n",
    "\n",
    "- No of Features: 22\n",
    "- Total Records: 194K\n",
    "- Features have a mix of date, number and string\n",
    "- Contains Null Values"
   ]
  },
  {
   "cell_type": "code",
   "execution_count": 3,
   "id": "athletic-kidney",
   "metadata": {},
   "outputs": [
    {
     "data": {
      "text/html": [
       "<table><tbody><tr><td><img src=\"data:image/png;base64, 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\" width=\"125em\"></img></td><td style=\"line-height:.8em\"><p style=\"font-size:1.5em\"><b>.NET Interactive</b></p><p>&#169; 2020 Microsoft Corporation</p><p><b>Version: </b>1.0.230701+897ec27256aa312cc872b52b261726684b29d42b</p><p><b>Build date: </b>2021-06-09T11:13:17.2992510Z</p><p><a href=\"https://github.com/dotnet/interactive\">https://github.com/dotnet/interactive</a></p></td></tr></tbody></table>"
      ]
     },
     "metadata": {},
     "output_type": "display_data"
    }
   ],
   "source": [
    "#!about"
   ]
  },
  {
   "cell_type": "markdown",
   "id": "later-white",
   "metadata": {},
   "source": [
    "### 1. Define Application wide Items"
   ]
  },
  {
   "cell_type": "markdown",
   "id": "immediate-louisville",
   "metadata": {},
   "source": [
    "#### Nuget Packages"
   ]
  },
  {
   "cell_type": "code",
   "execution_count": 137,
   "id": "magnetic-steel",
   "metadata": {},
   "outputs": [
    {
     "data": {
      "text/plain": [
       "Installed package Microsoft.ML.FastTree version 1.5.5"
      ]
     },
     "metadata": {},
     "output_type": "display_data"
    }
   ],
   "source": [
    "// ML.NET Nuget packages installation\n",
    "#r \"nuget:Microsoft.ML\"\n",
    "#r \"nuget:Microsoft.ML.FastTree\"    \n",
    "#r \"nuget:Microsoft.Data.Analysis\"\n",
    "#r \"nuget:Daany.DataFrame\"\n",
    "#r \"nuget:CsvHelper\""
   ]
  },
  {
   "cell_type": "markdown",
   "id": "detailed-amplifier",
   "metadata": {},
   "source": [
    "#### Namespaces"
   ]
  },
  {
   "cell_type": "code",
   "execution_count": 128,
   "id": "national-athletics",
   "metadata": {},
   "outputs": [],
   "source": [
    "using CsvHelper;\n",
    "using CsvHelper.Configuration;\n",
    "using Daany;\n",
    "using Microsoft.ML;\n",
    "using Microsoft.ML.Data;\n",
    "using Microsoft.Data.Analysis;\n",
    "using Microsoft.AspNetCore.Html;\n",
    "using Microsoft.DotNet.Interactive.Formatting;\n",
    "using static Microsoft.DotNet.Interactive.Formatting.PocketViewTags;\n",
    "using System.Net.Http;\n",
    "using System.IO;\n",
    "using System.IO.Compression;\n",
    "using System.Globalization;"
   ]
  },
  {
   "cell_type": "markdown",
   "id": "serious-insider",
   "metadata": {},
   "source": [
    "#### Constants"
   ]
  },
  {
   "cell_type": "code",
   "execution_count": 141,
   "id": "fantastic-gather",
   "metadata": {},
   "outputs": [],
   "source": [
    "// File\n",
    "const string DATASET_DIRECTORY = \"t20s_male_csv2\";\n",
    "const string DATASET_FILE = \"t20s_male_csv2.zip\";\n",
    "const string DATASET_URL = \"https://cricsheet.org/downloads/\";\n",
    "const string DATASET_MERGED_CSV = \"t20_merged.csv\";\n",
    "const string DATASET_ALL_CSV = \"t20_all.csv\";\n",
    "const string DATASET_CLEANED_CSV = \"t20_cleaned.csv\";\n",
    "const string MODEL_FILE = \"model.zip\";\n",
    "\n",
    "// DataFrame/Table\n",
    "const int TOP_COUNT = 5;\n",
    "const int DEFAULT_ROW_COUNT = 10;\n",
    "\n",
    "// Columns\n",
    "const string CSV_COLUMN_BALL = \"ball\";\n",
    "const string CSV_COLUMN_SCORE = \"score\";\n",
    "const string CSV_COLUMN_RUNS_OFF_BAT = \"runs_off_bat\";\n",
    "const string CSV_COLUMN_EXTRAS = \"extras\";\n",
    "const string CSV_COLUMN_TOTAL_SCORE = \"total_score\";\n",
    "const string CSV_COLUMN_VENUE = \"venue\";\n",
    "const string CSV_COLUMN_INNINGS = \"innings\";\n",
    "const string CSV_COLUMN_BATTING_TEAM = \"batting_team\";\n",
    "const string CSV_COLUMN_BOWLING_TEAM = \"bowling_team\";\n",
    "const string CSV_COLUMN_STRIKER = \"striker\";\n",
    "const string CSV_COLUMN_NON_STRIKER = \"non_striker\";\n",
    "const string CSV_COLUMN_BOWLER = \"bowler\";\n",
    "\n",
    "// Misc\n",
    "const float OVER_THRESHOLD = 6.0f;"
   ]
  },
  {
   "cell_type": "markdown",
   "id": "sonic-performance",
   "metadata": {},
   "source": [
    "### 2. Utility Functions"
   ]
  },
  {
   "cell_type": "markdown",
   "id": "mediterranean-inclusion",
   "metadata": {},
   "source": [
    "#### Merges multiple CSV files present in specified directory"
   ]
  },
  {
   "cell_type": "code",
   "execution_count": 92,
   "id": "cardiovascular-smooth",
   "metadata": {},
   "outputs": [],
   "source": [
    "public void MergeCsv(string sourceFolder, string destinationFile)\n",
    "{\n",
    "    /*\n",
    "     https://chris.koester.io/index.php/2017/01/27/combine-csv-files/\n",
    "     C# script combines multiple csv files without duplicating headers.\n",
    "     Combining 8 files with a combined total of about 9.2 million rows \n",
    "     took about 3.5 minutes on a network share and 44 seconds on an SSD.\n",
    "    */\n",
    "\n",
    "    // Specify wildcard search to match CSV files that will be combined\n",
    "    string[] filePaths = Directory.GetFiles(sourceFolder, \"*.csv\");\n",
    "    StreamWriter fileDest = new StreamWriter(destinationFile, true);\n",
    "\n",
    "    int i;\n",
    "    for (i = 0; i < filePaths.Length; i++)\n",
    "    {\n",
    "        string file = filePaths[i];\n",
    "\n",
    "        string[] lines = File.ReadAllLines(file);\n",
    "\n",
    "        if (i > 0)\n",
    "        {\n",
    "            lines = lines.Skip(1).ToArray(); // Skip header row for all but first file\n",
    "        }\n",
    "\n",
    "        foreach (string line in lines)\n",
    "        {\n",
    "            fileDest.WriteLine(line);\n",
    "        }\n",
    "    }\n",
    "\n",
    "    fileDest.Close();\n",
    "}"
   ]
  },
  {
   "cell_type": "markdown",
   "id": "comparative-intensity",
   "metadata": {},
   "source": [
    "#### Formatters\n",
    "\n",
    "By default the output of DataFrame is not proper and in order to display it as a table, we need to have a custom formatter implemented as shown in next cell. "
   ]
  },
  {
   "cell_type": "code",
   "execution_count": 93,
   "id": "korean-indicator",
   "metadata": {},
   "outputs": [],
   "source": [
    "// Formats the table\n",
    "Formatter.Register(typeof(Microsoft.Data.Analysis.DataFrame),(dataFrame, writer) =>\n",
    "{\n",
    "    var df = dataFrame as Microsoft.Data.Analysis.DataFrame;\n",
    "    var headers = new List<IHtmlContent>();\n",
    "    headers.Add(th(i(\"index\")));\n",
    "    headers.AddRange(df.Columns.Select(c => (IHtmlContent)th(c.Name)));\n",
    "    var rows = new List<List<IHtmlContent>>();\n",
    "    var take = 10;\n",
    "    for (var i = 0; i < Math.Min(take, df.Rows.Count); i++)\n",
    "    {\n",
    "        var cells = new List<IHtmlContent>();\n",
    "        cells.Add(td(i));\n",
    "        foreach (var obj in df.Rows[i])\n",
    "        {\n",
    "            cells.Add(td(obj));\n",
    "        }\n",
    "        rows.Add(cells);\n",
    "    }\n",
    "\n",
    "    var t = table(\n",
    "        thead(\n",
    "            headers),\n",
    "        tbody(\n",
    "            rows.Select(\n",
    "                r => tr(r))));\n",
    "\n",
    "    writer.Write(t);\n",
    "}, \"text/html\");"
   ]
  },
  {
   "cell_type": "code",
   "execution_count": 153,
   "id": "laden-administration",
   "metadata": {},
   "outputs": [],
   "source": [
    "// Formats the Danny DataFrame\n",
    "/* Formatter.Register(typeof(Daany.DataFrame), (dataFrame, writer) =>\n",
    "{\n",
    "    var df = dataFrame as Daany.DataFrame;\n",
    "    var headers = new List<IHtmlContent>();\n",
    "    headers.Add(th(i(\"index\")));\n",
    "    headers.AddRange(df.Columns.Select(c => (IHtmlContent)th(c)));\n",
    "    var rows = new List<List<IHtmlContent>>();\n",
    "    var take = 10;\n",
    "    for (var i = 0; i < Math.Min(take, df.RowCount()); i++)\n",
    "    {\n",
    "        var cells = new List<IHtmlContent>();\n",
    "        cells.Add(td(i));\n",
    "        foreach (var obj in df.GetRowEnumerator())\n",
    "        {\n",
    "            cells.Add(td(obj));\n",
    "        }\n",
    "        rows.Add(cells);\n",
    "    }\n",
    "\n",
    "    var t = table(\n",
    "        thead(\n",
    "            headers),\n",
    "        tbody(\n",
    "            rows.Select(\n",
    "                r => tr(r))));\n",
    "\n",
    "    writer.Write(t);\n",
    "}, \"text/html\"); */"
   ]
  },
  {
   "cell_type": "markdown",
   "id": "alien-addiction",
   "metadata": {},
   "source": [
    "### 2. Load Dataset"
   ]
  },
  {
   "cell_type": "markdown",
   "id": "biblical-graham",
   "metadata": {},
   "source": [
    "The Dataset present in Cricksheet is in compressed zip format. Internally it contains csv file that we will be using for our analysis and prediction."
   ]
  },
  {
   "cell_type": "markdown",
   "id": "fancy-newport",
   "metadata": {},
   "source": [
    "#### 2.a Cleans Previous Data"
   ]
  },
  {
   "cell_type": "code",
   "execution_count": 94,
   "id": "rising-chester",
   "metadata": {},
   "outputs": [],
   "source": [
    "/// <summary>\n",
    "/// Cleans previous data present in current working directory\n",
    "/// </summary>\n",
    "public void CleanPreviousData()\n",
    "{\n",
    "    if (File.Exists(DATASET_FILE))\n",
    "    {\n",
    "        File.Delete(DATASET_FILE);\n",
    "    }\n",
    "\n",
    "    if (File.Exists(DATASET_MERGED_CSV))\n",
    "    {\n",
    "        File.Delete(DATASET_MERGED_CSV);\n",
    "    }\n",
    "    \n",
    "    if (File.Exists(DATASET_CLEANED_CSV))\n",
    "    {\n",
    "        File.Delete(DATASET_CLEANED_CSV);\n",
    "    }\n",
    "    \n",
    "    if (Directory.Exists(DATASET_DIRECTORY))\n",
    "    {\n",
    "        Directory.Delete(DATASET_DIRECTORY, true);\n",
    "    }\n",
    "}"
   ]
  },
  {
   "cell_type": "markdown",
   "id": "obvious-angle",
   "metadata": {},
   "source": [
    "#### 2.b Loads the Dataset and returns a DataFrame"
   ]
  },
  {
   "cell_type": "code",
   "execution_count": 95,
   "id": "liable-modem",
   "metadata": {},
   "outputs": [],
   "source": [
    "/// <summary>\n",
    "/// Loads the dataset from specified URL\n",
    "/// </summary>\n",
    "/// <param name=\"url\">Remote URL</param>\n",
    "/// <param name=\"fileName\">Name of the file</param>\n",
    "/// <returns>A DataFrame</returns>\n",
    "public async Task<Microsoft.Data.Analysis.DataFrame> LoadDatasetAsync(string url, string fileName)\n",
    "{\n",
    "    // Delete previous data\n",
    "    CleanPreviousData();\n",
    "\n",
    "    // Loads zip file from remote URL\n",
    "    var remoteFilePath = Path.Combine(url, fileName);\n",
    "    using (var httpClient = new HttpClient())\n",
    "    {\n",
    "        var contents = await httpClient.GetByteArrayAsync(remoteFilePath);\n",
    "        await File.WriteAllBytesAsync(fileName, contents);\n",
    "    }\n",
    "\n",
    "    // Unzip file -> Merge CSV -> Load to DataFrame\n",
    "    if (File.Exists(fileName))\n",
    "    {\n",
    "        var extractedDirectory = Path.Combine(Directory.GetCurrentDirectory(), DATASET_DIRECTORY);\n",
    "\n",
    "        try\n",
    "        {\n",
    "            ZipFile.ExtractToDirectory(fileName, extractedDirectory);\n",
    "            MergeCsv(extractedDirectory, DATASET_MERGED_CSV);\n",
    "\n",
    "            return Microsoft.Data.Analysis.DataFrame.LoadCsv(DATASET_MERGED_CSV);\n",
    "        }\n",
    "        catch (Exception e)\n",
    "        {\n",
    "            display(e);\n",
    "            throw;\n",
    "        }\n",
    "\n",
    "    }\n",
    "\n",
    "    return new Microsoft.Data.Analysis.DataFrame();\n",
    "}"
   ]
  },
  {
   "cell_type": "code",
   "execution_count": 96,
   "id": "automotive-istanbul",
   "metadata": {},
   "outputs": [],
   "source": [
    "var cricketDataFrame = await LoadDatasetAsync(DATASET_URL, DATASET_FILE);"
   ]
  },
  {
   "cell_type": "markdown",
   "id": "multiple-sapphire",
   "metadata": {},
   "source": [
    "#### Filtering\n",
    "\n",
    "As we are considering data for initial 6 overs of a match, we need to remove data for further overs"
   ]
  },
  {
   "cell_type": "code",
   "execution_count": 97,
   "id": "blank-drill",
   "metadata": {},
   "outputs": [],
   "source": [
    "var filterColumn = cricketDataFrame.Columns[CSV_COLUMN_BALL].ElementwiseLessThanOrEqual(OVER_THRESHOLD);\n",
    "var sixOverDataFrame = cricketDataFrame.Filter(filterColumn);"
   ]
  },
  {
   "cell_type": "markdown",
   "id": "based-brunswick",
   "metadata": {},
   "source": [
    "### 3. Data Analysis"
   ]
  },
  {
   "cell_type": "code",
   "execution_count": 98,
   "id": "strong-vancouver",
   "metadata": {},
   "outputs": [
    {
     "data": {
      "text/html": [
       "<table><thead><th><i>index</i></th><th>match_id</th><th>season</th><th>start_date</th><th>venue</th><th>innings</th><th>ball</th><th>batting_team</th><th>bowling_team</th><th>striker</th><th>non_striker</th><th>bowler</th><th>runs_off_bat</th><th>extras</th><th>wides</th><th>noballs</th><th>byes</th><th>legbyes</th><th>penalty</th><th>wicket_type</th><th>player_dismissed</th><th>other_wicket_type</th><th>other_player_dismissed</th></thead><tbody><tr><td><div class=\"dni-plaintext\">0</div></td><td><div class=\"dni-plaintext\">1001349</div></td><td>2016/17</td><td><span>2017-02-17 00:00:00Z</span></td><td>Melbourne Cricket Ground</td><td><div class=\"dni-plaintext\">1</div></td><td><div class=\"dni-plaintext\">0.1</div></td><td>Australia</td><td>Sri Lanka</td><td>AJ Finch</td><td>M Klinger</td><td>SL Malinga</td><td><div class=\"dni-plaintext\">0</div></td><td><div class=\"dni-plaintext\">0</div></td><td></td><td></td><td></td><td></td><td></td><td></td><td></td><td></td><td></td></tr><tr><td><div class=\"dni-plaintext\">1</div></td><td><div class=\"dni-plaintext\">1001349</div></td><td>2016/17</td><td><span>2017-02-17 00:00:00Z</span></td><td>Melbourne Cricket Ground</td><td><div class=\"dni-plaintext\">1</div></td><td><div class=\"dni-plaintext\">0.2</div></td><td>Australia</td><td>Sri Lanka</td><td>AJ Finch</td><td>M Klinger</td><td>SL Malinga</td><td><div class=\"dni-plaintext\">0</div></td><td><div class=\"dni-plaintext\">0</div></td><td></td><td></td><td></td><td></td><td></td><td></td><td></td><td></td><td></td></tr><tr><td><div class=\"dni-plaintext\">2</div></td><td><div class=\"dni-plaintext\">1001349</div></td><td>2016/17</td><td><span>2017-02-17 00:00:00Z</span></td><td>Melbourne Cricket Ground</td><td><div class=\"dni-plaintext\">1</div></td><td><div class=\"dni-plaintext\">0.3</div></td><td>Australia</td><td>Sri Lanka</td><td>AJ Finch</td><td>M Klinger</td><td>SL Malinga</td><td><div class=\"dni-plaintext\">1</div></td><td><div class=\"dni-plaintext\">0</div></td><td></td><td></td><td></td><td></td><td></td><td></td><td></td><td></td><td></td></tr><tr><td><div class=\"dni-plaintext\">3</div></td><td><div class=\"dni-plaintext\">1001349</div></td><td>2016/17</td><td><span>2017-02-17 00:00:00Z</span></td><td>Melbourne Cricket Ground</td><td><div class=\"dni-plaintext\">1</div></td><td><div class=\"dni-plaintext\">0.4</div></td><td>Australia</td><td>Sri Lanka</td><td>M Klinger</td><td>AJ Finch</td><td>SL Malinga</td><td><div class=\"dni-plaintext\">2</div></td><td><div class=\"dni-plaintext\">0</div></td><td></td><td></td><td></td><td></td><td></td><td></td><td></td><td></td><td></td></tr><tr><td><div class=\"dni-plaintext\">4</div></td><td><div class=\"dni-plaintext\">1001349</div></td><td>2016/17</td><td><span>2017-02-17 00:00:00Z</span></td><td>Melbourne Cricket Ground</td><td><div class=\"dni-plaintext\">1</div></td><td><div class=\"dni-plaintext\">0.5</div></td><td>Australia</td><td>Sri Lanka</td><td>M Klinger</td><td>AJ Finch</td><td>SL Malinga</td><td><div class=\"dni-plaintext\">0</div></td><td><div class=\"dni-plaintext\">0</div></td><td></td><td></td><td></td><td></td><td></td><td></td><td></td><td></td><td></td></tr></tbody></table>"
      ]
     },
     "execution_count": 98,
     "metadata": {},
     "output_type": "execute_result"
    }
   ],
   "source": [
    "sixOverDataFrame.Head(TOP_COUNT)"
   ]
  },
  {
   "cell_type": "code",
   "execution_count": 99,
   "id": "excessive-africa",
   "metadata": {},
   "outputs": [
    {
     "data": {
      "text/html": [
       "<table><thead><th><i>index</i></th><th>Info</th><th>match_id</th><th>season</th><th>start_date</th><th>venue</th><th>innings</th><th>ball</th><th>batting_team</th><th>bowling_team</th><th>striker</th><th>non_striker</th><th>bowler</th><th>runs_off_bat</th><th>extras</th><th>wides</th><th>noballs</th><th>byes</th><th>legbyes</th><th>penalty</th><th>wicket_type</th><th>player_dismissed</th><th>other_wicket_type</th><th>other_player_dismissed</th></thead><tbody><tr><td><div class=\"dni-plaintext\">0</div></td><td>DataType</td><td>System.Single</td><td>System.String</td><td>System.DateTime</td><td>System.String</td><td>System.Single</td><td>System.Single</td><td>System.String</td><td>System.String</td><td>System.String</td><td>System.String</td><td>System.String</td><td>System.Single</td><td>System.Single</td><td>System.String</td><td>System.String</td><td>System.String</td><td>System.String</td><td>System.String</td><td>System.String</td><td>System.String</td><td>System.String</td><td>System.String</td></tr><tr><td><div class=\"dni-plaintext\">1</div></td><td>Length (excluding null values)</td><td>75244</td><td>75244</td><td>75244</td><td>75244</td><td>75244</td><td>75244</td><td>75244</td><td>75244</td><td>75244</td><td>75244</td><td>75244</td><td>75244</td><td>75244</td><td>75244</td><td>75244</td><td>75244</td><td>75244</td><td>75244</td><td>75244</td><td>75244</td><td>75244</td><td>75244</td></tr></tbody></table>"
      ]
     },
     "execution_count": 99,
     "metadata": {},
     "output_type": "execute_result"
    }
   ],
   "source": [
    "sixOverDataFrame.Info()"
   ]
  },
  {
   "cell_type": "code",
   "execution_count": 100,
   "id": "distant-processing",
   "metadata": {},
   "outputs": [
    {
     "data": {
      "text/html": [
       "<table><thead><th><i>index</i></th><th>Description</th><th>match_id</th><th>start_date</th><th>innings</th><th>ball</th><th>runs_off_bat</th><th>extras</th></thead><tbody><tr><td><div class=\"dni-plaintext\">0</div></td><td>Length (excluding null values)</td><td><div class=\"dni-plaintext\">75244</div></td><td><div class=\"dni-plaintext\">75244</div></td><td><div class=\"dni-plaintext\">75244</div></td><td><div class=\"dni-plaintext\">75244</div></td><td><div class=\"dni-plaintext\">75244</div></td><td><div class=\"dni-plaintext\">75244</div></td></tr><tr><td><div class=\"dni-plaintext\">1</div></td><td>Max</td><td><div class=\"dni-plaintext\">1263713</div></td><td><div class=\"dni-plaintext\">&lt;null&gt;</div></td><td><div class=\"dni-plaintext\">4</div></td><td><div class=\"dni-plaintext\">5.9</div></td><td><div class=\"dni-plaintext\">6</div></td><td><div class=\"dni-plaintext\">5</div></td></tr><tr><td><div class=\"dni-plaintext\">2</div></td><td>Min</td><td><div class=\"dni-plaintext\">211028</div></td><td><div class=\"dni-plaintext\">&lt;null&gt;</div></td><td><div class=\"dni-plaintext\">1</div></td><td><div class=\"dni-plaintext\">0.1</div></td><td><div class=\"dni-plaintext\">0</div></td><td><div class=\"dni-plaintext\">0</div></td></tr><tr><td><div class=\"dni-plaintext\">3</div></td><td>Mean</td><td><div class=\"dni-plaintext\">879266</div></td><td><div class=\"dni-plaintext\">&lt;null&gt;</div></td><td><div class=\"dni-plaintext\">1.5008107</div></td><td><div class=\"dni-plaintext\">2.8433447</div></td><td><div class=\"dni-plaintext\">1.1237973</div></td><td><div class=\"dni-plaintext\">0.08085695</div></td></tr></tbody></table>"
      ]
     },
     "execution_count": 100,
     "metadata": {},
     "output_type": "execute_result"
    }
   ],
   "source": [
    "sixOverDataFrame.Description()"
   ]
  },
  {
   "cell_type": "markdown",
   "id": "color-dylan",
   "metadata": {},
   "source": [
    "### Score and Total Score\n",
    "\n",
    "The dataset contains various runs scored every ball such as runs_off_bat, extras, wides, legbyes etc. There is no column for runs scored per ball.\n",
    "We could get it by adding 'runs_off_bat' and 'extras'.\n",
    "\n",
    "**Score = runs_off_bat + extras**\n",
    "\n",
    "Similary we can get total runs per ball by having a cumulative sum of runs per ball in a inning.\n",
    "\n",
    "**Total Score = CumulativeSum(Score/inning)**"
   ]
  },
  {
   "cell_type": "code",
   "execution_count": 101,
   "id": "gothic-screen",
   "metadata": {},
   "outputs": [],
   "source": [
    "// Add a column for Total Score\n",
    "sixOverDataFrame.Columns.Add(new PrimitiveDataFrameColumn<int>(CSV_COLUMN_SCORE, sixOverDataFrame.Rows.Count));\n",
    "sixOverDataFrame.Columns[CSV_COLUMN_SCORE] = sixOverDataFrame.Columns[CSV_COLUMN_RUNS_OFF_BAT] + sixOverDataFrame.Columns[CSV_COLUMN_EXTRAS];"
   ]
  },
  {
   "cell_type": "code",
   "execution_count": 102,
   "id": "precise-truck",
   "metadata": {},
   "outputs": [
    {
     "data": {
      "text/html": [
       "<table><thead><th><i>index</i></th><th>Info</th><th>match_id</th><th>season</th><th>start_date</th><th>venue</th><th>innings</th><th>ball</th><th>batting_team</th><th>bowling_team</th><th>striker</th><th>non_striker</th><th>bowler</th><th>runs_off_bat</th><th>extras</th><th>wides</th><th>noballs</th><th>byes</th><th>legbyes</th><th>penalty</th><th>wicket_type</th><th>player_dismissed</th><th>other_wicket_type</th><th>other_player_dismissed</th><th>score</th></thead><tbody><tr><td><div class=\"dni-plaintext\">0</div></td><td>DataType</td><td>System.Single</td><td>System.String</td><td>System.DateTime</td><td>System.String</td><td>System.Single</td><td>System.Single</td><td>System.String</td><td>System.String</td><td>System.String</td><td>System.String</td><td>System.String</td><td>System.Single</td><td>System.Single</td><td>System.String</td><td>System.String</td><td>System.String</td><td>System.String</td><td>System.String</td><td>System.String</td><td>System.String</td><td>System.String</td><td>System.String</td><td>System.Single</td></tr><tr><td><div class=\"dni-plaintext\">1</div></td><td>Length (excluding null values)</td><td>75244</td><td>75244</td><td>75244</td><td>75244</td><td>75244</td><td>75244</td><td>75244</td><td>75244</td><td>75244</td><td>75244</td><td>75244</td><td>75244</td><td>75244</td><td>75244</td><td>75244</td><td>75244</td><td>75244</td><td>75244</td><td>75244</td><td>75244</td><td>75244</td><td>75244</td><td>75244</td></tr></tbody></table>"
      ]
     },
     "execution_count": 102,
     "metadata": {},
     "output_type": "execute_result"
    }
   ],
   "source": [
    "sixOverDataFrame.Info()"
   ]
  },
  {
   "cell_type": "code",
   "execution_count": 103,
   "id": "partial-olympus",
   "metadata": {},
   "outputs": [
    {
     "data": {
      "text/html": [
       "<table><thead><th><i>index</i></th><th>match_id</th><th>season</th><th>start_date</th><th>venue</th><th>innings</th><th>ball</th><th>batting_team</th><th>bowling_team</th><th>striker</th><th>non_striker</th><th>bowler</th><th>runs_off_bat</th><th>extras</th><th>wides</th><th>noballs</th><th>byes</th><th>legbyes</th><th>penalty</th><th>wicket_type</th><th>player_dismissed</th><th>other_wicket_type</th><th>other_player_dismissed</th><th>score</th></thead><tbody><tr><td><div class=\"dni-plaintext\">0</div></td><td><div class=\"dni-plaintext\">1001349</div></td><td>2016/17</td><td><span>2017-02-17 00:00:00Z</span></td><td>Melbourne Cricket Ground</td><td><div class=\"dni-plaintext\">1</div></td><td><div class=\"dni-plaintext\">0.1</div></td><td>Australia</td><td>Sri Lanka</td><td>AJ Finch</td><td>M Klinger</td><td>SL Malinga</td><td><div class=\"dni-plaintext\">0</div></td><td><div class=\"dni-plaintext\">0</div></td><td></td><td></td><td></td><td></td><td></td><td></td><td></td><td></td><td></td><td><div class=\"dni-plaintext\">0</div></td></tr><tr><td><div class=\"dni-plaintext\">1</div></td><td><div class=\"dni-plaintext\">1001349</div></td><td>2016/17</td><td><span>2017-02-17 00:00:00Z</span></td><td>Melbourne Cricket Ground</td><td><div class=\"dni-plaintext\">1</div></td><td><div class=\"dni-plaintext\">0.2</div></td><td>Australia</td><td>Sri Lanka</td><td>AJ Finch</td><td>M Klinger</td><td>SL Malinga</td><td><div class=\"dni-plaintext\">0</div></td><td><div class=\"dni-plaintext\">0</div></td><td></td><td></td><td></td><td></td><td></td><td></td><td></td><td></td><td></td><td><div class=\"dni-plaintext\">0</div></td></tr><tr><td><div class=\"dni-plaintext\">2</div></td><td><div class=\"dni-plaintext\">1001349</div></td><td>2016/17</td><td><span>2017-02-17 00:00:00Z</span></td><td>Melbourne Cricket Ground</td><td><div class=\"dni-plaintext\">1</div></td><td><div class=\"dni-plaintext\">0.3</div></td><td>Australia</td><td>Sri Lanka</td><td>AJ Finch</td><td>M Klinger</td><td>SL Malinga</td><td><div class=\"dni-plaintext\">1</div></td><td><div class=\"dni-plaintext\">0</div></td><td></td><td></td><td></td><td></td><td></td><td></td><td></td><td></td><td></td><td><div class=\"dni-plaintext\">1</div></td></tr><tr><td><div class=\"dni-plaintext\">3</div></td><td><div class=\"dni-plaintext\">1001349</div></td><td>2016/17</td><td><span>2017-02-17 00:00:00Z</span></td><td>Melbourne Cricket Ground</td><td><div class=\"dni-plaintext\">1</div></td><td><div class=\"dni-plaintext\">0.4</div></td><td>Australia</td><td>Sri Lanka</td><td>M Klinger</td><td>AJ Finch</td><td>SL Malinga</td><td><div class=\"dni-plaintext\">2</div></td><td><div class=\"dni-plaintext\">0</div></td><td></td><td></td><td></td><td></td><td></td><td></td><td></td><td></td><td></td><td><div class=\"dni-plaintext\">2</div></td></tr><tr><td><div class=\"dni-plaintext\">4</div></td><td><div class=\"dni-plaintext\">1001349</div></td><td>2016/17</td><td><span>2017-02-17 00:00:00Z</span></td><td>Melbourne Cricket Ground</td><td><div class=\"dni-plaintext\">1</div></td><td><div class=\"dni-plaintext\">0.5</div></td><td>Australia</td><td>Sri Lanka</td><td>M Klinger</td><td>AJ Finch</td><td>SL Malinga</td><td><div class=\"dni-plaintext\">0</div></td><td><div class=\"dni-plaintext\">0</div></td><td></td><td></td><td></td><td></td><td></td><td></td><td></td><td></td><td></td><td><div class=\"dni-plaintext\">0</div></td></tr><tr><td><div class=\"dni-plaintext\">5</div></td><td><div class=\"dni-plaintext\">1001349</div></td><td>2016/17</td><td><span>2017-02-17 00:00:00Z</span></td><td>Melbourne Cricket Ground</td><td><div class=\"dni-plaintext\">1</div></td><td><div class=\"dni-plaintext\">0.6</div></td><td>Australia</td><td>Sri Lanka</td><td>M Klinger</td><td>AJ Finch</td><td>SL Malinga</td><td><div class=\"dni-plaintext\">3</div></td><td><div class=\"dni-plaintext\">0</div></td><td></td><td></td><td></td><td></td><td></td><td></td><td></td><td></td><td></td><td><div class=\"dni-plaintext\">3</div></td></tr><tr><td><div class=\"dni-plaintext\">6</div></td><td><div class=\"dni-plaintext\">1001349</div></td><td>2016/17</td><td><span>2017-02-17 00:00:00Z</span></td><td>Melbourne Cricket Ground</td><td><div class=\"dni-plaintext\">1</div></td><td><div class=\"dni-plaintext\">1.1</div></td><td>Australia</td><td>Sri Lanka</td><td>M Klinger</td><td>AJ Finch</td><td>KMDN Kulasekara</td><td><div class=\"dni-plaintext\">0</div></td><td><div class=\"dni-plaintext\">0</div></td><td></td><td></td><td></td><td></td><td></td><td></td><td></td><td></td><td></td><td><div class=\"dni-plaintext\">0</div></td></tr><tr><td><div class=\"dni-plaintext\">7</div></td><td><div class=\"dni-plaintext\">1001349</div></td><td>2016/17</td><td><span>2017-02-17 00:00:00Z</span></td><td>Melbourne Cricket Ground</td><td><div class=\"dni-plaintext\">1</div></td><td><div class=\"dni-plaintext\">1.2</div></td><td>Australia</td><td>Sri Lanka</td><td>M Klinger</td><td>AJ Finch</td><td>KMDN Kulasekara</td><td><div class=\"dni-plaintext\">1</div></td><td><div class=\"dni-plaintext\">0</div></td><td></td><td></td><td></td><td></td><td></td><td></td><td></td><td></td><td></td><td><div class=\"dni-plaintext\">1</div></td></tr><tr><td><div class=\"dni-plaintext\">8</div></td><td><div class=\"dni-plaintext\">1001349</div></td><td>2016/17</td><td><span>2017-02-17 00:00:00Z</span></td><td>Melbourne Cricket Ground</td><td><div class=\"dni-plaintext\">1</div></td><td><div class=\"dni-plaintext\">1.3</div></td><td>Australia</td><td>Sri Lanka</td><td>AJ Finch</td><td>M Klinger</td><td>KMDN Kulasekara</td><td><div class=\"dni-plaintext\">0</div></td><td><div class=\"dni-plaintext\">0</div></td><td></td><td></td><td></td><td></td><td></td><td></td><td></td><td></td><td></td><td><div class=\"dni-plaintext\">0</div></td></tr><tr><td><div class=\"dni-plaintext\">9</div></td><td><div class=\"dni-plaintext\">1001349</div></td><td>2016/17</td><td><span>2017-02-17 00:00:00Z</span></td><td>Melbourne Cricket Ground</td><td><div class=\"dni-plaintext\">1</div></td><td><div class=\"dni-plaintext\">1.4</div></td><td>Australia</td><td>Sri Lanka</td><td>AJ Finch</td><td>M Klinger</td><td>KMDN Kulasekara</td><td><div class=\"dni-plaintext\">0</div></td><td><div class=\"dni-plaintext\">0</div></td><td></td><td></td><td></td><td></td><td></td><td></td><td></td><td></td><td></td><td><div class=\"dni-plaintext\">0</div></td></tr></tbody></table>"
      ]
     },
     "execution_count": 103,
     "metadata": {},
     "output_type": "execute_result"
    }
   ],
   "source": [
    "sixOverDataFrame.Head(20)"
   ]
  },
  {
   "cell_type": "markdown",
   "id": "phantom-investing",
   "metadata": {},
   "source": [
    "#### Total Score"
   ]
  },
  {
   "cell_type": "code",
   "execution_count": 104,
   "id": "indian-saver",
   "metadata": {},
   "outputs": [],
   "source": [
    "public void AddTotalScorePerBall(Microsoft.Data.Analysis.DataFrame df)\n",
    "{\n",
    "    // calculate total_score per ball\n",
    "    df.Columns.Add(new PrimitiveDataFrameColumn<Single>(CSV_COLUMN_TOTAL_SCORE, df.Rows.Count));\n",
    "    Single previousMatchId = -1;\n",
    "    Single previousInning = -1;\n",
    "    Single previousScore = -1;\n",
    "\n",
    "    foreach (var dfRow in df.Rows)\n",
    "    {\n",
    "        var matchId = (Single)dfRow[0];\n",
    "        var inning = (Single)dfRow[4];\n",
    "        var score = (Single)dfRow[df.Columns.Count - 2]; // Score\n",
    "\n",
    "        if (previousMatchId == -1) // First time\n",
    "        {\n",
    "            // Reset\n",
    "            previousMatchId = matchId;\n",
    "            previousInning = inning;\n",
    "\n",
    "            if (previousScore == -1)\n",
    "            {\n",
    "                previousScore = score;\n",
    "            }\n",
    "        }\n",
    "\n",
    "        if (matchId == previousMatchId && inning == previousInning)\n",
    "        {\n",
    "            Single newScore = previousScore + score;\n",
    "\n",
    "            // Total Score\n",
    "            dfRow[df.Columns.Count - 1] = (Single)newScore;\n",
    "            previousScore = newScore;\n",
    "        }\n",
    "        else\n",
    "        {\n",
    "            // Total Score\n",
    "            dfRow[df.Columns.Count - 1] = (Single)score;\n",
    "            \n",
    "            // Reset\n",
    "            previousMatchId = -1;\n",
    "            previousInning = -1;\n",
    "            previousScore = score;\n",
    "        }\n",
    "    }    \n",
    "}"
   ]
  },
  {
   "cell_type": "code",
   "execution_count": 105,
   "id": "perfect-great",
   "metadata": {},
   "outputs": [],
   "source": [
    "AddTotalScorePerBall(sixOverDataFrame);"
   ]
  },
  {
   "cell_type": "code",
   "execution_count": 106,
   "id": "incorrect-watershed",
   "metadata": {},
   "outputs": [
    {
     "data": {
      "text/html": [
       "<table><thead><th><i>index</i></th><th>match_id</th><th>season</th><th>start_date</th><th>venue</th><th>innings</th><th>ball</th><th>batting_team</th><th>bowling_team</th><th>striker</th><th>non_striker</th><th>bowler</th><th>runs_off_bat</th><th>extras</th><th>wides</th><th>noballs</th><th>byes</th><th>legbyes</th><th>penalty</th><th>wicket_type</th><th>player_dismissed</th><th>other_wicket_type</th><th>other_player_dismissed</th><th>score</th><th>total_score</th></thead><tbody><tr><td><div class=\"dni-plaintext\">0</div></td><td><div class=\"dni-plaintext\">1001349</div></td><td>2016/17</td><td><span>2017-02-17 00:00:00Z</span></td><td>Melbourne Cricket Ground</td><td><div class=\"dni-plaintext\">1</div></td><td><div class=\"dni-plaintext\">0.1</div></td><td>Australia</td><td>Sri Lanka</td><td>AJ Finch</td><td>M Klinger</td><td>SL Malinga</td><td><div class=\"dni-plaintext\">0</div></td><td><div class=\"dni-plaintext\">0</div></td><td></td><td></td><td></td><td></td><td></td><td></td><td></td><td></td><td></td><td><div class=\"dni-plaintext\">0</div></td><td><div class=\"dni-plaintext\">0</div></td></tr><tr><td><div class=\"dni-plaintext\">1</div></td><td><div class=\"dni-plaintext\">1001349</div></td><td>2016/17</td><td><span>2017-02-17 00:00:00Z</span></td><td>Melbourne Cricket Ground</td><td><div class=\"dni-plaintext\">1</div></td><td><div class=\"dni-plaintext\">0.2</div></td><td>Australia</td><td>Sri Lanka</td><td>AJ Finch</td><td>M Klinger</td><td>SL Malinga</td><td><div class=\"dni-plaintext\">0</div></td><td><div class=\"dni-plaintext\">0</div></td><td></td><td></td><td></td><td></td><td></td><td></td><td></td><td></td><td></td><td><div class=\"dni-plaintext\">0</div></td><td><div class=\"dni-plaintext\">0</div></td></tr><tr><td><div class=\"dni-plaintext\">2</div></td><td><div class=\"dni-plaintext\">1001349</div></td><td>2016/17</td><td><span>2017-02-17 00:00:00Z</span></td><td>Melbourne Cricket Ground</td><td><div class=\"dni-plaintext\">1</div></td><td><div class=\"dni-plaintext\">0.3</div></td><td>Australia</td><td>Sri Lanka</td><td>AJ Finch</td><td>M Klinger</td><td>SL Malinga</td><td><div class=\"dni-plaintext\">1</div></td><td><div class=\"dni-plaintext\">0</div></td><td></td><td></td><td></td><td></td><td></td><td></td><td></td><td></td><td></td><td><div class=\"dni-plaintext\">1</div></td><td><div class=\"dni-plaintext\">1</div></td></tr><tr><td><div class=\"dni-plaintext\">3</div></td><td><div class=\"dni-plaintext\">1001349</div></td><td>2016/17</td><td><span>2017-02-17 00:00:00Z</span></td><td>Melbourne Cricket Ground</td><td><div class=\"dni-plaintext\">1</div></td><td><div class=\"dni-plaintext\">0.4</div></td><td>Australia</td><td>Sri Lanka</td><td>M Klinger</td><td>AJ Finch</td><td>SL Malinga</td><td><div class=\"dni-plaintext\">2</div></td><td><div class=\"dni-plaintext\">0</div></td><td></td><td></td><td></td><td></td><td></td><td></td><td></td><td></td><td></td><td><div class=\"dni-plaintext\">2</div></td><td><div class=\"dni-plaintext\">3</div></td></tr><tr><td><div class=\"dni-plaintext\">4</div></td><td><div class=\"dni-plaintext\">1001349</div></td><td>2016/17</td><td><span>2017-02-17 00:00:00Z</span></td><td>Melbourne Cricket Ground</td><td><div class=\"dni-plaintext\">1</div></td><td><div class=\"dni-plaintext\">0.5</div></td><td>Australia</td><td>Sri Lanka</td><td>M Klinger</td><td>AJ Finch</td><td>SL Malinga</td><td><div class=\"dni-plaintext\">0</div></td><td><div class=\"dni-plaintext\">0</div></td><td></td><td></td><td></td><td></td><td></td><td></td><td></td><td></td><td></td><td><div class=\"dni-plaintext\">0</div></td><td><div class=\"dni-plaintext\">3</div></td></tr><tr><td><div class=\"dni-plaintext\">5</div></td><td><div class=\"dni-plaintext\">1001349</div></td><td>2016/17</td><td><span>2017-02-17 00:00:00Z</span></td><td>Melbourne Cricket Ground</td><td><div class=\"dni-plaintext\">1</div></td><td><div class=\"dni-plaintext\">0.6</div></td><td>Australia</td><td>Sri Lanka</td><td>M Klinger</td><td>AJ Finch</td><td>SL Malinga</td><td><div class=\"dni-plaintext\">3</div></td><td><div class=\"dni-plaintext\">0</div></td><td></td><td></td><td></td><td></td><td></td><td></td><td></td><td></td><td></td><td><div class=\"dni-plaintext\">3</div></td><td><div class=\"dni-plaintext\">6</div></td></tr><tr><td><div class=\"dni-plaintext\">6</div></td><td><div class=\"dni-plaintext\">1001349</div></td><td>2016/17</td><td><span>2017-02-17 00:00:00Z</span></td><td>Melbourne Cricket Ground</td><td><div class=\"dni-plaintext\">1</div></td><td><div class=\"dni-plaintext\">1.1</div></td><td>Australia</td><td>Sri Lanka</td><td>M Klinger</td><td>AJ Finch</td><td>KMDN Kulasekara</td><td><div class=\"dni-plaintext\">0</div></td><td><div class=\"dni-plaintext\">0</div></td><td></td><td></td><td></td><td></td><td></td><td></td><td></td><td></td><td></td><td><div class=\"dni-plaintext\">0</div></td><td><div class=\"dni-plaintext\">6</div></td></tr><tr><td><div class=\"dni-plaintext\">7</div></td><td><div class=\"dni-plaintext\">1001349</div></td><td>2016/17</td><td><span>2017-02-17 00:00:00Z</span></td><td>Melbourne Cricket Ground</td><td><div class=\"dni-plaintext\">1</div></td><td><div class=\"dni-plaintext\">1.2</div></td><td>Australia</td><td>Sri Lanka</td><td>M Klinger</td><td>AJ Finch</td><td>KMDN Kulasekara</td><td><div class=\"dni-plaintext\">1</div></td><td><div class=\"dni-plaintext\">0</div></td><td></td><td></td><td></td><td></td><td></td><td></td><td></td><td></td><td></td><td><div class=\"dni-plaintext\">1</div></td><td><div class=\"dni-plaintext\">7</div></td></tr><tr><td><div class=\"dni-plaintext\">8</div></td><td><div class=\"dni-plaintext\">1001349</div></td><td>2016/17</td><td><span>2017-02-17 00:00:00Z</span></td><td>Melbourne Cricket Ground</td><td><div class=\"dni-plaintext\">1</div></td><td><div class=\"dni-plaintext\">1.3</div></td><td>Australia</td><td>Sri Lanka</td><td>AJ Finch</td><td>M Klinger</td><td>KMDN Kulasekara</td><td><div class=\"dni-plaintext\">0</div></td><td><div class=\"dni-plaintext\">0</div></td><td></td><td></td><td></td><td></td><td></td><td></td><td></td><td></td><td></td><td><div class=\"dni-plaintext\">0</div></td><td><div class=\"dni-plaintext\">7</div></td></tr><tr><td><div class=\"dni-plaintext\">9</div></td><td><div class=\"dni-plaintext\">1001349</div></td><td>2016/17</td><td><span>2017-02-17 00:00:00Z</span></td><td>Melbourne Cricket Ground</td><td><div class=\"dni-plaintext\">1</div></td><td><div class=\"dni-plaintext\">1.4</div></td><td>Australia</td><td>Sri Lanka</td><td>AJ Finch</td><td>M Klinger</td><td>KMDN Kulasekara</td><td><div class=\"dni-plaintext\">0</div></td><td><div class=\"dni-plaintext\">0</div></td><td></td><td></td><td></td><td></td><td></td><td></td><td></td><td></td><td></td><td><div class=\"dni-plaintext\">0</div></td><td><div class=\"dni-plaintext\">7</div></td></tr></tbody></table>"
      ]
     },
     "metadata": {},
     "output_type": "display_data"
    }
   ],
   "source": [
    "display(sixOverDataFrame)"
   ]
  },
  {
   "cell_type": "markdown",
   "id": "still-composition",
   "metadata": {},
   "source": [
    "### Feature Selection\n",
    "\n",
    "There are 24 total columns in the dataset now. Not all of them are relevant for making prediction. There are different strategies available for Feature selection such as confusion matrix, seaborn plot which can be applied to select appropriate features. In order to keep things sinple, I have chosen few parameters after performing different combinations. The features selected are as follows.\n",
    "\n",
    "**Input Features**\n",
    "- venue\n",
    "- innings\n",
    "- ball\n",
    "- batting_team\n",
    "- bowling_team\n",
    "- striker\n",
    "- non_striker\n",
    "- bowler\n",
    "\n",
    "**Output**\n",
    "- total_runs"
   ]
  },
  {
   "cell_type": "code",
   "execution_count": 107,
   "id": "minute-aside",
   "metadata": {},
   "outputs": [],
   "source": [
    "// Remove extra features\n",
    "sixOverDataFrame.Columns.Remove(\"match_id\");\n",
    "sixOverDataFrame.Columns.Remove(\"season\");\n",
    "sixOverDataFrame.Columns.Remove(\"start_date\");\n",
    "sixOverDataFrame.Columns.Remove(\"runs_off_bat\");\n",
    "sixOverDataFrame.Columns.Remove(\"extras\");\n",
    "sixOverDataFrame.Columns.Remove(\"wides\");\n",
    "sixOverDataFrame.Columns.Remove(\"noballs\");\n",
    "sixOverDataFrame.Columns.Remove(\"byes\");\n",
    "sixOverDataFrame.Columns.Remove(\"legbyes\");\n",
    "sixOverDataFrame.Columns.Remove(\"penalty\");\n",
    "sixOverDataFrame.Columns.Remove(\"player_dismissed\");\n",
    "sixOverDataFrame.Columns.Remove(\"other_wicket_type\");\n",
    "sixOverDataFrame.Columns.Remove(\"other_player_dismissed\");\n",
    "sixOverDataFrame.Columns.Remove(\"score\");\n",
    "sixOverDataFrame.Columns.Remove(\"wicket_type\");"
   ]
  },
  {
   "cell_type": "code",
   "execution_count": 108,
   "id": "polished-commons",
   "metadata": {},
   "outputs": [
    {
     "data": {
      "text/html": [
       "<table><thead><th><i>index</i></th><th>venue</th><th>innings</th><th>ball</th><th>batting_team</th><th>bowling_team</th><th>striker</th><th>non_striker</th><th>bowler</th><th>total_score</th></thead><tbody><tr><td><div class=\"dni-plaintext\">0</div></td><td>Melbourne Cricket Ground</td><td><div class=\"dni-plaintext\">1</div></td><td><div class=\"dni-plaintext\">0.1</div></td><td>Australia</td><td>Sri Lanka</td><td>AJ Finch</td><td>M Klinger</td><td>SL Malinga</td><td><div class=\"dni-plaintext\">0</div></td></tr><tr><td><div class=\"dni-plaintext\">1</div></td><td>Melbourne Cricket Ground</td><td><div class=\"dni-plaintext\">1</div></td><td><div class=\"dni-plaintext\">0.2</div></td><td>Australia</td><td>Sri Lanka</td><td>AJ Finch</td><td>M Klinger</td><td>SL Malinga</td><td><div class=\"dni-plaintext\">0</div></td></tr><tr><td><div class=\"dni-plaintext\">2</div></td><td>Melbourne Cricket Ground</td><td><div class=\"dni-plaintext\">1</div></td><td><div class=\"dni-plaintext\">0.3</div></td><td>Australia</td><td>Sri Lanka</td><td>AJ Finch</td><td>M Klinger</td><td>SL Malinga</td><td><div class=\"dni-plaintext\">1</div></td></tr><tr><td><div class=\"dni-plaintext\">3</div></td><td>Melbourne Cricket Ground</td><td><div class=\"dni-plaintext\">1</div></td><td><div class=\"dni-plaintext\">0.4</div></td><td>Australia</td><td>Sri Lanka</td><td>M Klinger</td><td>AJ Finch</td><td>SL Malinga</td><td><div class=\"dni-plaintext\">3</div></td></tr><tr><td><div class=\"dni-plaintext\">4</div></td><td>Melbourne Cricket Ground</td><td><div class=\"dni-plaintext\">1</div></td><td><div class=\"dni-plaintext\">0.5</div></td><td>Australia</td><td>Sri Lanka</td><td>M Klinger</td><td>AJ Finch</td><td>SL Malinga</td><td><div class=\"dni-plaintext\">3</div></td></tr><tr><td><div class=\"dni-plaintext\">5</div></td><td>Melbourne Cricket Ground</td><td><div class=\"dni-plaintext\">1</div></td><td><div class=\"dni-plaintext\">0.6</div></td><td>Australia</td><td>Sri Lanka</td><td>M Klinger</td><td>AJ Finch</td><td>SL Malinga</td><td><div class=\"dni-plaintext\">6</div></td></tr><tr><td><div class=\"dni-plaintext\">6</div></td><td>Melbourne Cricket Ground</td><td><div class=\"dni-plaintext\">1</div></td><td><div class=\"dni-plaintext\">1.1</div></td><td>Australia</td><td>Sri Lanka</td><td>M Klinger</td><td>AJ Finch</td><td>KMDN Kulasekara</td><td><div class=\"dni-plaintext\">6</div></td></tr><tr><td><div class=\"dni-plaintext\">7</div></td><td>Melbourne Cricket Ground</td><td><div class=\"dni-plaintext\">1</div></td><td><div class=\"dni-plaintext\">1.2</div></td><td>Australia</td><td>Sri Lanka</td><td>M Klinger</td><td>AJ Finch</td><td>KMDN Kulasekara</td><td><div class=\"dni-plaintext\">7</div></td></tr><tr><td><div class=\"dni-plaintext\">8</div></td><td>Melbourne Cricket Ground</td><td><div class=\"dni-plaintext\">1</div></td><td><div class=\"dni-plaintext\">1.3</div></td><td>Australia</td><td>Sri Lanka</td><td>AJ Finch</td><td>M Klinger</td><td>KMDN Kulasekara</td><td><div class=\"dni-plaintext\">7</div></td></tr><tr><td><div class=\"dni-plaintext\">9</div></td><td>Melbourne Cricket Ground</td><td><div class=\"dni-plaintext\">1</div></td><td><div class=\"dni-plaintext\">1.4</div></td><td>Australia</td><td>Sri Lanka</td><td>AJ Finch</td><td>M Klinger</td><td>KMDN Kulasekara</td><td><div class=\"dni-plaintext\">7</div></td></tr></tbody></table>"
      ]
     },
     "metadata": {},
     "output_type": "display_data"
    }
   ],
   "source": [
    "display(sixOverDataFrame);"
   ]
  },
  {
   "cell_type": "code",
   "execution_count": 109,
   "id": "defined-terrorist",
   "metadata": {},
   "outputs": [
    {
     "data": {
      "text/html": [
       "<table><thead><th><i>index</i></th><th>Info</th><th>venue</th><th>innings</th><th>ball</th><th>batting_team</th><th>bowling_team</th><th>striker</th><th>non_striker</th><th>bowler</th><th>total_score</th></thead><tbody><tr><td><div class=\"dni-plaintext\">0</div></td><td>DataType</td><td>System.String</td><td>System.Single</td><td>System.Single</td><td>System.String</td><td>System.String</td><td>System.String</td><td>System.String</td><td>System.String</td><td>System.Single</td></tr><tr><td><div class=\"dni-plaintext\">1</div></td><td>Length (excluding null values)</td><td>75244</td><td>75244</td><td>75244</td><td>75244</td><td>75244</td><td>75244</td><td>75244</td><td>75244</td><td>75244</td></tr></tbody></table>"
      ]
     },
     "execution_count": 109,
     "metadata": {},
     "output_type": "execute_result"
    }
   ],
   "source": [
    "sixOverDataFrame.Info()"
   ]
  },
  {
   "cell_type": "code",
   "execution_count": 110,
   "id": "tired-workstation",
   "metadata": {},
   "outputs": [
    {
     "data": {
      "text/html": [
       "<table><thead><th><i>index</i></th><th>Description</th><th>innings</th><th>ball</th><th>total_score</th></thead><tbody><tr><td><div class=\"dni-plaintext\">0</div></td><td>Length (excluding null values)</td><td><div class=\"dni-plaintext\">75244</div></td><td><div class=\"dni-plaintext\">75244</div></td><td><div class=\"dni-plaintext\">75244</div></td></tr><tr><td><div class=\"dni-plaintext\">1</div></td><td>Max</td><td><div class=\"dni-plaintext\">4</div></td><td><div class=\"dni-plaintext\">5.9</div></td><td><div class=\"dni-plaintext\">98</div></td></tr><tr><td><div class=\"dni-plaintext\">2</div></td><td>Min</td><td><div class=\"dni-plaintext\">1</div></td><td><div class=\"dni-plaintext\">0.1</div></td><td><div class=\"dni-plaintext\">0</div></td></tr><tr><td><div class=\"dni-plaintext\">3</div></td><td>Mean</td><td><div class=\"dni-plaintext\">1.5008107</div></td><td><div class=\"dni-plaintext\">2.8433447</div></td><td><div class=\"dni-plaintext\">22.010925</div></td></tr></tbody></table>"
      ]
     },
     "execution_count": 110,
     "metadata": {},
     "output_type": "execute_result"
    }
   ],
   "source": [
    "sixOverDataFrame.Description()"
   ]
  },
  {
   "cell_type": "markdown",
   "id": "floppy-understanding",
   "metadata": {},
   "source": [
    "**Note** In order to make predictions, ML.Net requires a csv file that could be loaded by ML.Net API's. There is no direct way of loading a DataFrame to make predictions and DataFrame API doesn't expose any API to save the DataFrame to a csv file. \n",
    "\n",
    "I discovered a library 'Danny' which allows creating, manipulating and saving the DataFrame to a CSV file. \n",
    "\n",
    "<img src=\"assets\\daany-dotnet.png\" alt=\"Danny dotnet\" style=\"zoom:60%;margin:auto;\">\n",
    "\n",
    "\n",
    "Link: https://github.com/bhrnjica/daany\n",
    "\n",
    "I'll be using this library to recreate the DataFrame, perform modifications same as above and save it as a CSV file to be used for prediction. I found it to be very flexible. As this is kind of repetitive thing, you can skip to Training section for model creation and training.\n"
   ]
  },
  {
   "cell_type": "markdown",
   "id": "satisfactory-offer",
   "metadata": {},
   "source": [
    "### Data Manipulation\n",
    "- Take records till 6 overs\n",
    "- Remove missing values\n",
    "- Add 'score' column representing runs per ball\n",
    "- Add 'total_score' column to get the total score till the current ball"
   ]
  },
  {
   "cell_type": "markdown",
   "id": "objective-phrase",
   "metadata": {},
   "source": [
    "**Note** \n",
    "The csv dataset file has some values which contains comma ',' in the cell value such as venue having \"Simonds Stadium, South Geelong\". As a result of which, ML.Net LoadFromTextFile(...) API loads in a wrong manner and consider them to be two separate value instead of single. In order to oversome this, I have written a helper function CreateCsvAndReplaceSeparatorInCells(...) to replace comma with the specified character. "
   ]
  },
  {
   "cell_type": "code",
   "execution_count": 154,
   "id": "immediate-calculation",
   "metadata": {},
   "outputs": [],
   "source": [
    "/// <summary>\n",
    "/// Replace a character in a cell of csv with a defined separator\n",
    "/// </summary>\n",
    "/// <param name=\"inputFile\">Name of input file</param>\n",
    "/// <param name=\"outputFile\">Name of output file</param>\n",
    "/// <param name=\"separator\">Separator such as comma</param>\n",
    "/// <param name=\"separatorReplacement\">Replacement character such as underscore</param>\n",
    "private static void CreateCsvAndReplaceSeparatorInCells(string inputFile, string outputFile, char separator, char separatorReplacement)\n",
    "{\n",
    "    var culture = CultureInfo.InvariantCulture;\n",
    "    using var reader = new StreamReader(inputFile);\n",
    "    using var csvIn = new CsvReader(reader, new CsvConfiguration(culture));\n",
    "    using var recordsIn = new CsvDataReader(csvIn);\n",
    "    using var writer = new StreamWriter(outputFile);\n",
    "    using var outCsv = new CsvWriter(writer, culture);\n",
    "\n",
    "    // Write Header\n",
    "    csvIn.ReadHeader();\n",
    "    var headers = csvIn.HeaderRecord;\n",
    "    foreach (var header in headers)\n",
    "    {\n",
    "        outCsv.WriteField(header.Replace(separator, separatorReplacement));\n",
    "    }\n",
    "    outCsv.NextRecord();\n",
    "\n",
    "    // Write rows\n",
    "    while (recordsIn.Read())\n",
    "    {\n",
    "        var columns = recordsIn.FieldCount;\n",
    "        for (var index = 0; index < columns; index++)\n",
    "        {\n",
    "            var cellValue = recordsIn.GetString(index);\n",
    "            outCsv.WriteField(cellValue.Replace(separator, separatorReplacement));\n",
    "        }\n",
    "        outCsv.NextRecord();\n",
    "    }\n",
    "}"
   ]
  },
  {
   "cell_type": "code",
   "execution_count": 155,
   "id": "close-causing",
   "metadata": {},
   "outputs": [],
   "source": [
    "CreateCsvAndReplaceSeparatorInCells(DATASET_MERGED_CSV,  DATASET_ALL_CSV, ',', '_');"
   ]
  },
  {
   "cell_type": "code",
   "execution_count": 156,
   "id": "disabled-feedback",
   "metadata": {},
   "outputs": [
    {
     "data": {
      "text/html": [
       "<div class=\"dni-plaintext\">231910</div>"
      ]
     },
     "metadata": {},
     "output_type": "display_data"
    }
   ],
   "source": [
    "// Load CSV\n",
    "Daany.DataFrame cricketDaanyDataFrame = Daany.DataFrame.FromCsv(DATASET_ALL_CSV);\n",
    "display(cricketDaanyDataFrame.RowCount());    "
   ]
  },
  {
   "cell_type": "code",
   "execution_count": 157,
   "id": "floppy-baking",
   "metadata": {},
   "outputs": [
    {
     "data": {
      "text/plain": [
       "match_id"
      ]
     },
     "metadata": {},
     "output_type": "display_data"
    },
    {
     "data": {
      "text/plain": [
       "season"
      ]
     },
     "metadata": {},
     "output_type": "display_data"
    },
    {
     "data": {
      "text/plain": [
       "start_date"
      ]
     },
     "metadata": {},
     "output_type": "display_data"
    },
    {
     "data": {
      "text/plain": [
       "venue"
      ]
     },
     "metadata": {},
     "output_type": "display_data"
    },
    {
     "data": {
      "text/plain": [
       "innings"
      ]
     },
     "metadata": {},
     "output_type": "display_data"
    },
    {
     "data": {
      "text/plain": [
       "ball"
      ]
     },
     "metadata": {},
     "output_type": "display_data"
    },
    {
     "data": {
      "text/plain": [
       "batting_team"
      ]
     },
     "metadata": {},
     "output_type": "display_data"
    },
    {
     "data": {
      "text/plain": [
       "bowling_team"
      ]
     },
     "metadata": {},
     "output_type": "display_data"
    },
    {
     "data": {
      "text/plain": [
       "striker"
      ]
     },
     "metadata": {},
     "output_type": "display_data"
    },
    {
     "data": {
      "text/plain": [
       "non_striker"
      ]
     },
     "metadata": {},
     "output_type": "display_data"
    },
    {
     "data": {
      "text/plain": [
       "bowler"
      ]
     },
     "metadata": {},
     "output_type": "display_data"
    },
    {
     "data": {
      "text/plain": [
       "runs_off_bat"
      ]
     },
     "metadata": {},
     "output_type": "display_data"
    },
    {
     "data": {
      "text/plain": [
       "extras"
      ]
     },
     "metadata": {},
     "output_type": "display_data"
    },
    {
     "ename": "Unhandled exception",
     "evalue": "System.OutOfMemoryException: Insufficient memory to continue the execution of the program.\r\n   at System.Text.StringBuilder.ExpandByABlock(Int32 minBlockCharCount)\r\n   at System.Text.StringBuilder.Append(Char* value, Int32 valueCount)\r\n   at System.Text.StringBuilder.AppendHelper(String value)\r\n   at System.Text.StringBuilder.Append(String value)\r\n   at System.IO.StringWriter.Write(String value)\r\n   at Microsoft.DotNet.Interactive.Formatting.HtmlTag.WriteStartTag(TextWriter writer) in D:\\workspace\\_work\\1\\s\\src\\Microsoft.DotNet.Interactive.Formatting\\HtmlTag.cs:line 120\r\n   at Microsoft.DotNet.Interactive.Formatting.HtmlTag.WriteTo(FormatContext context) in D:\\workspace\\_work\\1\\s\\src\\Microsoft.DotNet.Interactive.Formatting\\HtmlTag.cs:line 96\r\n   at Microsoft.DotNet.Interactive.Formatting.PocketView.WriteTo(FormatContext context) in D:\\workspace\\_work\\1\\s\\src\\Microsoft.DotNet.Interactive.Formatting\\PocketView.cs:line 316\r\n   at Microsoft.DotNet.Interactive.Formatting.PocketView.Write(IReadOnlyList`1 args, FormatContext context) in D:\\workspace\\_work\\1\\s\\src\\Microsoft.DotNet.Interactive.Formatting\\PocketView.cs:line 219\r\n   at Microsoft.DotNet.Interactive.Formatting.PocketView.Write(IReadOnlyList`1 args, FormatContext context) in D:\\workspace\\_work\\1\\s\\src\\Microsoft.DotNet.Interactive.Formatting\\PocketView.cs:line 234\r\n   at Microsoft.DotNet.Interactive.Formatting.HtmlTag.WriteTo(FormatContext context) in D:\\workspace\\_work\\1\\s\\src\\Microsoft.DotNet.Interactive.Formatting\\HtmlTag.cs:line 96\r\n   at Microsoft.DotNet.Interactive.Formatting.PocketView.WriteTo(FormatContext context) in D:\\workspace\\_work\\1\\s\\src\\Microsoft.DotNet.Interactive.Formatting\\PocketView.cs:line 316\r\n   at Microsoft.DotNet.Interactive.Formatting.PocketView.Write(IReadOnlyList`1 args, FormatContext context) in D:\\workspace\\_work\\1\\s\\src\\Microsoft.DotNet.Interactive.Formatting\\PocketView.cs:line 219\r\n   at Microsoft.DotNet.Interactive.Formatting.PocketView.Write(IReadOnlyList`1 args, FormatContext context) in D:\\workspace\\_work\\1\\s\\src\\Microsoft.DotNet.Interactive.Formatting\\PocketView.cs:line 219\r\n   at Microsoft.DotNet.Interactive.Formatting.HtmlTag.WriteTo(FormatContext context) in D:\\workspace\\_work\\1\\s\\src\\Microsoft.DotNet.Interactive.Formatting\\HtmlTag.cs:line 96\r\n   at Microsoft.DotNet.Interactive.Formatting.PocketView.WriteTo(FormatContext context) in D:\\workspace\\_work\\1\\s\\src\\Microsoft.DotNet.Interactive.Formatting\\PocketView.cs:line 316\r\n   at Microsoft.DotNet.Interactive.Formatting.PocketView.Write(IReadOnlyList`1 args, FormatContext context) in D:\\workspace\\_work\\1\\s\\src\\Microsoft.DotNet.Interactive.Formatting\\PocketView.cs:line 219\r\n   at Microsoft.DotNet.Interactive.Formatting.HtmlTag.WriteTo(FormatContext context) in D:\\workspace\\_work\\1\\s\\src\\Microsoft.DotNet.Interactive.Formatting\\HtmlTag.cs:line 96\r\n   at Microsoft.DotNet.Interactive.Formatting.PocketView.WriteTo(FormatContext context) in D:\\workspace\\_work\\1\\s\\src\\Microsoft.DotNet.Interactive.Formatting\\PocketView.cs:line 316\r\n   at Microsoft.DotNet.Interactive.Formatting.HtmlFormatter`1.<>c__DisplayClass8_0.<CreateForAnyEnumerable>g__BuildTable|3(T source, FormatContext context) in D:\\workspace\\_work\\1\\s\\src\\Microsoft.DotNet.Interactive.Formatting\\HtmlFormatter{T}.cs:line 287\r\n   at Microsoft.DotNet.Interactive.Formatting.Formatter.<>c__DisplayClass53_0.<TryInferPreferredFormatter>b__4(Object value, FormatContext context) in D:\\workspace\\_work\\1\\s\\src\\Microsoft.DotNet.Interactive.Formatting\\Formatter.cs:line 561\r\n   at Microsoft.DotNet.Interactive.Formatting.Formatter`1.FormatTo(T obj, FormatContext context, String mimeType) in D:\\workspace\\_work\\1\\s\\src\\Microsoft.DotNet.Interactive.Formatting\\Formatter{T}.cs:line 65\r\n   at Microsoft.DotNet.Interactive.Formatting.Formatter.FormatTo[T](T obj, FormatContext context, String mimeType) in D:\\workspace\\_work\\1\\s\\src\\Microsoft.DotNet.Interactive.Formatting\\Formatter.cs:line 285\r\n   at Microsoft.DotNet.Interactive.Formatting.PocketView.Write(IReadOnlyList`1 args, FormatContext context) in D:\\workspace\\_work\\1\\s\\src\\Microsoft.DotNet.Interactive.Formatting\\PocketView.cs:line 238\r\n   at Microsoft.DotNet.Interactive.Formatting.HtmlTag.WriteTo(FormatContext context) in D:\\workspace\\_work\\1\\s\\src\\Microsoft.DotNet.Interactive.Formatting\\HtmlTag.cs:line 96\r\n   at Microsoft.DotNet.Interactive.Formatting.PocketView.WriteTo(FormatContext context) in D:\\workspace\\_work\\1\\s\\src\\Microsoft.DotNet.Interactive.Formatting\\PocketView.cs:line 316\r\n   at Microsoft.DotNet.Interactive.Formatting.PocketView.Write(IReadOnlyList`1 args, FormatContext context) in D:\\workspace\\_work\\1\\s\\src\\Microsoft.DotNet.Interactive.Formatting\\PocketView.cs:line 219\r\n   at Microsoft.DotNet.Interactive.Formatting.PocketView.Write(IReadOnlyList`1 args, FormatContext context) in D:\\workspace\\_work\\1\\s\\src\\Microsoft.DotNet.Interactive.Formatting\\PocketView.cs:line 219\r\n   at Microsoft.DotNet.Interactive.Formatting.HtmlTag.WriteTo(FormatContext context) in D:\\workspace\\_work\\1\\s\\src\\Microsoft.DotNet.Interactive.Formatting\\HtmlTag.cs:line 96\r\n   at Microsoft.DotNet.Interactive.Formatting.PocketView.WriteTo(FormatContext context) in D:\\workspace\\_work\\1\\s\\src\\Microsoft.DotNet.Interactive.Formatting\\PocketView.cs:line 316\r\n   at Microsoft.DotNet.Interactive.Formatting.PocketView.Write(IReadOnlyList`1 args, FormatContext context) in D:\\workspace\\_work\\1\\s\\src\\Microsoft.DotNet.Interactive.Formatting\\PocketView.cs:line 219\r\n   at Microsoft.DotNet.Interactive.Formatting.PocketView.Write(IReadOnlyList`1 args, FormatContext context) in D:\\workspace\\_work\\1\\s\\src\\Microsoft.DotNet.Interactive.Formatting\\PocketView.cs:line 234\r\n   at Microsoft.DotNet.Interactive.Formatting.HtmlTag.WriteTo(FormatContext context) in D:\\workspace\\_work\\1\\s\\src\\Microsoft.DotNet.Interactive.Formatting\\HtmlTag.cs:line 96\r\n   at Microsoft.DotNet.Interactive.Formatting.PocketView.WriteTo(FormatContext context) in D:\\workspace\\_work\\1\\s\\src\\Microsoft.DotNet.Interactive.Formatting\\PocketView.cs:line 316\r\n   at Microsoft.DotNet.Interactive.Formatting.PocketView.Write(IReadOnlyList`1 args, FormatContext context) in D:\\workspace\\_work\\1\\s\\src\\Microsoft.DotNet.Interactive.Formatting\\PocketView.cs:line 219\r\n   at Microsoft.DotNet.Interactive.Formatting.HtmlTag.WriteTo(FormatContext context) in D:\\workspace\\_work\\1\\s\\src\\Microsoft.DotNet.Interactive.Formatting\\HtmlTag.cs:line 96\r\n   at Microsoft.DotNet.Interactive.Formatting.PocketView.ToString() in D:\\workspace\\_work\\1\\s\\src\\Microsoft.DotNet.Interactive.Formatting\\PocketView.cs:line 264\r\n   at System.IO.TextWriter.Write(Object value)\r\n   at System.Dynamic.UpdateDelegates.UpdateAndExecuteVoid2[T0,T1](CallSite site, T0 arg0, T1 arg1)\r\n   at Submission#166.<>c.<<Initialize>>b__0_0(Object dataFrame, TextWriter writer)\r\n   at Microsoft.DotNet.Interactive.Formatting.Formatter.<>c__DisplayClass47_0.<Register>b__0(Object value, FormatContext context) in D:\\workspace\\_work\\1\\s\\src\\Microsoft.DotNet.Interactive.Formatting\\Formatter.cs:line 431\r\n   at Microsoft.DotNet.Interactive.Formatting.Formatter`1.FormatTo(T obj, FormatContext context, String mimeType) in D:\\workspace\\_work\\1\\s\\src\\Microsoft.DotNet.Interactive.Formatting\\Formatter{T}.cs:line 65\r\n   at Microsoft.DotNet.Interactive.Formatting.Formatter.FormatTo[T](T obj, FormatContext context, String mimeType) in D:\\workspace\\_work\\1\\s\\src\\Microsoft.DotNet.Interactive.Formatting\\Formatter.cs:line 285\r\n   at Microsoft.DotNet.Interactive.Formatting.Formatter.ToDisplayString(Object obj, String mimeType) in D:\\workspace\\_work\\1\\s\\src\\Microsoft.DotNet.Interactive.Formatting\\Formatter.cs:line 239\r\n   at Microsoft.DotNet.Interactive.KernelInvocationContextExtensions.Display(KernelInvocationContext context, Object value, String mimeType) in D:\\workspace\\_work\\1\\s\\src\\Microsoft.DotNet.Interactive\\KernelInvocationContextExtensions.cs:line 36\r\n   at Submission#170.<<Initialize>>d__0.MoveNext()\r\n--- End of stack trace from previous location ---\r\n   at Microsoft.CodeAnalysis.Scripting.ScriptExecutionState.RunSubmissionsAsync[TResult](ImmutableArray`1 precedingExecutors, Func`2 currentExecutor, StrongBox`1 exceptionHolderOpt, Func`2 catchExceptionOpt, CancellationToken cancellationToken)",
     "output_type": "error",
     "traceback": [
      "System.OutOfMemoryException: Insufficient memory to continue the execution of the program.\r\n   at System.Text.StringBuilder.ExpandByABlock(Int32 minBlockCharCount)\r\n   at System.Text.StringBuilder.Append(Char* value, Int32 valueCount)\r\n   at System.Text.StringBuilder.AppendHelper(String value)\r\n   at System.Text.StringBuilder.Append(String value)\r\n   at System.IO.StringWriter.Write(String value)\r\n   at Microsoft.DotNet.Interactive.Formatting.HtmlTag.WriteStartTag(TextWriter writer) in D:\\workspace\\_work\\1\\s\\src\\Microsoft.DotNet.Interactive.Formatting\\HtmlTag.cs:line 120\r\n   at Microsoft.DotNet.Interactive.Formatting.HtmlTag.WriteTo(FormatContext context) in D:\\workspace\\_work\\1\\s\\src\\Microsoft.DotNet.Interactive.Formatting\\HtmlTag.cs:line 96\r\n   at Microsoft.DotNet.Interactive.Formatting.PocketView.WriteTo(FormatContext context) in D:\\workspace\\_work\\1\\s\\src\\Microsoft.DotNet.Interactive.Formatting\\PocketView.cs:line 316\r\n   at Microsoft.DotNet.Interactive.Formatting.PocketView.Write(IReadOnlyList`1 args, FormatContext context) in D:\\workspace\\_work\\1\\s\\src\\Microsoft.DotNet.Interactive.Formatting\\PocketView.cs:line 219\r\n   at Microsoft.DotNet.Interactive.Formatting.PocketView.Write(IReadOnlyList`1 args, FormatContext context) in D:\\workspace\\_work\\1\\s\\src\\Microsoft.DotNet.Interactive.Formatting\\PocketView.cs:line 234\r\n   at Microsoft.DotNet.Interactive.Formatting.HtmlTag.WriteTo(FormatContext context) in D:\\workspace\\_work\\1\\s\\src\\Microsoft.DotNet.Interactive.Formatting\\HtmlTag.cs:line 96\r\n   at Microsoft.DotNet.Interactive.Formatting.PocketView.WriteTo(FormatContext context) in D:\\workspace\\_work\\1\\s\\src\\Microsoft.DotNet.Interactive.Formatting\\PocketView.cs:line 316\r\n   at Microsoft.DotNet.Interactive.Formatting.PocketView.Write(IReadOnlyList`1 args, FormatContext context) in D:\\workspace\\_work\\1\\s\\src\\Microsoft.DotNet.Interactive.Formatting\\PocketView.cs:line 219\r\n   at Microsoft.DotNet.Interactive.Formatting.PocketView.Write(IReadOnlyList`1 args, FormatContext context) in D:\\workspace\\_work\\1\\s\\src\\Microsoft.DotNet.Interactive.Formatting\\PocketView.cs:line 219\r\n   at Microsoft.DotNet.Interactive.Formatting.HtmlTag.WriteTo(FormatContext context) in D:\\workspace\\_work\\1\\s\\src\\Microsoft.DotNet.Interactive.Formatting\\HtmlTag.cs:line 96\r\n   at Microsoft.DotNet.Interactive.Formatting.PocketView.WriteTo(FormatContext context) in D:\\workspace\\_work\\1\\s\\src\\Microsoft.DotNet.Interactive.Formatting\\PocketView.cs:line 316\r\n   at Microsoft.DotNet.Interactive.Formatting.PocketView.Write(IReadOnlyList`1 args, FormatContext context) in D:\\workspace\\_work\\1\\s\\src\\Microsoft.DotNet.Interactive.Formatting\\PocketView.cs:line 219\r\n   at Microsoft.DotNet.Interactive.Formatting.HtmlTag.WriteTo(FormatContext context) in D:\\workspace\\_work\\1\\s\\src\\Microsoft.DotNet.Interactive.Formatting\\HtmlTag.cs:line 96\r\n   at Microsoft.DotNet.Interactive.Formatting.PocketView.WriteTo(FormatContext context) in D:\\workspace\\_work\\1\\s\\src\\Microsoft.DotNet.Interactive.Formatting\\PocketView.cs:line 316\r\n   at Microsoft.DotNet.Interactive.Formatting.HtmlFormatter`1.<>c__DisplayClass8_0.<CreateForAnyEnumerable>g__BuildTable|3(T source, FormatContext context) in D:\\workspace\\_work\\1\\s\\src\\Microsoft.DotNet.Interactive.Formatting\\HtmlFormatter{T}.cs:line 287\r\n   at Microsoft.DotNet.Interactive.Formatting.Formatter.<>c__DisplayClass53_0.<TryInferPreferredFormatter>b__4(Object value, FormatContext context) in D:\\workspace\\_work\\1\\s\\src\\Microsoft.DotNet.Interactive.Formatting\\Formatter.cs:line 561\r\n   at Microsoft.DotNet.Interactive.Formatting.Formatter`1.FormatTo(T obj, FormatContext context, String mimeType) in D:\\workspace\\_work\\1\\s\\src\\Microsoft.DotNet.Interactive.Formatting\\Formatter{T}.cs:line 65\r\n   at Microsoft.DotNet.Interactive.Formatting.Formatter.FormatTo[T](T obj, FormatContext context, String mimeType) in D:\\workspace\\_work\\1\\s\\src\\Microsoft.DotNet.Interactive.Formatting\\Formatter.cs:line 285\r\n   at Microsoft.DotNet.Interactive.Formatting.PocketView.Write(IReadOnlyList`1 args, FormatContext context) in D:\\workspace\\_work\\1\\s\\src\\Microsoft.DotNet.Interactive.Formatting\\PocketView.cs:line 238\r\n   at Microsoft.DotNet.Interactive.Formatting.HtmlTag.WriteTo(FormatContext context) in D:\\workspace\\_work\\1\\s\\src\\Microsoft.DotNet.Interactive.Formatting\\HtmlTag.cs:line 96\r\n   at Microsoft.DotNet.Interactive.Formatting.PocketView.WriteTo(FormatContext context) in D:\\workspace\\_work\\1\\s\\src\\Microsoft.DotNet.Interactive.Formatting\\PocketView.cs:line 316\r\n   at Microsoft.DotNet.Interactive.Formatting.PocketView.Write(IReadOnlyList`1 args, FormatContext context) in D:\\workspace\\_work\\1\\s\\src\\Microsoft.DotNet.Interactive.Formatting\\PocketView.cs:line 219\r\n   at Microsoft.DotNet.Interactive.Formatting.PocketView.Write(IReadOnlyList`1 args, FormatContext context) in D:\\workspace\\_work\\1\\s\\src\\Microsoft.DotNet.Interactive.Formatting\\PocketView.cs:line 219\r\n   at Microsoft.DotNet.Interactive.Formatting.HtmlTag.WriteTo(FormatContext context) in D:\\workspace\\_work\\1\\s\\src\\Microsoft.DotNet.Interactive.Formatting\\HtmlTag.cs:line 96\r\n   at Microsoft.DotNet.Interactive.Formatting.PocketView.WriteTo(FormatContext context) in D:\\workspace\\_work\\1\\s\\src\\Microsoft.DotNet.Interactive.Formatting\\PocketView.cs:line 316\r\n   at Microsoft.DotNet.Interactive.Formatting.PocketView.Write(IReadOnlyList`1 args, FormatContext context) in D:\\workspace\\_work\\1\\s\\src\\Microsoft.DotNet.Interactive.Formatting\\PocketView.cs:line 219\r\n   at Microsoft.DotNet.Interactive.Formatting.PocketView.Write(IReadOnlyList`1 args, FormatContext context) in D:\\workspace\\_work\\1\\s\\src\\Microsoft.DotNet.Interactive.Formatting\\PocketView.cs:line 234\r\n   at Microsoft.DotNet.Interactive.Formatting.HtmlTag.WriteTo(FormatContext context) in D:\\workspace\\_work\\1\\s\\src\\Microsoft.DotNet.Interactive.Formatting\\HtmlTag.cs:line 96\r\n   at Microsoft.DotNet.Interactive.Formatting.PocketView.WriteTo(FormatContext context) in D:\\workspace\\_work\\1\\s\\src\\Microsoft.DotNet.Interactive.Formatting\\PocketView.cs:line 316\r\n   at Microsoft.DotNet.Interactive.Formatting.PocketView.Write(IReadOnlyList`1 args, FormatContext context) in D:\\workspace\\_work\\1\\s\\src\\Microsoft.DotNet.Interactive.Formatting\\PocketView.cs:line 219\r\n   at Microsoft.DotNet.Interactive.Formatting.HtmlTag.WriteTo(FormatContext context) in D:\\workspace\\_work\\1\\s\\src\\Microsoft.DotNet.Interactive.Formatting\\HtmlTag.cs:line 96\r\n   at Microsoft.DotNet.Interactive.Formatting.PocketView.ToString() in D:\\workspace\\_work\\1\\s\\src\\Microsoft.DotNet.Interactive.Formatting\\PocketView.cs:line 264\r\n   at System.IO.TextWriter.Write(Object value)\r\n   at System.Dynamic.UpdateDelegates.UpdateAndExecuteVoid2[T0,T1](CallSite site, T0 arg0, T1 arg1)\r\n   at Submission#166.<>c.<<Initialize>>b__0_0(Object dataFrame, TextWriter writer)\r\n   at Microsoft.DotNet.Interactive.Formatting.Formatter.<>c__DisplayClass47_0.<Register>b__0(Object value, FormatContext context) in D:\\workspace\\_work\\1\\s\\src\\Microsoft.DotNet.Interactive.Formatting\\Formatter.cs:line 431\r\n   at Microsoft.DotNet.Interactive.Formatting.Formatter`1.FormatTo(T obj, FormatContext context, String mimeType) in D:\\workspace\\_work\\1\\s\\src\\Microsoft.DotNet.Interactive.Formatting\\Formatter{T}.cs:line 65\r\n   at Microsoft.DotNet.Interactive.Formatting.Formatter.FormatTo[T](T obj, FormatContext context, String mimeType) in D:\\workspace\\_work\\1\\s\\src\\Microsoft.DotNet.Interactive.Formatting\\Formatter.cs:line 285\r\n   at Microsoft.DotNet.Interactive.Formatting.Formatter.ToDisplayString(Object obj, String mimeType) in D:\\workspace\\_work\\1\\s\\src\\Microsoft.DotNet.Interactive.Formatting\\Formatter.cs:line 239\r\n   at Microsoft.DotNet.Interactive.KernelInvocationContextExtensions.Display(KernelInvocationContext context, Object value, String mimeType) in D:\\workspace\\_work\\1\\s\\src\\Microsoft.DotNet.Interactive\\KernelInvocationContextExtensions.cs:line 36\r\n   at Submission#170.<<Initialize>>d__0.MoveNext()\r\n--- End of stack trace from previous location ---\r\n   at Microsoft.CodeAnalysis.Scripting.ScriptExecutionState.RunSubmissionsAsync[TResult](ImmutableArray`1 precedingExecutors, Func`2 currentExecutor, StrongBox`1 exceptionHolderOpt, Func`2 catchExceptionOpt, CancellationToken cancellationToken)",
      "   at System.Text.StringBuilder.ExpandByABlock(Int32 minBlockCharCount)",
      "   at System.Text.StringBuilder.Append(Char* value, Int32 valueCount)",
      "   at System.Text.StringBuilder.AppendHelper(String value)",
      "   at System.Text.StringBuilder.Append(String value)",
      "   at System.IO.StringWriter.Write(String value)",
      "   at Microsoft.DotNet.Interactive.Formatting.HtmlTag.WriteStartTag(TextWriter writer) in D:\\workspace\\_work\\1\\s\\src\\Microsoft.DotNet.Interactive.Formatting\\HtmlTag.cs:line 120",
      "   at Microsoft.DotNet.Interactive.Formatting.HtmlTag.WriteTo(FormatContext context) in D:\\workspace\\_work\\1\\s\\src\\Microsoft.DotNet.Interactive.Formatting\\HtmlTag.cs:line 96",
      "   at Microsoft.DotNet.Interactive.Formatting.PocketView.WriteTo(FormatContext context) in D:\\workspace\\_work\\1\\s\\src\\Microsoft.DotNet.Interactive.Formatting\\PocketView.cs:line 316",
      "   at Microsoft.DotNet.Interactive.Formatting.PocketView.Write(IReadOnlyList`1 args, FormatContext context) in D:\\workspace\\_work\\1\\s\\src\\Microsoft.DotNet.Interactive.Formatting\\PocketView.cs:line 219",
      "   at Microsoft.DotNet.Interactive.Formatting.PocketView.Write(IReadOnlyList`1 args, FormatContext context) in D:\\workspace\\_work\\1\\s\\src\\Microsoft.DotNet.Interactive.Formatting\\PocketView.cs:line 234",
      "   at Microsoft.DotNet.Interactive.Formatting.HtmlTag.WriteTo(FormatContext context) in D:\\workspace\\_work\\1\\s\\src\\Microsoft.DotNet.Interactive.Formatting\\HtmlTag.cs:line 96",
      "   at Microsoft.DotNet.Interactive.Formatting.PocketView.WriteTo(FormatContext context) in D:\\workspace\\_work\\1\\s\\src\\Microsoft.DotNet.Interactive.Formatting\\PocketView.cs:line 316",
      "   at Microsoft.DotNet.Interactive.Formatting.PocketView.Write(IReadOnlyList`1 args, FormatContext context) in D:\\workspace\\_work\\1\\s\\src\\Microsoft.DotNet.Interactive.Formatting\\PocketView.cs:line 219",
      "   at Microsoft.DotNet.Interactive.Formatting.PocketView.Write(IReadOnlyList`1 args, FormatContext context) in D:\\workspace\\_work\\1\\s\\src\\Microsoft.DotNet.Interactive.Formatting\\PocketView.cs:line 219",
      "   at Microsoft.DotNet.Interactive.Formatting.HtmlTag.WriteTo(FormatContext context) in D:\\workspace\\_work\\1\\s\\src\\Microsoft.DotNet.Interactive.Formatting\\HtmlTag.cs:line 96",
      "   at Microsoft.DotNet.Interactive.Formatting.PocketView.WriteTo(FormatContext context) in D:\\workspace\\_work\\1\\s\\src\\Microsoft.DotNet.Interactive.Formatting\\PocketView.cs:line 316",
      "   at Microsoft.DotNet.Interactive.Formatting.PocketView.Write(IReadOnlyList`1 args, FormatContext context) in D:\\workspace\\_work\\1\\s\\src\\Microsoft.DotNet.Interactive.Formatting\\PocketView.cs:line 219",
      "   at Microsoft.DotNet.Interactive.Formatting.HtmlTag.WriteTo(FormatContext context) in D:\\workspace\\_work\\1\\s\\src\\Microsoft.DotNet.Interactive.Formatting\\HtmlTag.cs:line 96",
      "   at Microsoft.DotNet.Interactive.Formatting.PocketView.WriteTo(FormatContext context) in D:\\workspace\\_work\\1\\s\\src\\Microsoft.DotNet.Interactive.Formatting\\PocketView.cs:line 316",
      "   at Microsoft.DotNet.Interactive.Formatting.HtmlFormatter`1.<>c__DisplayClass8_0.<CreateForAnyEnumerable>g__BuildTable|3(T source, FormatContext context) in D:\\workspace\\_work\\1\\s\\src\\Microsoft.DotNet.Interactive.Formatting\\HtmlFormatter{T}.cs:line 287",
      "   at Microsoft.DotNet.Interactive.Formatting.Formatter.<>c__DisplayClass53_0.<TryInferPreferredFormatter>b__4(Object value, FormatContext context) in D:\\workspace\\_work\\1\\s\\src\\Microsoft.DotNet.Interactive.Formatting\\Formatter.cs:line 561",
      "   at Microsoft.DotNet.Interactive.Formatting.Formatter`1.FormatTo(T obj, FormatContext context, String mimeType) in D:\\workspace\\_work\\1\\s\\src\\Microsoft.DotNet.Interactive.Formatting\\Formatter{T}.cs:line 65",
      "   at Microsoft.DotNet.Interactive.Formatting.Formatter.FormatTo[T](T obj, FormatContext context, String mimeType) in D:\\workspace\\_work\\1\\s\\src\\Microsoft.DotNet.Interactive.Formatting\\Formatter.cs:line 285",
      "   at Microsoft.DotNet.Interactive.Formatting.PocketView.Write(IReadOnlyList`1 args, FormatContext context) in D:\\workspace\\_work\\1\\s\\src\\Microsoft.DotNet.Interactive.Formatting\\PocketView.cs:line 238",
      "   at Microsoft.DotNet.Interactive.Formatting.HtmlTag.WriteTo(FormatContext context) in D:\\workspace\\_work\\1\\s\\src\\Microsoft.DotNet.Interactive.Formatting\\HtmlTag.cs:line 96",
      "   at Microsoft.DotNet.Interactive.Formatting.PocketView.WriteTo(FormatContext context) in D:\\workspace\\_work\\1\\s\\src\\Microsoft.DotNet.Interactive.Formatting\\PocketView.cs:line 316",
      "   at Microsoft.DotNet.Interactive.Formatting.PocketView.Write(IReadOnlyList`1 args, FormatContext context) in D:\\workspace\\_work\\1\\s\\src\\Microsoft.DotNet.Interactive.Formatting\\PocketView.cs:line 219",
      "   at Microsoft.DotNet.Interactive.Formatting.PocketView.Write(IReadOnlyList`1 args, FormatContext context) in D:\\workspace\\_work\\1\\s\\src\\Microsoft.DotNet.Interactive.Formatting\\PocketView.cs:line 219",
      "   at Microsoft.DotNet.Interactive.Formatting.HtmlTag.WriteTo(FormatContext context) in D:\\workspace\\_work\\1\\s\\src\\Microsoft.DotNet.Interactive.Formatting\\HtmlTag.cs:line 96",
      "   at Microsoft.DotNet.Interactive.Formatting.PocketView.WriteTo(FormatContext context) in D:\\workspace\\_work\\1\\s\\src\\Microsoft.DotNet.Interactive.Formatting\\PocketView.cs:line 316",
      "   at Microsoft.DotNet.Interactive.Formatting.PocketView.Write(IReadOnlyList`1 args, FormatContext context) in D:\\workspace\\_work\\1\\s\\src\\Microsoft.DotNet.Interactive.Formatting\\PocketView.cs:line 219",
      "   at Microsoft.DotNet.Interactive.Formatting.PocketView.Write(IReadOnlyList`1 args, FormatContext context) in D:\\workspace\\_work\\1\\s\\src\\Microsoft.DotNet.Interactive.Formatting\\PocketView.cs:line 234",
      "   at Microsoft.DotNet.Interactive.Formatting.HtmlTag.WriteTo(FormatContext context) in D:\\workspace\\_work\\1\\s\\src\\Microsoft.DotNet.Interactive.Formatting\\HtmlTag.cs:line 96",
      "   at Microsoft.DotNet.Interactive.Formatting.PocketView.WriteTo(FormatContext context) in D:\\workspace\\_work\\1\\s\\src\\Microsoft.DotNet.Interactive.Formatting\\PocketView.cs:line 316",
      "   at Microsoft.DotNet.Interactive.Formatting.PocketView.Write(IReadOnlyList`1 args, FormatContext context) in D:\\workspace\\_work\\1\\s\\src\\Microsoft.DotNet.Interactive.Formatting\\PocketView.cs:line 219",
      "   at Microsoft.DotNet.Interactive.Formatting.HtmlTag.WriteTo(FormatContext context) in D:\\workspace\\_work\\1\\s\\src\\Microsoft.DotNet.Interactive.Formatting\\HtmlTag.cs:line 96",
      "   at Microsoft.DotNet.Interactive.Formatting.PocketView.ToString() in D:\\workspace\\_work\\1\\s\\src\\Microsoft.DotNet.Interactive.Formatting\\PocketView.cs:line 264",
      "   at System.IO.TextWriter.Write(Object value)",
      "   at System.Dynamic.UpdateDelegates.UpdateAndExecuteVoid2[T0,T1](CallSite site, T0 arg0, T1 arg1)",
      "   at Submission#166.<>c.<<Initialize>>b__0_0(Object dataFrame, TextWriter writer)",
      "   at Microsoft.DotNet.Interactive.Formatting.Formatter.<>c__DisplayClass47_0.<Register>b__0(Object value, FormatContext context) in D:\\workspace\\_work\\1\\s\\src\\Microsoft.DotNet.Interactive.Formatting\\Formatter.cs:line 431",
      "   at Microsoft.DotNet.Interactive.Formatting.Formatter`1.FormatTo(T obj, FormatContext context, String mimeType) in D:\\workspace\\_work\\1\\s\\src\\Microsoft.DotNet.Interactive.Formatting\\Formatter{T}.cs:line 65",
      "   at Microsoft.DotNet.Interactive.Formatting.Formatter.FormatTo[T](T obj, FormatContext context, String mimeType) in D:\\workspace\\_work\\1\\s\\src\\Microsoft.DotNet.Interactive.Formatting\\Formatter.cs:line 285",
      "   at Microsoft.DotNet.Interactive.Formatting.Formatter.ToDisplayString(Object obj, String mimeType) in D:\\workspace\\_work\\1\\s\\src\\Microsoft.DotNet.Interactive.Formatting\\Formatter.cs:line 239",
      "   at Microsoft.DotNet.Interactive.KernelInvocationContextExtensions.Display(KernelInvocationContext context, Object value, String mimeType) in D:\\workspace\\_work\\1\\s\\src\\Microsoft.DotNet.Interactive\\KernelInvocationContextExtensions.cs:line 36",
      "   at Submission#170.<<Initialize>>d__0.MoveNext()",
      "--- End of stack trace from previous location ---",
      "   at Microsoft.CodeAnalysis.Scripting.ScriptExecutionState.RunSubmissionsAsync[TResult](ImmutableArray`1 precedingExecutors, Func`2 currentExecutor, StrongBox`1 exceptionHolderOpt, Func`2 catchExceptionOpt, CancellationToken cancellationToken)"
     ]
    }
   ],
   "source": [
    "// Remove missing values\n",
    "var missingValues = cricketDaanyDataFrame.MissingValues();\n",
    "\n",
    "List<string> nonNullColumns = new List<string>();\n",
    "foreach (var dfColumn in cricketDaanyDataFrame.Columns)\n",
    "{\n",
    "    if (!missingValues.ContainsKey(dfColumn))\n",
    "    {\n",
    "        display(dfColumn);\n",
    "        nonNullColumns.Add(dfColumn);\n",
    "    }\n",
    "}\n",
    "\n",
    "cricketDaanyDataFrame = cricketDaanyDataFrame[nonNullColumns.ToArray()];\n",
    "display(cricketDaanyDataFrame);"
   ]
  },
  {
   "cell_type": "code",
   "execution_count": 158,
   "id": "difficult-manufacturer",
   "metadata": {},
   "outputs": [],
   "source": [
    "// Filter dataset to include till 6 overs and discard beyond that\n",
    "var sixBallDaanyDataFrame = cricketDaanyDataFrame.Filter(CSV_COLUMN_BALL, OVER_THRESHOLD, FilterOperator.LessOrEqual);"
   ]
  },
  {
   "cell_type": "code",
   "execution_count": 116,
   "id": "grand-hollywood",
   "metadata": {},
   "outputs": [],
   "source": [
    "// Add 'score' column\n",
    "sixBallDaanyDataFrame.AddCalculatedColumn(CSV_COLUMN_SCORE, (r, i) =>\n",
    "{\n",
    "    return Convert.ToInt32(r[CSV_COLUMN_RUNS_OFF_BAT]) + Convert.ToInt32(r[CSV_COLUMN_EXTRAS]);\n",
    "});"
   ]
  },
  {
   "cell_type": "markdown",
   "id": "strange-encyclopedia",
   "metadata": {},
   "source": [
    "#### Calculating Total Score\n",
    "There is no direct way to calculate the total score as it has to be cumulative sum and restricted to 6 overs only in the dataset. I have written a function to calculat the Total Score"
   ]
  },
  {
   "cell_type": "code",
   "execution_count": 117,
   "id": "noble-chart",
   "metadata": {},
   "outputs": [],
   "source": [
    "/// <summary>\n",
    "/// Adds a total_score column to the DataFrame by calculating the cumulative sum\n",
    "/// </summary>\n",
    "/// <param name=\"df\">DataFrame to which new column is added</param>\n",
    "public void AddTotalScorePerBallDaany(Daany.DataFrame df)\n",
    "{\n",
    "    // https://github.com/bhrnjica/daany\n",
    "    // calculate total_score per ball\n",
    "    df.AddCalculatedColumn(CSV_COLUMN_TOTAL_SCORE, (r, i) =>\n",
    "    {\n",
    "        var response = Convert.ToSingle(r[CSV_COLUMN_SCORE]);\n",
    "        return 0;\n",
    "    });\n",
    "\n",
    "    int previousMatchId = -1;\n",
    "    int previousInning = -1;\n",
    "    float previousScore = -1;\n",
    "    int rowIndex = 0;\n",
    "\n",
    "    foreach (var dfRow in df.GetRowEnumerator())\n",
    "    {\n",
    "        var matchId = (int)dfRow[0];\n",
    "        var inning = (int)dfRow[4];\n",
    "        var score = Convert.ToSingle(dfRow[df.Columns.Count - 2]); // Score\n",
    "\n",
    "        if (previousMatchId == -1) // First time\n",
    "        {\n",
    "            // Reset\n",
    "            previousMatchId = matchId;\n",
    "            previousInning = inning;\n",
    "\n",
    "            if (previousScore == -1)\n",
    "            {\n",
    "                previousScore = score;\n",
    "            }\n",
    "        }\n",
    "\n",
    "        if (matchId == previousMatchId && inning == previousInning)\n",
    "        {\n",
    "            float newScore = previousScore + score;\n",
    "\n",
    "            // Total Score\n",
    "            dfRow[df.Columns.Count - 1] = newScore;\n",
    "\n",
    "            df[rowIndex, df.Columns.Count - 1] = newScore;\n",
    "            previousScore = newScore;\n",
    "        }\n",
    "        else\n",
    "        {\n",
    "            // Total Score\n",
    "            dfRow[df.Columns.Count - 1] = score;\n",
    "            df[rowIndex, df.Columns.Count - 1] = score;\n",
    "\n",
    "            // Reset\n",
    "            previousMatchId = -1;\n",
    "            previousInning = -1;\n",
    "            previousScore = score;\n",
    "        }\n",
    "\n",
    "        rowIndex++;\n",
    "    }\n",
    "}"
   ]
  },
  {
   "cell_type": "code",
   "execution_count": 118,
   "id": "textile-spain",
   "metadata": {},
   "outputs": [
    {
     "data": {
      "text/html": [
       "<table><thead><tr><th>Columns</th><th>ColTypes</th><th>Index</th><th>Shape</th></tr></thead><tbody><tr><td><div class=\"dni-plaintext\">[ match_id, season, start_date, venue, innings, ball, batting_team, bowling_team, striker, non_striker, bowler, runs_off_bat, extras, score, total_score ]</div></td><td><div class=\"dni-plaintext\">[ I32, STR, DT, STR, I32, F32, STR, STR, STR, STR, STR, I32, I32, I32, I32 ]</div></td><td><div class=\"dni-plaintext\">[ 0, 1, 2, 3, 4, 5, 6, 7, 8, 9, 10, 11, 12, 13, 14, 15, 16, 17, 18, 19 ... (75224 more) ]</div></td><td><div class=\"dni-plaintext\">( 75244, 15 )</div></td></tr></tbody></table>"
      ]
     },
     "metadata": {},
     "output_type": "display_data"
    }
   ],
   "source": [
    "AddTotalScorePerBallDaany(sixBallDaanyDataFrame);\n",
    "display(sixBallDaanyDataFrame);"
   ]
  },
  {
   "cell_type": "code",
   "execution_count": 119,
   "id": "nominated-security",
   "metadata": {},
   "outputs": [
    {
     "data": {
      "text/html": [
       "<table><thead><tr><th>Columns</th><th>ColTypes</th><th>Index</th><th>Shape</th></tr></thead><tbody><tr><td><div class=\"dni-plaintext\">[ venue, innings, ball, batting_team, bowling_team, striker, non_striker, bowler, total_score ]</div></td><td><div class=\"dni-plaintext\">[ STR, I32, F32, STR, STR, STR, STR, STR, I32 ]</div></td><td><div class=\"dni-plaintext\">[ 0, 1, 2, 3, 4, 5, 6, 7, 8, 9, 10, 11, 12, 13, 14, 15, 16, 17, 18, 19 ... (75224 more) ]</div></td><td><div class=\"dni-plaintext\">( 75244, 9 )</div></td></tr></tbody></table>"
      ]
     },
     "metadata": {},
     "output_type": "display_data"
    }
   ],
   "source": [
    "// Filter columns\n",
    "sixBallDaanyDataFrame = sixBallDaanyDataFrame[CSV_COLUMN_VENUE, CSV_COLUMN_INNINGS, CSV_COLUMN_BALL, CSV_COLUMN_BATTING_TEAM, CSV_COLUMN_BOWLING_TEAM, CSV_COLUMN_STRIKER, CSV_COLUMN_NON_STRIKER, CSV_COLUMN_BOWLER, CSV_COLUMN_TOTAL_SCORE];\n",
    "display(sixBallDaanyDataFrame);"
   ]
  },
  {
   "cell_type": "code",
   "execution_count": 120,
   "id": "cloudy-latex",
   "metadata": {},
   "outputs": [],
   "source": [
    "// Save DataFrame to CSV\n",
    "Daany.DataFrame.ToCsv(DATASET_CLEANED_CSV, sixBallDaanyDataFrame);"
   ]
  },
  {
   "cell_type": "markdown",
   "id": "prostate-louis",
   "metadata": {},
   "source": [
    "### Final Dataset Columns\n",
    "- Venue\n",
    "- Innings\n",
    "- Ball\n",
    "- Batting_Team\n",
    "- Bowling_Team\n",
    "- Striker\n",
    "- Non_Striker\n",
    "- Bowler\n",
    "- Total_Score"
   ]
  },
  {
   "cell_type": "markdown",
   "id": "arabic-james",
   "metadata": {},
   "source": [
    "## **Training**"
   ]
  },
  {
   "cell_type": "markdown",
   "id": "seeing-entertainment",
   "metadata": {},
   "source": [
    "### Data Classes\n",
    "\n",
    "We need to create few data structures to map the columns within our dataset."
   ]
  },
  {
   "cell_type": "markdown",
   "id": "pleased-manor",
   "metadata": {},
   "source": [
    "#### Match"
   ]
  },
  {
   "cell_type": "code",
   "execution_count": 145,
   "id": "sunset-preparation",
   "metadata": {},
   "outputs": [],
   "source": [
    "/// <summary>\n",
    "/// Represents the input features involved in prediction\n",
    "/// </summary>\n",
    "public class Match\n",
    "{\n",
    "    /// <summary>\n",
    "    /// Match venue\n",
    "    /// </summary>\n",
    "    [LoadColumn(0)]\n",
    "    public string Venue { get; set; }\n",
    "\n",
    "    /// <summary>\n",
    "    /// Innning within a Match\n",
    "    /// </summary>\n",
    "    [LoadColumn(1)]\n",
    "    public float Inning { get; set; }\n",
    "\n",
    "    /// <summary>\n",
    "    /// Current Ball being thrown\n",
    "    /// </summary>\n",
    "    [LoadColumn(2)]\n",
    "    public float Ball { get; set; }\n",
    "\n",
    "    /// <summary>\n",
    "    /// Name of the batting team\n",
    "    /// </summary>\n",
    "    [LoadColumn(3)]\n",
    "    public string BattingTeam { get; set; }\n",
    "\n",
    "    /// <summary>\n",
    "    /// Name of the bowling team\n",
    "    /// </summary>\n",
    "    [LoadColumn(4)] \n",
    "    public string BowlingTeam { get; set; }\n",
    "\n",
    "    /// <summary>\n",
    "    /// Batsman on strike\n",
    "    /// </summary>\n",
    "    [LoadColumn(5)]\n",
    "    public string Striker { get; set; }\n",
    "\n",
    "    /// <summary>\n",
    "    /// Non striker batsman\n",
    "    /// </summary>\n",
    "    [LoadColumn(6)]\n",
    "    public string NonStriker { get; set; }\n",
    "\n",
    "    /// <summary>\n",
    "    /// Current bowler\n",
    "    /// </summary>\n",
    "    [LoadColumn(7)]\n",
    "    public string Bowler { get; set; }\n",
    "\n",
    "    /// <summary>\n",
    "    /// Total score till the current ball\n",
    "    /// </summary>\n",
    "    [LoadColumn(8)]\n",
    "    public float TotalScore { get; set; }\n",
    "    \n",
    "    public override string ToString()\n",
    "    {\n",
    "        var sb = new StringBuilder();\n",
    "        sb.Append($\"Venue: {Venue}\");\n",
    "        sb.Append($\"\\nBatting Team: {BattingTeam}\");\n",
    "        sb.Append($\"\\nBowling Team: {BowlingTeam}\");\n",
    "        sb.Append($\"\\nInning: {Inning}\");\n",
    "        sb.Append($\"\\nBall: {Ball}\");\n",
    "        sb.Append($\"\\nStriker: {Striker}\");\n",
    "        sb.Append($\"\\nNon-Striker: {NonStriker}\");\n",
    "        sb.Append($\"\\nBowler: {Bowler}\");\n",
    "\n",
    "        return sb.ToString();\n",
    "    }\n",
    "}"
   ]
  },
  {
   "cell_type": "markdown",
   "id": "innovative-article",
   "metadata": {},
   "source": [
    "#### MatchScorePrediction"
   ]
  },
  {
   "cell_type": "code",
   "execution_count": 126,
   "id": "suspected-elephant",
   "metadata": {},
   "outputs": [],
   "source": [
    "/// <summary>\n",
    "/// Manages the score prediction \n",
    "/// </summary>\n",
    "public class MatchScorePrediction\n",
    "{\n",
    "    /// <summary>\n",
    "    /// Total runs scored by the team at the specified ball\n",
    "    /// </summary>\n",
    "    [ColumnName(\"Score\")]\n",
    "    public float TotalScore { get; set; }\n",
    "}"
   ]
  },
  {
   "cell_type": "markdown",
   "id": "pressed-cradle",
   "metadata": {},
   "source": [
    "### Load Dataset"
   ]
  },
  {
   "cell_type": "code",
   "execution_count": 130,
   "id": "electrical-blend",
   "metadata": {},
   "outputs": [],
   "source": [
    "// Load the dataset\n",
    "var mlContext = new MLContext(seed:1);\n",
    "IDataView data = mlContext.Data.LoadFromTextFile<Match>(\n",
    "    path:DATASET_CLEANED_CSV,\n",
    "    hasHeader: true,\n",
    "    separatorChar: ',');"
   ]
  },
  {
   "cell_type": "code",
   "execution_count": 131,
   "id": "hundred-metallic",
   "metadata": {},
   "outputs": [],
   "source": [
    "// Split dataset\n",
    "var trainTestData = mlContext.Data.TrainTestSplit(data, 0.2); // Training/Test : 80/20"
   ]
  },
  {
   "cell_type": "code",
   "execution_count": 135,
   "id": "closing-visiting",
   "metadata": {},
   "outputs": [
    {
     "name": "stderr",
     "output_type": "stream",
     "text": [
      "\n",
      "(2,27): warning CS1701: Assuming assembly reference 'Microsoft.AspNetCore.Html.Abstractions, Version=2.2.0.0, Culture=neutral, PublicKeyToken=adb9793829ddae60' used by 'Microsoft.DotNet.Interactive.Formatting' matches identity 'Microsoft.AspNetCore.Html.Abstractions, Version=5.0.0.0, Culture=neutral, PublicKeyToken=adb9793829ddae60' of 'Microsoft.AspNetCore.Html.Abstractions', you may need to supply runtime policy\n",
      "\n"
     ]
    }
   ],
   "source": [
    "// Transform\n",
    "var dataProcessPipeline = mlContext.Transforms.CopyColumns(outputColumnName: \"Label\", inputColumnName: nameof(Match.TotalScore))\n",
    "\n",
    "    .Append(mlContext.Transforms.Categorical.OneHotEncoding(\"VenueEncoded\", nameof(Match.Venue)))\n",
    "    .Append(mlContext.Transforms.Categorical.OneHotEncoding(\"BattingTeamEncoded\", nameof(Match.BattingTeam)))\n",
    "    .Append(mlContext.Transforms.Categorical.OneHotEncoding(\"BowlingTeamEncoded\", nameof(Match.BowlingTeam)))\n",
    "    .Append(mlContext.Transforms.Categorical.OneHotEncoding(\"StrikerEncoded\", nameof(Match.Striker)))\n",
    "    .Append(mlContext.Transforms.Categorical.OneHotEncoding(\"NonStrikerEncoded\", nameof(Match.NonStriker)))\n",
    "    .Append(mlContext.Transforms.Categorical.OneHotEncoding(\"BowlerEncoded\", nameof(Match.Bowler)))\n",
    "\n",
    "    .Append(mlContext.Transforms.Concatenate(\"Features\", \n",
    "        \"VenueEncoded\",\n",
    "                        nameof(Match.Inning),\n",
    "                        nameof(Match.Ball),\n",
    "                        \"BattingTeamEncoded\",\n",
    "                        \"BowlingTeamEncoded\",\n",
    "                        \"StrikerEncoded\",\n",
    "                        \"NonStrikerEncoded\",\n",
    "                        \"BowlerEncoded\"\n",
    "    ));"
   ]
  },
  {
   "cell_type": "code",
   "execution_count": 138,
   "id": "metropolitan-pearl",
   "metadata": {},
   "outputs": [],
   "source": [
    "// Train\n",
    "var trainingPipeline = dataProcessPipeline.Append(mlContext.Regression.Trainers.FastTree(labelColumnName: \"Label\", featureColumnName: \"Features\"));\n",
    "var trainedModel = trainingPipeline.Fit(trainTestData.TrainSet);"
   ]
  },
  {
   "cell_type": "markdown",
   "id": "joint-continuity",
   "metadata": {},
   "source": [
    "## **Evaluate**"
   ]
  },
  {
   "cell_type": "code",
   "execution_count": 140,
   "id": "outstanding-washer",
   "metadata": {},
   "outputs": [
    {
     "data": {
      "text/plain": [
       "*************************************************"
      ]
     },
     "metadata": {},
     "output_type": "display_data"
    },
    {
     "data": {
      "text/plain": [
       "*       Model quality metrics evaluation         "
      ]
     },
     "metadata": {},
     "output_type": "display_data"
    },
    {
     "data": {
      "text/plain": [
       "*------------------------------------------------"
      ]
     },
     "metadata": {},
     "output_type": "display_data"
    },
    {
     "data": {
      "text/plain": [
       "*       RSquared Score:      0.82"
      ]
     },
     "metadata": {},
     "output_type": "display_data"
    },
    {
     "data": {
      "text/plain": [
       "*       Root Mean Squared Error:      6.73"
      ]
     },
     "metadata": {},
     "output_type": "display_data"
    }
   ],
   "source": [
    "var predictions = trainedModel.Transform(trainTestData.TestSet);\n",
    "var metrics = mlContext.Regression.Evaluate(predictions, \"Label\", \"Score\");\n",
    "display($\"*************************************************\");\n",
    "display($\"*       Model quality metrics evaluation         \");\n",
    "display($\"*------------------------------------------------\");\n",
    "display($\"*       RSquared Score:      {metrics.RSquared:0.##}\");\n",
    "display($\"*       Root Mean Squared Error:      {metrics.RootMeanSquaredError:#.##}\");"
   ]
  },
  {
   "cell_type": "markdown",
   "id": "dutch-vegetation",
   "metadata": {},
   "source": [
    "## **Save Model**"
   ]
  },
  {
   "cell_type": "code",
   "execution_count": 142,
   "id": "valuable-custom",
   "metadata": {},
   "outputs": [
    {
     "data": {
      "text/plain": [
       "The model is saved to D:\\Praveen\\sourcecontrol\\github\\praveenraghuvanshi\\tech-sessions\\drafts\\Sport Analytics\\model.zip"
      ]
     },
     "metadata": {},
     "output_type": "display_data"
    }
   ],
   "source": [
    "// Save\n",
    "var savedPath = Path.Combine(Directory.GetCurrentDirectory(), MODEL_FILE);\n",
    "mlContext.Model.Save(trainedModel, trainTestData.TrainSet.Schema, savedPath);\n",
    "display($\"The model is saved to {savedPath}\");"
   ]
  },
  {
   "cell_type": "markdown",
   "id": "studied-brazil",
   "metadata": {},
   "source": [
    "## **Prediction**"
   ]
  },
  {
   "cell_type": "code",
   "execution_count": 152,
   "id": "legitimate-edgar",
   "metadata": {},
   "outputs": [
    {
     "data": {
      "text/plain": [
       "*********** Predict..."
      ]
     },
     "metadata": {},
     "output_type": "display_data"
    },
    {
     "data": {
      "text/plain": [
       "Match Info:\n",
       "\n",
       "Venue: Vidarbha Cricket Association Stadium_ Jamtha\n",
       "Batting Team: India\n",
       "Bowling Team: New Zealand\n",
       "Inning: 1\n",
       "Ball: 3.4\n",
       "Striker: V Kohli\n",
       "Non-Striker: Yuvraj Singh\n",
       "Bowler: A Nehra "
      ]
     },
     "metadata": {},
     "output_type": "display_data"
    },
    {
     "data": {
      "text/plain": [
       "\n",
       "^^^^^^ Prediction:  24.15512 "
      ]
     },
     "metadata": {},
     "output_type": "display_data"
    },
    {
     "data": {
      "text/plain": [
       "**********************************************************************"
      ]
     },
     "metadata": {},
     "output_type": "display_data"
    },
    {
     "data": {
      "text/plain": [
       "Predicted score: 24.1551, actual score: 26"
      ]
     },
     "metadata": {},
     "output_type": "display_data"
    },
    {
     "data": {
      "text/plain": [
       "**********************************************************************"
      ]
     },
     "metadata": {},
     "output_type": "display_data"
    }
   ],
   "source": [
    "// Predict\n",
    "display(\"*********** Predict...\");\n",
    "var predictionEngine = mlContext.Model.CreatePredictionEngine<Match, MatchScorePrediction>(trainedModel);\n",
    "var match = new Match\n",
    "{\n",
    "    Ball = 3.4f,\n",
    "    BattingTeam = \"India\",\n",
    "    BowlingTeam = \"New Zealand\",\n",
    "    Bowler = \"A Nehra\",\n",
    "    Inning = 1,\n",
    "    Striker = \"V Kohli\",\n",
    "    NonStriker = \"Yuvraj Singh\",\n",
    "    Venue = \"Vidarbha Cricket Association Stadium_ Jamtha\"\n",
    "};\n",
    "\n",
    "// make the prediction\n",
    "var prediction = predictionEngine.Predict(match);\n",
    "\n",
    "// report the results\n",
    "display($\"Match Info:\\n\\n{match} \");\n",
    "display($\"\\n^^^^^^ Prediction:  {prediction.TotalScore} \");\n",
    "display($\"**********************************************************************\");\n",
    "display($\"Predicted score: {prediction.TotalScore:0.####}, actual score: 26\");\n",
    "display($\"**********************************************************************\");"
   ]
  },
  {
   "cell_type": "code",
   "execution_count": null,
   "id": "smooth-booking",
   "metadata": {},
   "outputs": [],
   "source": []
  },
  {
   "cell_type": "code",
   "execution_count": null,
   "id": "numerical-savage",
   "metadata": {},
   "outputs": [],
   "source": []
  },
  {
   "cell_type": "code",
   "execution_count": null,
   "id": "desperate-johnson",
   "metadata": {},
   "outputs": [],
   "source": []
  },
  {
   "cell_type": "code",
   "execution_count": null,
   "id": "reserved-alpha",
   "metadata": {},
   "outputs": [],
   "source": []
  },
  {
   "cell_type": "markdown",
   "id": "differential-fancy",
   "metadata": {},
   "source": [
    "## Problem statement\n",
    "EDA\n",
    " - Data Cleaning\n",
    " - Analysis of Dataset\n",
    " - Visualizations\n",
    "\n",
    "Prediction\n",
    " - Algorithm(Linear Regression)\n",
    " - Parameter Tuning\n",
    " - Better algorithm\n",
    " - Accuracy/Loss\n",
    " - Model Builder\n",
    " "
   ]
  },
  {
   "cell_type": "code",
   "execution_count": null,
   "id": "organizational-mobile",
   "metadata": {},
   "outputs": [],
   "source": []
  }
 ],
 "metadata": {
  "kernelspec": {
   "display_name": ".NET (C#)",
   "language": "C#",
   "name": ".net-csharp"
  },
  "language_info": {
   "file_extension": ".cs",
   "mimetype": "text/x-csharp",
   "name": "C#",
   "pygments_lexer": "csharp",
   "version": "9.0"
  }
 },
 "nbformat": 4,
 "nbformat_minor": 5
}
