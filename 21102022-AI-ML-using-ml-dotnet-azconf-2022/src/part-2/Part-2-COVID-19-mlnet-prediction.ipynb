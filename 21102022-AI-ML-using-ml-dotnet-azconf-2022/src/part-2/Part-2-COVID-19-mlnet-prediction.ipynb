{
 "cells": [
  {
   "cell_type": "markdown",
   "metadata": {},
   "source": [
    "# Part - 2: COVID-19 Time Series Analysis and Prediction using ML.Net framework"
   ]
  },
  {
   "cell_type": "markdown",
   "metadata": {},
   "source": [
    "## COVID-19\n",
    "- As per [Wiki](https://en.wikipedia.org/wiki/Coronavirus_disease_2019) **Coronavirus disease 2019** (**COVID-19**) is an infectious disease caused by severe acute respiratory syndrome coronavirus 2 (SARS-CoV-2). The disease was first identified in 2019 in Wuhan, the capital of China's Hubei province, and has since spread globally, resulting in the ongoing 2019–20 coronavirus pandemic.\n",
    "- The virus had caused a pandemic across the globe and spreading/affecting most of the nations. \n",
    "- The purpose of notebook is to visualize the trends of virus spread in various countries and explore features present in ML.Net such as DataFrame."
   ]
  },
  {
   "cell_type": "markdown",
   "metadata": {},
   "source": [
    "### Acknowledgement\n",
    "- [Johns Hopkins CSSE](https://github.com/CSSEGISandData/COVID-19/raw/master/csse_covid_19_data) for dataset\n",
    "- [COVID-19 data visualization](https://www.kaggle.com/akshaysb/covid-19-data-visualization) by Akshay Sb"
   ]
  },
  {
   "cell_type": "markdown",
   "metadata": {},
   "source": [
    "### Dataset\n",
    "\n",
    "- [2019 Novel Coronavirus COVID-19 (2019-nCoV) Data Repository by Johns Hopkins CSSE - Time Series](https://github.com/CSSEGISandData/COVID-19/tree/master/csse_covid_19_data/csse_covid_19_time_series)."
   ]
  },
  {
   "cell_type": "markdown",
   "metadata": {},
   "source": [
    "### Introduction \n",
    "\n",
    "This is **Part-2** of our analysis on the COVID-19 dataset provided by Johns Hopkins CSSE. In [**Part-1**](https://github.com/praveenraghuvanshi/TechnicalSessions/tree/31052020-virtualmlnet/31052020-virtualmlnet/src/part-1), I did data analysis on the dataset and created some tables and plots for getting insights from it. In Part-2, I'll focus on applying machine learning for making a prediction using time-series API's provided by ML.Net framework. I'll be building a model from scratch on the number of confirmed cases and predicting for the next 7 days. Later on, I'll plot these numbers for better visualization.\n",
    "\n",
    "[**ML.Net**](https://dotnet.microsoft.com/apps/machinelearning-ai/ml-dotnet) is a cross-platform framework from Microsoft for developing Machine learning models in the .Net ecosystem. It allows .Net developers to solve business problems using machine learning algorithms leveraging their preferred language such as C#/F#. It's highly scalable and used within Microsoft in many of its products such as Bing, Powerpoint, etc.\n",
    "\n",
    "**Disclaimer**: This is an exercise to explore different features present in ML.Net. The actual and predicted numbers might vary due to several factors such as size and features in a dataset."
   ]
  },
  {
   "cell_type": "markdown",
   "metadata": {},
   "source": [
    "### Summary\n",
    "\n",
    "Below is the summary of steps we'll be performing\n",
    "\n",
    "1. Define application level items\n",
    "    - Nuget packages\n",
    "    - Namespaces\n",
    "    - Constants\n",
    "     \n",
    "2. Utility Functions\n",
    "    - Formatters    \n",
    "\n",
    "3. Dataset and Transformations\n",
    "    - Actual from [Johns Hopkins CSSE](https://github.com/CSSEGISandData/COVID-19/blob/master/csse_covid_19_data/csse_covid_19_time_series)\n",
    "    - Transformed [time_series_covid19_confirmed_global_transposed.csv](time_series_covid19_confirmed_global_transposed.csv)\n",
    "    \n",
    "4. Data Classes\n",
    "    - ConfirmedData : Provides a map between columns in a dataset\n",
    "    - ConfirmedForecast : Holds predicted values\n",
    "\n",
    "5. Data Analysis\n",
    "    - Visualize Data using DataFrame API\n",
    "    - Display Top 10 Rows - dataframe.Head(10)\n",
    "    - Display Last 10 Rows - dataframe.Tail(10)\n",
    "    - Display Dataset Statistics - dataframe.Description()\n",
    "    - Plot of TotalConfimed cases vs Date\n",
    "\n",
    "6. Load Data - MLContext\n",
    "7. ML Pipeline\n",
    "8. Train Model\n",
    "9. Prediction/Forecasting\n",
    "10. Prediction Visualization\n",
    "11. Prediction Analysis\n",
    "12. Conclusion\n",
    "\n",
    "**Note** : Graphs/Plots may not render in GitHub due to secutiry reasons, however if you run this notebook locally/binder they will render."
   ]
  },
  {
   "cell_type": "code",
   "execution_count": 1,
   "metadata": {
    "dotnet_interactive": {
     "language": "csharp"
    },
    "vscode": {
     "languageId": "dotnet-interactive.csharp"
    }
   },
   "outputs": [
    {
     "data": {
      "text/html": [
       "<table><tbody><tr><td><img src=\"data:image/png;base64, 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\" width=\"125em\"></img></td><td style=\"line-height:.8em\"><p style=\"font-size:1.5em\"><b>.NET Interactive</b></p><p>&#169; 2020 Microsoft Corporation</p><p><b>Version: </b>1.0.350406+612aa40cba7d6a1f734272f71657a65561394752</p><p><b>Library version: </b>1.0.0-beta.22504.6+612aa40cba7d6a1f734272f71657a65561394752</p><p><b>Build date: </b>2022-10-19T10:39:27.6549619Z</p><p><a href=\"https://github.com/dotnet/interactive\">https://github.com/dotnet/interactive</a></p></td></tr></tbody></table>"
      ]
     },
     "metadata": {},
     "output_type": "display_data"
    }
   ],
   "source": [
    "#!about"
   ]
  },
  {
   "cell_type": "markdown",
   "metadata": {},
   "source": [
    "### 1. Define Application wide Items"
   ]
  },
  {
   "cell_type": "markdown",
   "metadata": {},
   "source": [
    "#### Nuget Packages\n"
   ]
  },
  {
   "cell_type": "code",
   "execution_count": 3,
   "metadata": {
    "dotnet_interactive": {
     "language": "csharp"
    },
    "execution": {
     "iopub.execute_input": "2020-05-28T22:23:13.710Z",
     "iopub.status.busy": "2020-05-28T22:23:13.688Z",
     "iopub.status.idle": "2020-05-28T22:23:23.404Z"
    },
    "vscode": {
     "languageId": "dotnet-interactive.csharp"
    }
   },
   "outputs": [
    {
     "data": {
      "text/html": [
       "<div><div></div><div></div><div><strong>Installed Packages</strong><ul><li><span>Microsoft.Data.Analysis, 0.19.1</span></li><li><span>Microsoft.ML, 1.7.1</span></li><li><span>Microsoft.ML.TimeSeries, 1.7.1</span></li><li><span>XPlot.Plotly, 4.0.6</span></li><li><span>XPlot.Plotly.Interactive, 4.0.6</span></li></ul></div></div>"
      ]
     },
     "metadata": {},
     "output_type": "display_data"
    },
    {
     "data": {
      "text/markdown": [
       "Loading extensions from `XPlot.Plotly.Interactive.dll`"
      ]
     },
     "metadata": {},
     "output_type": "display_data"
    },
    {
     "data": {
      "text/markdown": [
       "Configuring PowerShell Kernel for XPlot.Plotly integration."
      ]
     },
     "metadata": {},
     "output_type": "display_data"
    },
    {
     "data": {
      "text/markdown": [
       "Installed support for XPlot.Plotly."
      ]
     },
     "metadata": {},
     "output_type": "display_data"
    }
   ],
   "source": [
    "// ML.NET Nuget packages installation\n",
    "#r \"nuget:Microsoft.ML\"\n",
    "#r \"nuget:Microsoft.ML.TimeSeries\"\n",
    "#r \"nuget:Microsoft.Data.Analysis\"\n",
    "\n",
    "// Install XPlot package\n",
    "#r \"nuget:XPlot.Plotly\"\n",
    "#r \"nuget: XPlot.Plotly.Interactive\""
   ]
  },
  {
   "cell_type": "markdown",
   "metadata": {},
   "source": [
    "#### Namespaces"
   ]
  },
  {
   "cell_type": "code",
   "execution_count": 8,
   "metadata": {
    "dotnet_interactive": {
     "language": "csharp"
    },
    "execution": {
     "iopub.execute_input": "2020-05-28T22:23:27.823Z",
     "iopub.status.busy": "2020-05-28T22:23:27.805Z",
     "iopub.status.idle": "2020-05-28T22:23:27.845Z"
    },
    "vscode": {
     "languageId": "dotnet-interactive.csharp"
    }
   },
   "outputs": [],
   "source": [
    "using System;\n",
    "using System.Collections.Generic;\n",
    "using System.Linq;\n",
    "using Microsoft.ML;\n",
    "using Microsoft.ML.Data;\n",
    "using Microsoft.Data.Analysis;\n",
    "using Microsoft.ML.Transforms.TimeSeries;\n",
    "using Microsoft.AspNetCore.Html;\n",
    "using Microsoft.DotNet.Interactive.Formatting;\n",
    "using static Microsoft.DotNet.Interactive.Formatting.PocketViewTags;\n",
    "using XPlot.Plotly;"
   ]
  },
  {
   "cell_type": "markdown",
   "metadata": {},
   "source": [
    "#### Constants"
   ]
  },
  {
   "cell_type": "code",
   "execution_count": 5,
   "metadata": {
    "dotnet_interactive": {
     "language": "csharp"
    },
    "execution": {
     "iopub.execute_input": "2020-05-28T22:23:33.567Z",
     "iopub.status.busy": "2020-05-28T22:23:33.552Z",
     "iopub.status.idle": "2020-05-28T22:23:33.589Z"
    },
    "vscode": {
     "languageId": "dotnet-interactive.csharp"
    }
   },
   "outputs": [],
   "source": [
    "const string CONFIRMED_DATASET_FILE = \"time_series_covid19_confirmed_global_transposed.csv\";\n",
    "\n",
    "// Forecast API\n",
    "const int WINDOW_SIZE = 5;\n",
    "const int SERIES_LENGTH = 10;\n",
    "const int TRAIN_SIZE = 100;\n",
    "const int HORIZON = 7;\n",
    "\n",
    "// Dataset\n",
    "const int DEFAULT_ROW_COUNT = 10;\n",
    "const string TOTAL_CONFIRMED_COLUMN = \"TotalConfirmed\";\n",
    "const string DATE_COLUMN = \"Date\";"
   ]
  },
  {
   "cell_type": "markdown",
   "metadata": {},
   "source": [
    "### 2. Utility Functions - TBR"
   ]
  },
  {
   "cell_type": "markdown",
   "metadata": {},
   "source": [
    "#### Formatters\n",
    "\n",
    "By default the output of DataFrame is not proper and in order to display it as a table, we need to have a custom formatter implemented as shown in next cell. "
   ]
  },
  {
   "cell_type": "code",
   "execution_count": 9,
   "metadata": {
    "dotnet_interactive": {
     "language": "csharp"
    },
    "execution": {
     "iopub.execute_input": "2020-05-28T22:23:35.628Z",
     "iopub.status.busy": "2020-05-28T22:23:35.612Z",
     "iopub.status.idle": "2020-05-28T22:23:36.344Z"
    },
    "vscode": {
     "languageId": "dotnet-interactive.csharp"
    }
   },
   "outputs": [],
   "source": [
    "Formatter.Register<DataFrame>((df, writer) =>\n",
    "{\n",
    "    var headers = new List<IHtmlContent>();\n",
    "    headers.Add(th(i(\"index\")));\n",
    "    headers.AddRange(df.Columns.Select(c => (IHtmlContent) th(c.Name)));\n",
    "    var rows = new List<List<IHtmlContent>>();\n",
    "    var take = DEFAULT_ROW_COUNT;\n",
    "    for (var i = 0; i < Math.Min(take, df.Rows.Count); i++)\n",
    "    {\n",
    "        var cells = new List<IHtmlContent>();\n",
    "        cells.Add(td(i));\n",
    "        foreach (var obj in df.Rows[i])\n",
    "        {\n",
    "            cells.Add(td(obj));\n",
    "        }\n",
    "        rows.Add(cells);\n",
    "    }\n",
    "\n",
    "    var t = table(\n",
    "        thead(\n",
    "            headers),\n",
    "        tbody(\n",
    "            rows.Select(\n",
    "                r => tr(r))));\n",
    "\n",
    "    writer.Write(t);\n",
    "}, \"text/html\");"
   ]
  },
  {
   "cell_type": "markdown",
   "metadata": {},
   "source": [
    "### 3. Dataset and Transformations"
   ]
  },
  {
   "cell_type": "markdown",
   "metadata": {},
   "source": [
    "#### Download Dataset\n",
    "- Actual Dataset: [Johns Hopkins CSSE](https://github.com/CSSEGISandData/COVID-19/blob/master/csse_covid_19_data/csse_covid_19_time_series)\n",
    "- Transformed Dataset: [time_series_covid19_confirmed_global_transposed.csv](time_series_covid19_confirmed_global_transposed.csv)\n",
    "\n",
    "\n",
    "I'll be using COVID-19 time series dataset from [Johns Hopkins CSSE](https://github.com/CSSEGISandData/COVID-19/blob/master/csse_covid_19_data/csse_covid_19_time_series) and will be performing predictions using **time_series_covid19_confirmed_global.csv** file.\n",
    "\n",
    "The data present in these files have name of the countries as Rows and dates as columns which makes it difficult to map to our classes while loading data from csv. Also, it contains data per country wise. In order to keep things simple I'll work with global count of COVID-19 cases and not specific country.\n",
    "\n",
    "I have done few transformations to the dataset as below and created transformed csv's\n",
    "- Sum cases from all the countries for a specific date\n",
    "- Just have two rows with Date and Total \n",
    "- Applied transformation to the csv for converting Rows into Columns and vice-versa. [Refer](https://support.office.com/en-us/article/transpose-rotate-data-from-rows-to-columns-or-vice-versa-3419f2e3-beab-4318-aae5-d0f862209744) for transformation.\n",
    "- Below transposed files have been saved in the current github directory. There is no change in dataset. The files have data till 05-27-2020\n",
    "    - [time_series_covid19_confirmed_global_transposed.csv](time_series_covid19_confirmed_global_transposed.csv) : Columns - **Date, TotalConfirmed**"
   ]
  },
  {
   "cell_type": "markdown",
   "metadata": {},
   "source": [
    "##### Before transformation\n",
    "\n",
    "<img src=\".\\assets\\time-series-before-transformation.png\" alt=\"Time Series data before transofmation\" style=\"zoom: 80%;\" />"
   ]
  },
  {
   "cell_type": "markdown",
   "metadata": {},
   "source": [
    "#### After transformation\n",
    "\n",
    "<img src=\".\\assets\\time-series-after-transformation.png\" alt=\"Time Series data after transofmation\" style=\"zoom: 80%;\" />"
   ]
  },
  {
   "cell_type": "markdown",
   "metadata": {},
   "source": [
    "### 4. Data Classes"
   ]
  },
  {
   "cell_type": "markdown",
   "metadata": {},
   "source": [
    "Now, we need to create few data structures to map to columns within our dataset."
   ]
  },
  {
   "cell_type": "markdown",
   "metadata": {},
   "source": [
    "#### Confirmed cases"
   ]
  },
  {
   "cell_type": "code",
   "execution_count": 10,
   "metadata": {
    "dotnet_interactive": {
     "language": "csharp"
    },
    "execution": {
     "iopub.execute_input": "2020-05-28T22:23:38.646Z",
     "iopub.status.busy": "2020-05-28T22:23:38.631Z",
     "iopub.status.idle": "2020-05-28T22:23:38.863Z"
    },
    "vscode": {
     "languageId": "dotnet-interactive.csharp"
    }
   },
   "outputs": [],
   "source": [
    "/// <summary>\n",
    "/// Represent data for confirmed cases with a mapping to columns in a dataset\n",
    "/// </summary>\n",
    "public class ConfirmedData\n",
    "{\n",
    "    /// <summary>\n",
    "    /// Date of confirmed case\n",
    "    /// </summary>\n",
    "    [LoadColumn(0)]\n",
    "    public DateTime Date;\n",
    "\n",
    "    /// <summary>\n",
    "    /// Total no of confirmed cases on a particular date\n",
    "    /// </summary>\n",
    "    [LoadColumn(1)]\n",
    "    public float TotalConfirmed;\n",
    "}"
   ]
  },
  {
   "cell_type": "code",
   "execution_count": 12,
   "metadata": {
    "dotnet_interactive": {
     "language": "csharp"
    },
    "execution": {
     "iopub.execute_input": "2020-05-28T22:23:38.947Z",
     "iopub.status.busy": "2020-05-28T22:23:38.931Z",
     "iopub.status.idle": "2020-05-28T22:23:39.013Z"
    },
    "vscode": {
     "languageId": "dotnet-interactive.csharp"
    }
   },
   "outputs": [],
   "source": [
    "/// <summary>\n",
    "/// Prediction/Forecast for Confirmed cases\n",
    "/// </summary>\n",
    "internal class ConfirmedForecast\n",
    "{\n",
    "    /// <summary>\n",
    "    /// No of predicted confirmed cases for multiple days\n",
    "    /// </summary>\n",
    "    public float[] Forecast { get; set; }\n",
    "}"
   ]
  },
  {
   "cell_type": "markdown",
   "metadata": {},
   "source": [
    "### 5. Data Analysis"
   ]
  },
  {
   "cell_type": "markdown",
   "metadata": {},
   "source": [
    "For loading data from csv, first we need to create MLContext that acts as a starting point for creating a machine learning model in ML.Net. Few things to note\n",
    "- Set hasHeader as true as our dataset has header\n",
    "- Add separatorChar to ',' as its a csv"
   ]
  },
  {
   "cell_type": "markdown",
   "metadata": {},
   "source": [
    "#### Visualize Data - DataFrame"
   ]
  },
  {
   "cell_type": "code",
   "execution_count": 15,
   "metadata": {
    "dotnet_interactive": {
     "language": "csharp"
    },
    "execution": {
     "iopub.execute_input": "2020-05-28T22:23:40.991Z",
     "iopub.status.busy": "2020-05-28T22:23:40.974Z",
     "iopub.status.idle": "2020-05-28T22:23:41.030Z"
    },
    "vscode": {
     "languageId": "dotnet-interactive.csharp"
    }
   },
   "outputs": [],
   "source": [
    "var predictedDf = DataFrame.LoadCsv(CONFIRMED_DATASET_FILE);"
   ]
  },
  {
   "cell_type": "code",
   "execution_count": 9,
   "metadata": {
    "dotnet_interactive": {
     "language": "csharp"
    },
    "execution": {
     "iopub.execute_input": "2020-05-28T22:23:41.465Z",
     "iopub.status.busy": "2020-05-28T22:23:41.452Z",
     "iopub.status.idle": "2020-05-28T22:23:41.698Z"
    },
    "vscode": {
     "languageId": "dotnet-interactive.csharp"
    }
   },
   "outputs": [
    {
     "data": {
      "text/html": [
       "<table><thead><th><i>index</i></th><th>Date</th><th>TotalConfirmed</th></thead><tbody><tr><td>0</td><td>1/22/2020</td><td>555</td></tr><tr><td>1</td><td>1/23/2020</td><td>654</td></tr><tr><td>2</td><td>1/24/2020</td><td>941</td></tr><tr><td>3</td><td>1/25/2020</td><td>1434</td></tr><tr><td>4</td><td>1/26/2020</td><td>2118</td></tr><tr><td>5</td><td>1/27/2020</td><td>2927</td></tr><tr><td>6</td><td>1/28/2020</td><td>5578</td></tr><tr><td>7</td><td>1/29/2020</td><td>6166</td></tr><tr><td>8</td><td>1/30/2020</td><td>8234</td></tr><tr><td>9</td><td>1/31/2020</td><td>9927</td></tr></tbody></table>"
      ]
     },
     "execution_count": 9,
     "metadata": {},
     "output_type": "execute_result"
    }
   ],
   "source": [
    "predictedDf.Head(DEFAULT_ROW_COUNT)"
   ]
  },
  {
   "cell_type": "code",
   "execution_count": 16,
   "metadata": {
    "dotnet_interactive": {
     "language": "csharp"
    },
    "execution": {
     "iopub.execute_input": "2020-05-28T22:23:41.975Z",
     "iopub.status.busy": "2020-05-28T22:23:41.955Z",
     "iopub.status.idle": "2020-05-28T22:23:42.010Z"
    },
    "scrolled": true,
    "vscode": {
     "languageId": "dotnet-interactive.csharp"
    }
   },
   "outputs": [
    {
     "data": {
      "text/html": [
       "<table><thead><th><i>index</i></th><th>Date</th><th>TotalConfirmed</th></thead><tbody><tr><td><div class=\"dni-plaintext\">0</div></td><td><span>2020-04-28 00:00:00Z</span></td><td><div class=\"dni-plaintext\">3097229</div></td></tr><tr><td><div class=\"dni-plaintext\">1</div></td><td><span>2020-04-29 00:00:00Z</span></td><td><div class=\"dni-plaintext\">3172287</div></td></tr><tr><td><div class=\"dni-plaintext\">2</div></td><td><span>2020-04-30 00:00:00Z</span></td><td><div class=\"dni-plaintext\">3256910</div></td></tr><tr><td><div class=\"dni-plaintext\">3</div></td><td><span>2020-05-01 00:00:00Z</span></td><td><div class=\"dni-plaintext\">3343777</div></td></tr><tr><td><div class=\"dni-plaintext\">4</div></td><td><span>2020-05-02 00:00:00Z</span></td><td><div class=\"dni-plaintext\">3427584</div></td></tr><tr><td><div class=\"dni-plaintext\">5</div></td><td><span>2020-05-03 00:00:00Z</span></td><td><div class=\"dni-plaintext\">3506729</div></td></tr><tr><td><div class=\"dni-plaintext\">6</div></td><td><span>2020-05-04 00:00:00Z</span></td><td><div class=\"dni-plaintext\">3583055</div></td></tr><tr><td><div class=\"dni-plaintext\">7</div></td><td><span>2020-05-05 00:00:00Z</span></td><td><div class=\"dni-plaintext\">3662691</div></td></tr><tr><td><div class=\"dni-plaintext\">8</div></td><td><span>2020-05-06 00:00:00Z</span></td><td><div class=\"dni-plaintext\">3755341</div></td></tr><tr><td><div class=\"dni-plaintext\">9</div></td><td><span>2020-05-07 00:00:00Z</span></td><td><div class=\"dni-plaintext\">3845718</div></td></tr></tbody></table>"
      ]
     },
     "metadata": {},
     "output_type": "display_data"
    }
   ],
   "source": [
    "predictedDf.Tail(DEFAULT_ROW_COUNT)"
   ]
  },
  {
   "cell_type": "code",
   "execution_count": 17,
   "metadata": {
    "dotnet_interactive": {
     "language": "csharp"
    },
    "execution": {
     "iopub.execute_input": "2020-05-28T22:23:42.473Z",
     "iopub.status.busy": "2020-05-28T22:23:42.462Z",
     "iopub.status.idle": "2020-05-28T22:23:42.501Z"
    },
    "scrolled": true,
    "vscode": {
     "languageId": "dotnet-interactive.csharp"
    }
   },
   "outputs": [
    {
     "data": {
      "text/html": [
       "<table><thead><th><i>index</i></th><th>Description</th><th>Date</th><th>TotalConfirmed</th></thead><tbody><tr><td><div class=\"dni-plaintext\">0</div></td><td>Length (excluding null values)</td><td><div class=\"dni-plaintext\">107</div></td><td><div class=\"dni-plaintext\">107</div></td></tr><tr><td><div class=\"dni-plaintext\">1</div></td><td>Max</td><td><div class=\"dni-plaintext\">&lt;null&gt;</div></td><td><div class=\"dni-plaintext\">3845718</div></td></tr><tr><td><div class=\"dni-plaintext\">2</div></td><td>Min</td><td><div class=\"dni-plaintext\">&lt;null&gt;</div></td><td><div class=\"dni-plaintext\">555</div></td></tr><tr><td><div class=\"dni-plaintext\">3</div></td><td>Mean</td><td><div class=\"dni-plaintext\">&lt;null&gt;</div></td><td><div class=\"dni-plaintext\">923109.56</div></td></tr></tbody></table>"
      ]
     },
     "metadata": {},
     "output_type": "display_data"
    }
   ],
   "source": [
    "predictedDf.Description()"
   ]
  },
  {
   "cell_type": "markdown",
   "metadata": {},
   "source": [
    "##### Number of Confirmed cases over Time"
   ]
  },
  {
   "cell_type": "code",
   "execution_count": 18,
   "metadata": {
    "dotnet_interactive": {
     "language": "csharp"
    },
    "execution": {
     "iopub.execute_input": "2020-05-28T22:23:43.377Z",
     "iopub.status.busy": "2020-05-28T22:23:43.358Z",
     "iopub.status.idle": "2020-05-28T22:23:43.395Z"
    },
    "vscode": {
     "languageId": "dotnet-interactive.csharp"
    }
   },
   "outputs": [],
   "source": [
    "// Number of confirmed cases over time\n",
    "var totalConfirmedDateColumn = predictedDf.Columns[DATE_COLUMN];\n",
    "var totalConfirmedColumn = predictedDf.Columns[TOTAL_CONFIRMED_COLUMN];\n",
    "\n",
    "var dates = new List<string>();\n",
    "var totalConfirmedCases = new List<string>();\n",
    "for (int index = 0; index < totalConfirmedDateColumn.Length; index++)\n",
    "{\n",
    "    dates.Add(totalConfirmedDateColumn[index].ToString());\n",
    "    totalConfirmedCases.Add(totalConfirmedColumn[index].ToString());\n",
    "}"
   ]
  },
  {
   "cell_type": "code",
   "execution_count": 20,
   "metadata": {
    "dotnet_interactive": {
     "language": "csharp"
    },
    "execution": {
     "iopub.execute_input": "2020-05-28T22:23:43.879Z",
     "iopub.status.busy": "2020-05-28T22:23:43.863Z",
     "iopub.status.idle": "2020-05-28T22:23:43.947Z"
    },
    "scrolled": true,
    "vscode": {
     "languageId": "dotnet-interactive.csharp"
    }
   },
   "outputs": [
    {
     "data": {
      "text/html": [
       "<!DOCTYPE html>\r\n",
       "<div style=\"width: 900px; height: 500px;\" id=\"1614f3c6-41c6-4ee0-8a67-33d0fa35f464\"></div><script type=\"text/javascript\">\r\n",
       "\n",
       "var renderPlotly = function() {\n",
       "    var xplotRequire = require.config({context:'xplot-3.0.1',paths:{plotly:'https://cdn.plot.ly/plotly-1.49.2.min'}}) || require;\n",
       "    xplotRequire(['plotly'], function(Plotly) { \r\n",
       "\n",
       "            var data = [{\"type\":\"scattergl\",\"x\":[\"1/22/2020 12:00:00 AM\",\"1/23/2020 12:00:00 AM\",\"1/24/2020 12:00:00 AM\",\"1/25/2020 12:00:00 AM\",\"1/26/2020 12:00:00 AM\",\"1/27/2020 12:00:00 AM\",\"1/28/2020 12:00:00 AM\",\"1/29/2020 12:00:00 AM\",\"1/30/2020 12:00:00 AM\",\"1/31/2020 12:00:00 AM\",\"2/1/2020 12:00:00 AM\",\"2/2/2020 12:00:00 AM\",\"2/3/2020 12:00:00 AM\",\"2/4/2020 12:00:00 AM\",\"2/5/2020 12:00:00 AM\",\"2/6/2020 12:00:00 AM\",\"2/7/2020 12:00:00 AM\",\"2/8/2020 12:00:00 AM\",\"2/9/2020 12:00:00 AM\",\"2/10/2020 12:00:00 AM\",\"2/11/2020 12:00:00 AM\",\"2/12/2020 12:00:00 AM\",\"2/13/2020 12:00:00 AM\",\"2/14/2020 12:00:00 AM\",\"2/15/2020 12:00:00 AM\",\"2/16/2020 12:00:00 AM\",\"2/17/2020 12:00:00 AM\",\"2/18/2020 12:00:00 AM\",\"2/19/2020 12:00:00 AM\",\"2/20/2020 12:00:00 AM\",\"2/21/2020 12:00:00 AM\",\"2/22/2020 12:00:00 AM\",\"2/23/2020 12:00:00 AM\",\"2/24/2020 12:00:00 AM\",\"2/25/2020 12:00:00 AM\",\"2/26/2020 12:00:00 AM\",\"2/27/2020 12:00:00 AM\",\"2/28/2020 12:00:00 AM\",\"2/29/2020 12:00:00 AM\",\"3/1/2020 12:00:00 AM\",\"3/2/2020 12:00:00 AM\",\"3/3/2020 12:00:00 AM\",\"3/4/2020 12:00:00 AM\",\"3/5/2020 12:00:00 AM\",\"3/6/2020 12:00:00 AM\",\"3/7/2020 12:00:00 AM\",\"3/8/2020 12:00:00 AM\",\"3/9/2020 12:00:00 AM\",\"3/10/2020 12:00:00 AM\",\"3/11/2020 12:00:00 AM\",\"3/12/2020 12:00:00 AM\",\"3/13/2020 12:00:00 AM\",\"3/14/2020 12:00:00 AM\",\"3/15/2020 12:00:00 AM\",\"3/16/2020 12:00:00 AM\",\"3/17/2020 12:00:00 AM\",\"3/18/2020 12:00:00 AM\",\"3/19/2020 12:00:00 AM\",\"3/20/2020 12:00:00 AM\",\"3/21/2020 12:00:00 AM\",\"3/22/2020 12:00:00 AM\",\"3/23/2020 12:00:00 AM\",\"3/24/2020 12:00:00 AM\",\"3/25/2020 12:00:00 AM\",\"3/26/2020 12:00:00 AM\",\"3/27/2020 12:00:00 AM\",\"3/28/2020 12:00:00 AM\",\"3/29/2020 12:00:00 AM\",\"3/30/2020 12:00:00 AM\",\"3/31/2020 12:00:00 AM\",\"4/1/2020 12:00:00 AM\",\"4/2/2020 12:00:00 AM\",\"4/3/2020 12:00:00 AM\",\"4/4/2020 12:00:00 AM\",\"4/5/2020 12:00:00 AM\",\"4/6/2020 12:00:00 AM\",\"4/7/2020 12:00:00 AM\",\"4/8/2020 12:00:00 AM\",\"4/9/2020 12:00:00 AM\",\"4/10/2020 12:00:00 AM\",\"4/11/2020 12:00:00 AM\",\"4/12/2020 12:00:00 AM\",\"4/13/2020 12:00:00 AM\",\"4/14/2020 12:00:00 AM\",\"4/15/2020 12:00:00 AM\",\"4/16/2020 12:00:00 AM\",\"4/17/2020 12:00:00 AM\",\"4/18/2020 12:00:00 AM\",\"4/19/2020 12:00:00 AM\",\"4/20/2020 12:00:00 AM\",\"4/21/2020 12:00:00 AM\",\"4/22/2020 12:00:00 AM\",\"4/23/2020 12:00:00 AM\",\"4/24/2020 12:00:00 AM\",\"4/25/2020 12:00:00 AM\",\"4/26/2020 12:00:00 AM\",\"4/27/2020 12:00:00 AM\",\"4/28/2020 12:00:00 AM\",\"4/29/2020 12:00:00 AM\",\"4/30/2020 12:00:00 AM\",\"5/1/2020 12:00:00 AM\",\"5/2/2020 12:00:00 AM\",\"5/3/2020 12:00:00 AM\",\"5/4/2020 12:00:00 AM\",\"5/5/2020 12:00:00 AM\",\"5/6/2020 12:00:00 AM\",\"5/7/2020 12:00:00 AM\"],\"y\":[\"555\",\"654\",\"941\",\"1434\",\"2118\",\"2927\",\"5578\",\"6166\",\"8234\",\"9927\",\"12038\",\"16787\",\"19881\",\"23892\",\"27635\",\"30794\",\"34391\",\"37120\",\"40150\",\"42762\",\"44802\",\"45221\",\"60368\",\"66885\",\"69030\",\"71224\",\"73258\",\"75136\",\"75639\",\"76197\",\"76819\",\"78572\",\"78958\",\"79561\",\"80406\",\"81388\",\"82746\",\"84112\",\"86011\",\"88369\",\"90306\",\"92840\",\"95120\",\"97886\",\"101801\",\"105847\",\"109821\",\"113590\",\"118620\",\"125875\",\"128352\",\"145219\",\"156116\",\"167466\",\"181603\",\"197113\",\"214846\",\"242616\",\"272247\",\"304555\",\"337018\",\"378282\",\"418079\",\"467723\",\"529701\",\"593423\",\"660824\",\"720285\",\"782490\",\"857608\",\"932638\",\"1013458\",\"1095876\",\"1176059\",\"1249737\",\"1321427\",\"1396438\",\"1480200\",\"1565538\",\"1657929\",\"1736025\",\"1835145\",\"1905157\",\"1975557\",\"2055423\",\"2151792\",\"2239628\",\"2317234\",\"2400776\",\"2471727\",\"2549038\",\"2624602\",\"2708403\",\"2795731\",\"2881140\",\"2955033\",\"3023722\",\"3097229\",\"3172287\",\"3256910\",\"3343777\",\"3427584\",\"3506729\",\"3583055\",\"3662691\",\"3755341\",\"3845718\"],\"mode\":\"lines+markers\"}];\n",
       "           var layout = {\"title\":\"Number of Confirmed Cases over Time\"};\n",
       "           Plotly.newPlot('1614f3c6-41c6-4ee0-8a67-33d0fa35f464', data, layout);\n",
       "        \r\n",
       "});\n",
       "};\r\n",
       "// ensure `require` is available globally\r\n",
       "if ((typeof(require) !==  typeof(Function)) || (typeof(require.config) !== typeof(Function))) {\r\n",
       "    let require_script = document.createElement('script');\r\n",
       "    require_script.setAttribute('src', 'https://cdnjs.cloudflare.com/ajax/libs/require.js/2.3.6/require.min.js');\r\n",
       "    require_script.setAttribute('type', 'text/javascript');\r\n",
       "    \r\n",
       "    \r\n",
       "    require_script.onload = function() {\r\n",
       "        renderPlotly();\r\n",
       "    };\r\n",
       "\r\n",
       "    document.getElementsByTagName('head')[0].appendChild(require_script);\r\n",
       "}\r\n",
       "else {\r\n",
       "    renderPlotly();\r\n",
       "}\r\n",
       "\r\n",
       "</script>\r\n"
      ]
     },
     "metadata": {},
     "output_type": "display_data"
    }
   ],
   "source": [
    "var title = \"Number of Confirmed Cases over Time\";\n",
    "var confirmedTimeGraph = new Scattergl()\n",
    "    {\n",
    "        x = dates.ToArray(),\n",
    "        y = totalConfirmedCases.ToArray(),\n",
    "        mode = \"lines+markers\"\n",
    "    };\n",
    "    \n",
    "\n",
    "\n",
    "var chart = Chart.Plot(confirmedTimeGraph);\n",
    "chart.WithTitle(title);\n",
    "display(chart);"
   ]
  },
  {
   "cell_type": "markdown",
   "metadata": {},
   "source": [
    "**Analysis**\n",
    "- Duration: 1/22/2020 through 5/27/2020\n",
    "- Total records: 127\n",
    "- Case on first day: 555\n",
    "- Case on last day: 5691790\n",
    "- No of confirmed cases was low in the beginning, there was first jump around 2/12/2020 and an exponential jump around 3/22/2020.\n",
    "- Cases have been increasing at an alarming rate in the past two months."
   ]
  },
  {
   "cell_type": "markdown",
   "metadata": {},
   "source": [
    "### 6. Load Data - MLContext"
   ]
  },
  {
   "cell_type": "code",
   "execution_count": 21,
   "metadata": {
    "dotnet_interactive": {
     "language": "csharp"
    },
    "execution": {
     "iopub.execute_input": "2020-05-28T22:23:46.304Z",
     "iopub.status.busy": "2020-05-28T22:23:46.293Z",
     "iopub.status.idle": "2020-05-28T22:23:46.330Z"
    },
    "vscode": {
     "languageId": "dotnet-interactive.csharp"
    }
   },
   "outputs": [],
   "source": [
    "var context = new MLContext();"
   ]
  },
  {
   "cell_type": "code",
   "execution_count": 22,
   "metadata": {
    "dotnet_interactive": {
     "language": "csharp"
    },
    "execution": {
     "iopub.execute_input": "2020-05-28T22:23:46.737Z",
     "iopub.status.busy": "2020-05-28T22:23:46.726Z",
     "iopub.status.idle": "2020-05-28T22:23:46.819Z"
    },
    "vscode": {
     "languageId": "dotnet-interactive.csharp"
    }
   },
   "outputs": [],
   "source": [
    "var data = context.Data.LoadFromTextFile<ConfirmedData>(CONFIRMED_DATASET_FILE, hasHeader: true, separatorChar: ',');"
   ]
  },
  {
   "cell_type": "markdown",
   "metadata": {},
   "source": [
    "### 7. ML Pipeline"
   ]
  },
  {
   "cell_type": "markdown",
   "metadata": {},
   "source": [
    "For creating ML Pipeline for a time-series analysis, we'll use [Single Spectrum Analysis](https://en.wikipedia.org/wiki/Singular_spectrum_analysis). ML.Net provides built in API for same, more details could be found at [TimeSeriesCatalog.ForecastBySsa](https://docs.microsoft.com/en-us/dotnet/api/microsoft.ml.timeseriescatalog.forecastbyssa?view=ml-dotnet) "
   ]
  },
  {
   "cell_type": "code",
   "execution_count": 23,
   "metadata": {
    "dotnet_interactive": {
     "language": "csharp"
    },
    "execution": {
     "iopub.execute_input": "2020-05-28T22:23:51.054Z",
     "iopub.status.busy": "2020-05-28T22:23:51.040Z",
     "iopub.status.idle": "2020-05-28T22:23:51.072Z"
    },
    "vscode": {
     "languageId": "dotnet-interactive.csharp"
    }
   },
   "outputs": [],
   "source": [
    "var pipeline = context.Forecasting.ForecastBySsa(\n",
    "                nameof(ConfirmedForecast.Forecast),\n",
    "                nameof(ConfirmedData.TotalConfirmed),\n",
    "                WINDOW_SIZE, \n",
    "                SERIES_LENGTH,\n",
    "                TRAIN_SIZE,\n",
    "                HORIZON);"
   ]
  },
  {
   "cell_type": "markdown",
   "metadata": {},
   "source": [
    "### 8. Train Model"
   ]
  },
  {
   "cell_type": "markdown",
   "metadata": {},
   "source": [
    "We are ready with our pipeline and ready to train the model"
   ]
  },
  {
   "cell_type": "code",
   "execution_count": 24,
   "metadata": {
    "dotnet_interactive": {
     "language": "csharp"
    },
    "execution": {
     "iopub.execute_input": "2020-05-28T22:24:01.162Z",
     "iopub.status.busy": "2020-05-28T22:24:01.143Z",
     "iopub.status.idle": "2020-05-28T22:24:01.278Z"
    },
    "vscode": {
     "languageId": "dotnet-interactive.csharp"
    }
   },
   "outputs": [],
   "source": [
    "var model = pipeline.Fit(data);"
   ]
  },
  {
   "cell_type": "markdown",
   "metadata": {},
   "source": [
    "### 9. Prediction/Forecasting - 7 days"
   ]
  },
  {
   "cell_type": "markdown",
   "metadata": {},
   "source": [
    "Our model is trained and we need to do prediction for next 7(Horizon) days.\n",
    "Time-series provides its own engine for making prediction which is similar to PredictionEngine present in ML.Net. Predicted values show an increasing trend which is in alignment with recent past values."
   ]
  },
  {
   "cell_type": "code",
   "execution_count": 25,
   "metadata": {
    "dotnet_interactive": {
     "language": "csharp"
    },
    "vscode": {
     "languageId": "dotnet-interactive.csharp"
    }
   },
   "outputs": [
    {
     "data": {
      "text/html": [
       "<table><thead><tr><th><i>index</i></th><th>value</th></tr></thead><tbody><tr><td>0</td><td><div class=\"dni-plaintext\">3348756</div></td></tr><tr><td>1</td><td><div class=\"dni-plaintext\">3450496</div></td></tr><tr><td>2</td><td><div class=\"dni-plaintext\">3563966</div></td></tr><tr><td>3</td><td><div class=\"dni-plaintext\">3690067</div></td></tr><tr><td>4</td><td><div class=\"dni-plaintext\">3830294</div></td></tr><tr><td>5</td><td><div class=\"dni-plaintext\">3985414</div></td></tr><tr><td>6</td><td><div class=\"dni-plaintext\">4156340</div></td></tr></tbody></table>"
      ]
     },
     "metadata": {},
     "output_type": "display_data"
    }
   ],
   "source": [
    "var forecastingEngine = model.CreateTimeSeriesEngine<ConfirmedData, ConfirmedForecast>(context);\n",
    "var forecasts = forecastingEngine.Predict();\n",
    "display(forecasts.Forecast.Select(x => (int) x))"
   ]
  },
  {
   "cell_type": "markdown",
   "metadata": {},
   "source": [
    "### 10. Prediction Visualization"
   ]
  },
  {
   "cell_type": "code",
   "execution_count": 26,
   "metadata": {
    "dotnet_interactive": {
     "language": "csharp"
    },
    "vscode": {
     "languageId": "dotnet-interactive.csharp"
    }
   },
   "outputs": [],
   "source": [
    "var lastDate = DateTime.Parse(dates.LastOrDefault());\n",
    "var predictionStartDate = lastDate.AddDays(1);\n",
    "\n",
    "for (int index = 0; index < HORIZON; index++)\n",
    "{\n",
    "    dates.Add(lastDate.AddDays(index + 1).ToShortDateString());\n",
    "    totalConfirmedCases.Add(forecasts.Forecast[index].ToString());\n",
    "}"
   ]
  },
  {
   "cell_type": "code",
   "execution_count": 28,
   "metadata": {
    "dotnet_interactive": {
     "language": "csharp"
    },
    "scrolled": true,
    "vscode": {
     "languageId": "dotnet-interactive.csharp"
    }
   },
   "outputs": [
    {
     "data": {
      "text/html": [
       "<!DOCTYPE html>\r\n",
       "<div style=\"width: 900px; height: 500px;\" id=\"6ab616dc-29ec-4ba9-9ce0-e9bdf8bf5003\"></div><script type=\"text/javascript\">\r\n",
       "\n",
       "var renderPlotly = function() {\n",
       "    var xplotRequire = require.config({context:'xplot-3.0.1',paths:{plotly:'https://cdn.plot.ly/plotly-1.49.2.min'}}) || require;\n",
       "    xplotRequire(['plotly'], function(Plotly) { \r\n",
       "\n",
       "            var data = [{\"type\":\"scattergl\",\"x\":[\"1/22/2020 12:00:00 AM\",\"1/23/2020 12:00:00 AM\",\"1/24/2020 12:00:00 AM\",\"1/25/2020 12:00:00 AM\",\"1/26/2020 12:00:00 AM\",\"1/27/2020 12:00:00 AM\",\"1/28/2020 12:00:00 AM\",\"1/29/2020 12:00:00 AM\",\"1/30/2020 12:00:00 AM\",\"1/31/2020 12:00:00 AM\",\"2/1/2020 12:00:00 AM\",\"2/2/2020 12:00:00 AM\",\"2/3/2020 12:00:00 AM\",\"2/4/2020 12:00:00 AM\",\"2/5/2020 12:00:00 AM\",\"2/6/2020 12:00:00 AM\",\"2/7/2020 12:00:00 AM\",\"2/8/2020 12:00:00 AM\",\"2/9/2020 12:00:00 AM\",\"2/10/2020 12:00:00 AM\",\"2/11/2020 12:00:00 AM\",\"2/12/2020 12:00:00 AM\",\"2/13/2020 12:00:00 AM\",\"2/14/2020 12:00:00 AM\",\"2/15/2020 12:00:00 AM\",\"2/16/2020 12:00:00 AM\",\"2/17/2020 12:00:00 AM\",\"2/18/2020 12:00:00 AM\",\"2/19/2020 12:00:00 AM\",\"2/20/2020 12:00:00 AM\",\"2/21/2020 12:00:00 AM\",\"2/22/2020 12:00:00 AM\",\"2/23/2020 12:00:00 AM\",\"2/24/2020 12:00:00 AM\",\"2/25/2020 12:00:00 AM\",\"2/26/2020 12:00:00 AM\",\"2/27/2020 12:00:00 AM\",\"2/28/2020 12:00:00 AM\",\"2/29/2020 12:00:00 AM\",\"3/1/2020 12:00:00 AM\",\"3/2/2020 12:00:00 AM\",\"3/3/2020 12:00:00 AM\",\"3/4/2020 12:00:00 AM\",\"3/5/2020 12:00:00 AM\",\"3/6/2020 12:00:00 AM\",\"3/7/2020 12:00:00 AM\",\"3/8/2020 12:00:00 AM\",\"3/9/2020 12:00:00 AM\",\"3/10/2020 12:00:00 AM\",\"3/11/2020 12:00:00 AM\",\"3/12/2020 12:00:00 AM\",\"3/13/2020 12:00:00 AM\",\"3/14/2020 12:00:00 AM\",\"3/15/2020 12:00:00 AM\",\"3/16/2020 12:00:00 AM\",\"3/17/2020 12:00:00 AM\",\"3/18/2020 12:00:00 AM\",\"3/19/2020 12:00:00 AM\",\"3/20/2020 12:00:00 AM\",\"3/21/2020 12:00:00 AM\",\"3/22/2020 12:00:00 AM\",\"3/23/2020 12:00:00 AM\",\"3/24/2020 12:00:00 AM\",\"3/25/2020 12:00:00 AM\",\"3/26/2020 12:00:00 AM\",\"3/27/2020 12:00:00 AM\",\"3/28/2020 12:00:00 AM\",\"3/29/2020 12:00:00 AM\",\"3/30/2020 12:00:00 AM\",\"3/31/2020 12:00:00 AM\",\"4/1/2020 12:00:00 AM\",\"4/2/2020 12:00:00 AM\",\"4/3/2020 12:00:00 AM\",\"4/4/2020 12:00:00 AM\",\"4/5/2020 12:00:00 AM\",\"4/6/2020 12:00:00 AM\",\"4/7/2020 12:00:00 AM\",\"4/8/2020 12:00:00 AM\",\"4/9/2020 12:00:00 AM\",\"4/10/2020 12:00:00 AM\",\"4/11/2020 12:00:00 AM\",\"4/12/2020 12:00:00 AM\",\"4/13/2020 12:00:00 AM\",\"4/14/2020 12:00:00 AM\",\"4/15/2020 12:00:00 AM\",\"4/16/2020 12:00:00 AM\",\"4/17/2020 12:00:00 AM\",\"4/18/2020 12:00:00 AM\",\"4/19/2020 12:00:00 AM\",\"4/20/2020 12:00:00 AM\",\"4/21/2020 12:00:00 AM\",\"4/22/2020 12:00:00 AM\",\"4/23/2020 12:00:00 AM\",\"4/24/2020 12:00:00 AM\",\"4/25/2020 12:00:00 AM\",\"4/26/2020 12:00:00 AM\",\"4/27/2020 12:00:00 AM\",\"4/28/2020 12:00:00 AM\",\"4/29/2020 12:00:00 AM\",\"4/30/2020 12:00:00 AM\",\"5/1/2020 12:00:00 AM\",\"5/2/2020 12:00:00 AM\",\"5/3/2020 12:00:00 AM\",\"5/4/2020 12:00:00 AM\",\"5/5/2020 12:00:00 AM\",\"5/6/2020 12:00:00 AM\",\"5/7/2020 12:00:00 AM\",\"5/8/2020\",\"5/9/2020\",\"5/10/2020\",\"5/11/2020\",\"5/12/2020\",\"5/13/2020\",\"5/14/2020\"],\"y\":[\"555\",\"654\",\"941\",\"1434\",\"2118\",\"2927\",\"5578\",\"6166\",\"8234\",\"9927\",\"12038\",\"16787\",\"19881\",\"23892\",\"27635\",\"30794\",\"34391\",\"37120\",\"40150\",\"42762\",\"44802\",\"45221\",\"60368\",\"66885\",\"69030\",\"71224\",\"73258\",\"75136\",\"75639\",\"76197\",\"76819\",\"78572\",\"78958\",\"79561\",\"80406\",\"81388\",\"82746\",\"84112\",\"86011\",\"88369\",\"90306\",\"92840\",\"95120\",\"97886\",\"101801\",\"105847\",\"109821\",\"113590\",\"118620\",\"125875\",\"128352\",\"145219\",\"156116\",\"167466\",\"181603\",\"197113\",\"214846\",\"242616\",\"272247\",\"304555\",\"337018\",\"378282\",\"418079\",\"467723\",\"529701\",\"593423\",\"660824\",\"720285\",\"782490\",\"857608\",\"932638\",\"1013458\",\"1095876\",\"1176059\",\"1249737\",\"1321427\",\"1396438\",\"1480200\",\"1565538\",\"1657929\",\"1736025\",\"1835145\",\"1905157\",\"1975557\",\"2055423\",\"2151792\",\"2239628\",\"2317234\",\"2400776\",\"2471727\",\"2549038\",\"2624602\",\"2708403\",\"2795731\",\"2881140\",\"2955033\",\"3023722\",\"3097229\",\"3172287\",\"3256910\",\"3343777\",\"3427584\",\"3506729\",\"3583055\",\"3662691\",\"3755341\",\"3845718\",\"3348756.5\",\"3450496.5\",\"3563966\",\"3690067\",\"3830294\",\"3985414\",\"4156340.5\"],\"mode\":\"lines+markers\"}];\n",
       "           var layout = {\"title\":\"Number of Confirmed Cases over Time\",\"shapes\":[{\"xref\":\"x\",\"x0\":\"5/8/2020\",\"x1\":\"5/8/2020\",\"yref\":\"paper\",\"y0\":\"0\",\"y1\":\"1\",\"line\":{\"color\":\"red\",\"width\":2}}]};\n",
       "           Plotly.newPlot('6ab616dc-29ec-4ba9-9ce0-e9bdf8bf5003', data, layout);\n",
       "        \r\n",
       "});\n",
       "};\r\n",
       "// ensure `require` is available globally\r\n",
       "if ((typeof(require) !==  typeof(Function)) || (typeof(require.config) !== typeof(Function))) {\r\n",
       "    let require_script = document.createElement('script');\r\n",
       "    require_script.setAttribute('src', 'https://cdnjs.cloudflare.com/ajax/libs/require.js/2.3.6/require.min.js');\r\n",
       "    require_script.setAttribute('type', 'text/javascript');\r\n",
       "    \r\n",
       "    \r\n",
       "    require_script.onload = function() {\r\n",
       "        renderPlotly();\r\n",
       "    };\r\n",
       "\r\n",
       "    document.getElementsByTagName('head')[0].appendChild(require_script);\r\n",
       "}\r\n",
       "else {\r\n",
       "    renderPlotly();\r\n",
       "}\r\n",
       "\r\n",
       "</script>\r\n"
      ]
     },
     "metadata": {},
     "output_type": "display_data"
    }
   ],
   "source": [
    "var title = \"Number of Confirmed Cases over Time\";\n",
    "var layout = new Layout.Layout();\n",
    "layout.shapes = new List<Shape>\n",
    "{\n",
    "    new Shape\n",
    "    {\n",
    "        x0 = predictionStartDate.ToShortDateString(),\n",
    "        x1 = predictionStartDate.ToShortDateString(),\n",
    "        y0 = \"0\",\n",
    "        y1 = \"1\",\n",
    "        xref = 'x',\n",
    "        yref = \"paper\",\n",
    "        line = new Line() {color = \"red\", width = 2}\n",
    "    }\n",
    "};\n",
    "\n",
    "var chart1 = Chart.Plot(\n",
    "new [] \n",
    "    {\n",
    "        new Scattergl()\n",
    "        {\n",
    "            x = dates.ToArray(),\n",
    "            y = totalConfirmedCases.ToArray(),\n",
    "            mode = \"lines+markers\"\n",
    "        }\n",
    "    },\n",
    "    layout\n",
    ");\n",
    "\n",
    "chart1.WithTitle(title);\n",
    "display(chart1);"
   ]
  },
  {
   "cell_type": "markdown",
   "metadata": {},
   "source": [
    "### 11. Analysis"
   ]
  },
  {
   "cell_type": "markdown",
   "metadata": {},
   "source": [
    "Comparing the plots before and after prediction, it seems our ML model has performed reasonably well. The red line represents the data on future date(5/8/2020). Beyond this, we predicted for 7 days. Looking at the plot, there is a sudden drop on 5/8/2020 which could be accounted due to insufficient data as we have only 127 records. However we see an increasing trend for next 7 days in alignment with previous confirmed cases. We can extend this model for predicting confirmed cases for any number of days by changing HORIZON constant value. This plot is helpful in analysing the increased number of cases and allow authorities to take precautionary measures to keep the numbers low."
   ]
  },
  {
   "cell_type": "markdown",
   "metadata": {},
   "source": [
    "## Conclusion"
   ]
  },
  {
   "cell_type": "markdown",
   "metadata": {},
   "source": [
    "I hope you have enjoyed reading the notebook, and might have got some idea on the powerful framework ML.Net. ML.Net is a very fast emerging framework for .Net developers which abstracts lot of complexity present in the field of Data science and Machine Learning. The focus of Part-2 notebook is leverage ML.Net for making predictions using time-series API. The model generated can be saved as a zip file and used in different applications.\n",
    "\n",
    "Feedback/Suggestion are welcome. Please reach out to me through below channels\n",
    "\n",
    "**Contact**\n",
    "\n",
    "**Email    :** praveenraghuvanshi@gmail.com  \n",
    "**LinkedIn :** https://in.linkedin.com/in/praveenraghuvanshi  \n",
    "**Github   :** https://github.com/praveenraghuvanshi  \n",
    "**Twitter  :** @praveenraghuvan\n",
    "\n"
   ]
  },
  {
   "cell_type": "markdown",
   "metadata": {},
   "source": [
    "## References\n",
    "- [Tutorial: Forecast bike rental service demand with time series analysis and ML.NET](https://docs.microsoft.com/en-us/dotnet/machine-learning/tutorials/time-series-demand-forecasting#evaluate-the-model)\n",
    "- [Time Series Forecasting in ML.NET and Azure ML notebooks](https://github.com/gvashishtha/time-series-mlnet/blob/master/time-series-forecast.ipynb) by Gopal Vashishtha"
   ]
  },
  {
   "cell_type": "markdown",
   "metadata": {},
   "source": [
    "#  ******************** Be Safe **********************"
   ]
  }
 ],
 "metadata": {
  "kernelspec": {
   "display_name": ".NET (C#)",
   "language": "C#",
   "name": ".net-csharp"
  },
  "language_info": {
   "file_extension": ".cs",
   "mimetype": "text/x-csharp",
   "name": "C#",
   "pygments_lexer": "csharp",
   "version": "8.0"
  },
  "nteract": {
   "version": "0.23.3"
  }
 },
 "nbformat": 4,
 "nbformat_minor": 2
}
