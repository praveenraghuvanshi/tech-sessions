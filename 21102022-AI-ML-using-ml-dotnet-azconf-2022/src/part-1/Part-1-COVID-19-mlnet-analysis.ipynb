{
 "cells": [
  {
   "cell_type": "markdown",
   "metadata": {},
   "source": [
    "# Part-1: COVID-19 Data Analysis using .Net DataFrame API"
   ]
  },
  {
   "cell_type": "markdown",
   "metadata": {},
   "source": [
    "## COVID-19\n",
    "- As per [Wiki](https://en.wikipedia.org/wiki/Coronavirus_disease_2019) **Coronavirus disease 2019** (**COVID-19**) is an infectious disease caused by severe acute respiratory syndrome coronavirus 2 (SARS-CoV-2). The disease was first identified in 2019 in Wuhan, the capital of China's Hubei province, and has since spread globally, resulting in the ongoing 2019–20 coronavirus pandemic.\n",
    "- The virus had caused a pandemic across the globe and spreading/affecting most of the nations. \n",
    "- The purpose of notebook is to visualize the trends of virus spread in various countries and explore features present in ML.Net such as DataFrame."
   ]
  },
  {
   "cell_type": "markdown",
   "metadata": {},
   "source": [
    "### Acknowledgement\n",
    "- [Johns Hopkins CSSE](https://github.com/CSSEGISandData/COVID-19/raw/master/csse_covid_19_data) for dataset\n",
    "- [COVID-19 data visualization](https://www.kaggle.com/akshaysb/covid-19-data-visualization) by Akshay Sb"
   ]
  },
  {
   "cell_type": "markdown",
   "metadata": {},
   "source": [
    "### Dataset\n",
    "\n",
    "- [2019 Novel Coronavirus COVID-19 (2019-nCoV) Data Repository by Johns Hopkins CSSE - Daily reports](https://github.com/CSSEGISandData/COVID-19/raw/master/csse_covid_19_data/csse_covid_19_daily_reports)."
   ]
  },
  {
   "cell_type": "markdown",
   "metadata": {},
   "source": [
    "### Introduction \n",
    "\n",
    "[**DataFrame**](https://devblogs.microsoft.com/dotnet/an-introduction-to-dataframe/): DataFrame is a new type introduced in .Net. It is similar to DataFrame in Python which is used to manipulate data in notebooks. It's a collection of columns containing data similar to a table and very helpful in analyzing tabular data. It works flawlessly without creating types/classes mapped to columns in a table which we used to do with [ML.Net](https://dotnet.microsoft.com/apps/machinelearning-ai/ml-dotnet). It has support for GroupBy, Sort, Filter which makes analysis very handy. It's a in-memory representation of structured data.\n",
    "\n",
    "In this tutorial we'll cover below features\n",
    "- Load a CSV\n",
    "- Metada\n",
    "    - Description\n",
    "    - Info\n",
    "- Display records\n",
    "    - Head\n",
    "    - Sample\n",
    "    - \n",
    "- Filtering\n",
    "- Grouping\n",
    "- Aggregate\n",
    "\n",
    "For overview, please refer below links\n",
    "- [An Introduction to DataFrame](https://devblogs.microsoft.com/dotnet/an-introduction-to-dataframe/)\n",
    "- [Exploring the C# Dataframe API](https://www.youtube.com/watch?v=FI3VxXClJ7Y)\n",
    "\n",
    "[**Part-2**](https://github.com/praveenraghuvanshi/covid-19/tree/Part-2/part-2) covers time series analysis and prediction using ML.Net  "
   ]
  },
  {
   "cell_type": "markdown",
   "metadata": {},
   "source": [
    "### Summary\n",
    "\n",
    "Below is the summary of steps we'll be performing\n",
    "\n",
    "1. Define application level items\n",
    "    - Nuget packages\n",
    "    - Namespaces\n",
    "    - Constants\n",
    "     \n",
    "2. Utility Functions\n",
    "    - Formatters    \n",
    "\n",
    "3. Load Dataset\n",
    "    - Download Dataset from [Johns Hopkins CSSE](https://github.com/CSSEGISandData/COVID-19/raw/master/csse_covid_19_data)\n",
    "    - Load dataset in DataFrame\n",
    "    \n",
    "4. Analyse Data\n",
    "    - Date Range\n",
    "    - Display Datset - display(dataframe)\n",
    "    - Display Top 5 Rows - dataframe.Head(5)\n",
    "    - Display Random 6 Rows - dataframe.Sample(6)    \n",
    "    - Display Dataset Statistics - dataframe.Description()\n",
    "    - Display Dataset type information - dataframe.Info()\n",
    "\n",
    "5. Data Cleaning\n",
    "    - Remove Invalid cases\n",
    "\n",
    "6. Data Visualization\n",
    "    - Global\n",
    "        - Confirmed Vs Deaths Vs Recovered\n",
    "        - Top 5 Countries with Confirmed cases\n",
    "        - Top 5 Countries with Death cases\n",
    "        - Top 5 Countries with Recovered cases\n",
    "    - India\n",
    "        - Confirmed Vs Deaths Vs Recovered\n",
    "        \n",
    "**Note** : Graphs/Plots may not render in GitHub due to secutiry reasons, however if you run this notebook locally/binder they will render."
   ]
  },
  {
   "cell_type": "markdown",
   "metadata": {},
   "source": [
    "### 1. Define Application wide Items"
   ]
  },
  {
   "cell_type": "markdown",
   "metadata": {},
   "source": [
    "#### Nuget Packages\n"
   ]
  },
  {
   "cell_type": "code",
   "execution_count": 1,
   "metadata": {
    "vscode": {
     "languageId": "csharp"
    }
   },
   "outputs": [
    {
     "data": {
      "text/html": [
       "\r\n",
       "<div>\r\n",
       "    <div id='dotnet-interactive-this-cell-6204.Microsoft.DotNet.Interactive.Http.HttpPort' style='display: none'>\r\n",
       "        The below script needs to be able to find the current output cell; this is an easy method to get it.\r\n",
       "    </div>\r\n",
       "    <script type='text/javascript'>\r\n",
       "async function probeAddresses(probingAddresses) {\r\n",
       "    function timeout(ms, promise) {\r\n",
       "        return new Promise(function (resolve, reject) {\r\n",
       "            setTimeout(function () {\r\n",
       "                reject(new Error('timeout'))\r\n",
       "            }, ms)\r\n",
       "            promise.then(resolve, reject)\r\n",
       "        })\r\n",
       "    }\r\n",
       "\r\n",
       "    if (Array.isArray(probingAddresses)) {\r\n",
       "        for (let i = 0; i < probingAddresses.length; i++) {\r\n",
       "\r\n",
       "            let rootUrl = probingAddresses[i];\r\n",
       "\r\n",
       "            if (!rootUrl.endsWith('/')) {\r\n",
       "                rootUrl = `${rootUrl}/`;\r\n",
       "            }\r\n",
       "\r\n",
       "            try {\r\n",
       "                let response = await timeout(1000, fetch(`${rootUrl}discovery`, {\r\n",
       "                    method: 'POST',\r\n",
       "                    cache: 'no-cache',\r\n",
       "                    mode: 'cors',\r\n",
       "                    timeout: 1000,\r\n",
       "                    headers: {\r\n",
       "                        'Content-Type': 'text/plain'\r\n",
       "                    },\r\n",
       "                    body: probingAddresses[i]\r\n",
       "                }));\r\n",
       "\r\n",
       "                if (response.status == 200) {\r\n",
       "                    return rootUrl;\r\n",
       "                }\r\n",
       "            }\r\n",
       "            catch (e) { }\r\n",
       "        }\r\n",
       "    }\r\n",
       "}\r\n",
       "\r\n",
       "function loadDotnetInteractiveApi() {\r\n",
       "    probeAddresses([\"http://10.45.72.238:1000/\", \"http://192.168.1.3:1000/\", \"http://127.0.0.1:1000/\"])\r\n",
       "        .then((root) => {\r\n",
       "        // use probing to find host url and api resources\r\n",
       "        // load interactive helpers and language services\r\n",
       "        let dotnetInteractiveRequire = require.config({\r\n",
       "        context: '6204.Microsoft.DotNet.Interactive.Http.HttpPort',\r\n",
       "                paths:\r\n",
       "            {\r\n",
       "                'dotnet-interactive': `${root}resources`\r\n",
       "                }\r\n",
       "        }) || require;\r\n",
       "\r\n",
       "            window.dotnetInteractiveRequire = dotnetInteractiveRequire;\r\n",
       "\r\n",
       "            window.configureRequireFromExtension = function(extensionName, extensionCacheBuster) {\r\n",
       "                let paths = {};\r\n",
       "                paths[extensionName] = `${root}extensions/${extensionName}/resources/`;\r\n",
       "                \r\n",
       "                let internalRequire = require.config({\r\n",
       "                    context: extensionCacheBuster,\r\n",
       "                    paths: paths,\r\n",
       "                    urlArgs: `cacheBuster=${extensionCacheBuster}`\r\n",
       "                    }) || require;\r\n",
       "\r\n",
       "                return internalRequire\r\n",
       "            };\r\n",
       "        \r\n",
       "            dotnetInteractiveRequire([\r\n",
       "                    'dotnet-interactive/dotnet-interactive'\r\n",
       "                ],\r\n",
       "                function (dotnet) {\r\n",
       "                    dotnet.init(window);\r\n",
       "                },\r\n",
       "                function (error) {\r\n",
       "                    console.log(error);\r\n",
       "                }\r\n",
       "            );\r\n",
       "        })\r\n",
       "        .catch(error => {console.log(error);});\r\n",
       "    }\r\n",
       "\r\n",
       "// ensure `require` is available globally\r\n",
       "if ((typeof(require) !==  typeof(Function)) || (typeof(require.config) !== typeof(Function))) {\r\n",
       "    let require_script = document.createElement('script');\r\n",
       "    require_script.setAttribute('src', 'https://cdnjs.cloudflare.com/ajax/libs/require.js/2.3.6/require.min.js');\r\n",
       "    require_script.setAttribute('type', 'text/javascript');\r\n",
       "    \r\n",
       "    \r\n",
       "    require_script.onload = function() {\r\n",
       "        loadDotnetInteractiveApi();\r\n",
       "    };\r\n",
       "\r\n",
       "    document.getElementsByTagName('head')[0].appendChild(require_script);\r\n",
       "}\r\n",
       "else {\r\n",
       "    loadDotnetInteractiveApi();\r\n",
       "}\r\n",
       "\r\n",
       "    </script>\r\n",
       "</div>"
      ]
     },
     "metadata": {},
     "output_type": "display_data"
    },
    {
     "data": {
      "text/html": [
       "<div><div></div><div></div><div><strong>Installed Packages</strong><ul><li><span>CsvHelper, 29.0.0</span></li><li><span>Microsoft.Data.Analysis, 0.19.1</span></li><li><span>Microsoft.ML, 1.7.1</span></li><li><span>XPlot.Plotly, 4.0.6</span></li><li><span>XPlot.Plotly.Interactive, 4.0.6</span></li></ul></div></div>"
      ]
     },
     "metadata": {},
     "output_type": "display_data"
    },
    {
     "data": {
      "text/markdown": [
       "Loading extensions from `XPlot.Plotly.Interactive.dll`"
      ]
     },
     "metadata": {},
     "output_type": "display_data"
    },
    {
     "data": {
      "text/markdown": [
       "Configuring PowerShell Kernel for XPlot.Plotly integration."
      ]
     },
     "metadata": {},
     "output_type": "display_data"
    },
    {
     "data": {
      "text/markdown": [
       "Installed support for XPlot.Plotly."
      ]
     },
     "metadata": {},
     "output_type": "display_data"
    },
    {
     "data": {
      "text/markdown": [
       "Loading extensions from `Microsoft.Data.Analysis.Interactive.dll`"
      ]
     },
     "metadata": {},
     "output_type": "display_data"
    }
   ],
   "source": [
    "// ML.NET Nuget packages installation\n",
    "#r \"nuget:Microsoft.ML\"\n",
    "#r \"nuget:Microsoft.Data.Analysis\"\n",
    "\n",
    "// Install XPlot package\n",
    "#r \"nuget:XPlot.Plotly\"\n",
    "#r \"nuget: XPlot.Plotly.Interactive\"\n",
    "    \n",
    "// CSV Helper Package for reading CSV\n",
    "#r \"nuget:CsvHelper\""
   ]
  },
  {
   "cell_type": "markdown",
   "metadata": {},
   "source": [
    "#### Namespaces"
   ]
  },
  {
   "cell_type": "code",
   "execution_count": 2,
   "metadata": {
    "vscode": {
     "languageId": "csharp"
    }
   },
   "outputs": [],
   "source": [
    "using Microsoft.ML;\n",
    "using Microsoft.ML.Data;\n",
    "using Microsoft.Data.Analysis;\n",
    "using Microsoft.AspNetCore.Html;\n",
    "using Microsoft.DotNet.Interactive.Formatting;\n",
    "using static Microsoft.DotNet.Interactive.Formatting.PocketViewTags;\n",
    "using System.IO;\n",
    "using System.Net.Http;\n",
    "using System.Globalization;\n",
    "using CsvHelper;\n",
    "using CsvHelper.Configuration;\n",
    "using XPlot.Plotly;"
   ]
  },
  {
   "cell_type": "markdown",
   "metadata": {},
   "source": [
    "#### Constants"
   ]
  },
  {
   "cell_type": "code",
   "execution_count": 3,
   "metadata": {
    "vscode": {
     "languageId": "csharp"
    }
   },
   "outputs": [],
   "source": [
    "// Column Names\n",
    "const string FIPS = \"FIPS\";\n",
    "const string ADMIN = \"Admin2\";\n",
    "const string STATE = \"Province_State\";\n",
    "const string COUNTRY = \"Country_Region\";\n",
    "const string LAST_UPDATE = \"Last_Update\";\n",
    "const string LATITUDE = \"Lat\";\n",
    "const string LONGITUDE = \"Long_\";\n",
    "const string CONFIRMED = \"Confirmed\";\n",
    "const string DEATHS = \"Deaths\";\n",
    "const string RECOVERED = \"Recovered\";\n",
    "const string ACTIVE = \"Active\";\n",
    "const string COMBINED_KEY = \"Combined_Key\";\n",
    "\n",
    "// File\n",
    "const string DATASET_FILE = \"05-27-2020\";\n",
    "const string FILE_EXTENSION = \".csv\";\n",
    "const string NEW_FILE_SUFFIX = \"_new\";\n",
    "const char SEPARATOR = ',';\n",
    "const char SEPARATOR_REPLACEMENT = '_';\n",
    "const string DATASET_GITHUB_DIRECTORY = \"https://raw.githubusercontent.com/CSSEGISandData/COVID-19/master/csse_covid_19_data/csse_covid_19_daily_reports/\";\n",
    "\n",
    "// DataFrame/Table\n",
    "const int TOP_COUNT = 5;\n",
    "const int DEFAULT_ROW_COUNT = 10;\n",
    "const string VALUES = \"Values\";\n",
    "const string INDIA = \"India\";"
   ]
  },
  {
   "cell_type": "markdown",
   "metadata": {},
   "source": [
    "### 2. Utility Functions"
   ]
  },
  {
   "cell_type": "markdown",
   "metadata": {},
   "source": [
    "#### Formatters\n",
    "\n",
    "By default the output of DataFrame is not proper and in order to display it as a table, we need to have a custom formatter implemented as shown in next cell. "
   ]
  },
  {
   "cell_type": "code",
   "execution_count": 4,
   "metadata": {
    "vscode": {
     "languageId": "csharp"
    }
   },
   "outputs": [],
   "source": [
    "// Formats the table\n",
    "\n",
    "Formatter.Register<DataFrame>((df, writer) =>\n",
    "{\n",
    "    var headers = new List<IHtmlContent>();\n",
    "    headers.Add(th(i(\"index\")));\n",
    "    headers.AddRange(df.Columns.Select(c => (IHtmlContent) th(c.Name)));\n",
    "    var rows = new List<List<IHtmlContent>>();\n",
    "    var take = DEFAULT_ROW_COUNT;\n",
    "    for (var i = 0; i < Math.Min(take, df.Rows.Count); i++)\n",
    "    {\n",
    "        var cells = new List<IHtmlContent>();\n",
    "        cells.Add(td(i));\n",
    "        foreach (var obj in df.Rows[i])\n",
    "        {\n",
    "            cells.Add(td(obj));\n",
    "        }\n",
    "        rows.Add(cells);\n",
    "    }\n",
    "\n",
    "    var t = table(\n",
    "        thead(\n",
    "            headers),\n",
    "        tbody(\n",
    "            rows.Select(\n",
    "                r => tr(r))));\n",
    "\n",
    "    writer.Write(t);\n",
    "}, \"text/html\");"
   ]
  },
  {
   "cell_type": "markdown",
   "metadata": {},
   "source": [
    "#### Copy dataset csv and replace Separator in cells"
   ]
  },
  {
   "cell_type": "code",
   "execution_count": 5,
   "metadata": {
    "vscode": {
     "languageId": "csharp"
    }
   },
   "outputs": [],
   "source": [
    "// Replace a characeter in a cell of csv with a defined separator\n",
    "private void CreateCsvAndReplaceSeparatorInCells(string inputFile, string outputFile, char separator, char separatorReplacement)\n",
    "{\n",
    "    var culture = CultureInfo.InvariantCulture;\n",
    "    using var reader = new StreamReader(inputFile);\n",
    "    using var csvIn = new CsvReader(reader, new CsvConfiguration(culture));\n",
    "    using var recordsIn = new CsvDataReader(csvIn);\n",
    "    using var writer = new StreamWriter(outputFile);\n",
    "    using var outCsv = new CsvWriter(writer, culture);\n",
    "\n",
    "    // Write Header\n",
    "    csvIn.ReadHeader();\n",
    "    var headers = csvIn.Context.Reader.HeaderRecord;\n",
    "    foreach (var header in headers)\n",
    "    {\n",
    "        outCsv.WriteField(header.Replace(separator, separatorReplacement));\n",
    "    }\n",
    "    outCsv.NextRecord();\n",
    "\n",
    "    // Write rows\n",
    "    while (recordsIn.Read())\n",
    "    {\n",
    "        var columns = recordsIn.FieldCount;\n",
    "        for (var index = 0; index < columns; index++)\n",
    "        {\n",
    "            var cellValue = recordsIn.GetString(index);\n",
    "            outCsv.WriteField(cellValue.Replace(separator, separatorReplacement));\n",
    "        }\n",
    "        outCsv.NextRecord();\n",
    "    }\n",
    "}"
   ]
  },
  {
   "cell_type": "markdown",
   "metadata": {},
   "source": [
    "### 3. Load Dataset"
   ]
  },
  {
   "cell_type": "markdown",
   "metadata": {},
   "source": [
    "#### Download Dataset from [Johns Hopkins CSSE](https://github.com/CSSEGISandData/COVID-19/raw/master/csse_covid_19_data)\n",
    "\n",
    "We'll be using COVID-19 dataset from [Johns Hopkins CSSE](https://github.com/CSSEGISandData/COVID-19/raw/master/csse_covid_19_data). The **csse_covid_19_data directory** has .csv file for each day and we'll be performing analysis on latest file present. Latest file present at the time of last modification of this notebook was **05-27-2020.csv**. If you wish to use a different file, update **DATASET_FILE** constant in Constants cell above.\n",
    "\n",
    "We'll download file to current directory."
   ]
  },
  {
   "cell_type": "code",
   "execution_count": 6,
   "metadata": {
    "vscode": {
     "languageId": "csharp"
    }
   },
   "outputs": [
    {
     "data": {
      "text/plain": [
       "https://raw.githubusercontent.com/CSSEGISandData/COVID-19/master/csse_covid_19_data/csse_covid_19_daily_reports//05-27-2020.csv"
      ]
     },
     "metadata": {},
     "output_type": "display_data"
    }
   ],
   "source": [
    "// Download csv from github\n",
    "var originalFileName = $\"{DATASET_FILE}{FILE_EXTENSION}\";\n",
    "if (!File.Exists(originalFileName))\n",
    "{\n",
    "    var remoteFilePath = $\"{DATASET_GITHUB_DIRECTORY}/{originalFileName}\";\n",
    "    display(remoteFilePath);\n",
    "    var contents = new HttpClient()\n",
    "        .GetStringAsync(remoteFilePath).Result;\n",
    "        \n",
    "    File.WriteAllText(originalFileName, contents);\n",
    "}"
   ]
  },
  {
   "cell_type": "markdown",
   "metadata": {},
   "source": [
    "#### Load dataset in DataFrame\n",
    "\n",
    "**Issue**: We can load csv using LoadCsv(..) method of DataFrame. However, there is an [issue](https://github.com/dotnet/corefxlab/issues/2787) of not allowing quotes and separator(comma in this case) in a cell value. \n",
    "The dataset, we are using has both of them and LoadCsv fails for it. \n",
    "As a workaround, we'll use CSVHelper to read the csv file and replace command separator with underscore, save the file and use it to load in DataFrame LoadCsv(..) method.\n",
    "\n",
    "<img src=\".\\assets\\invalid-characters.png\" alt=\"Invalid Character\" style=\"zoom: 80%;\" />"
   ]
  },
  {
   "cell_type": "code",
   "execution_count": 7,
   "metadata": {
    "vscode": {
     "languageId": "csharp"
    }
   },
   "outputs": [
    {
     "data": {
      "text/plain": [
       "05-27-2020_new.csv"
      ]
     },
     "metadata": {},
     "output_type": "display_data"
    }
   ],
   "source": [
    "// Load and create a copy of dataset file\n",
    "var newFileName = $\"{DATASET_FILE}{NEW_FILE_SUFFIX}{FILE_EXTENSION}\";\n",
    "display(newFileName);\n",
    "CreateCsvAndReplaceSeparatorInCells(originalFileName, newFileName, SEPARATOR, SEPARATOR_REPLACEMENT);"
   ]
  },
  {
   "cell_type": "code",
   "execution_count": 8,
   "metadata": {
    "vscode": {
     "languageId": "csharp"
    }
   },
   "outputs": [],
   "source": [
    "var covid19Dataframe = DataFrame.LoadCsv(newFileName);"
   ]
  },
  {
   "cell_type": "markdown",
   "metadata": {},
   "source": [
    "### 4. Data Analysis\n",
    "\n",
    "Data analysis is a critical activity in the field of Data science. It provides ways to uncover the hidden attributes of a dataset which can't be analyzed or predicted by simply looking at the data source. DataFrame makes the analysis simple by providing great API's such as GroupBy, Sort, Filter etc. Jupyter notebook is great tool for this kind of activity which maintains values of variables executed in a cell and providing it to other cells."
   ]
  },
  {
   "cell_type": "markdown",
   "metadata": {},
   "source": [
    "##### Finding the range in the records in Dataset\n",
    "\n",
    "In DataFrame, Columns property allows access to values within a column by specifying column name. we'll use Last_Update column to get the date and sort it to get the start and end date"
   ]
  },
  {
   "cell_type": "code",
   "execution_count": 9,
   "metadata": {
    "vscode": {
     "languageId": "csharp"
    }
   },
   "outputs": [
    {
     "data": {
      "text/html": [
       "<h4>The data is between 5/28/2020 and 4/2/2021</h4>"
      ]
     },
     "metadata": {},
     "output_type": "display_data"
    }
   ],
   "source": [
    "// Gets the data range\n",
    "\n",
    "var dateRangeDataFrame = covid19Dataframe.Columns[LAST_UPDATE].ValueCounts();\n",
    "var dataRange = dateRangeDataFrame.Columns[VALUES].Sort();\n",
    "var lastElementIndex = dataRange.Length - 1;\n",
    "\n",
    "var startDate = DateTime.Parse(dataRange[0].ToString()).ToShortDateString();\n",
    "var endDate  = DateTime.Parse(dataRange[lastElementIndex].ToString()).ToShortDateString(); // Last Element\n",
    "\n",
    "display(h4($\"The data is between {startDate} and {endDate}\"));"
   ]
  },
  {
   "cell_type": "markdown",
   "metadata": {},
   "source": [
    "##### Display 10 records\n",
    "\n",
    "Here we have 12 columns which includes Country, State, Confirmed, Deaths, Recovered and Active cases"
   ]
  },
  {
   "cell_type": "code",
   "execution_count": 10,
   "metadata": {
    "vscode": {
     "languageId": "csharp"
    }
   },
   "outputs": [
    {
     "data": {
      "text/html": [
       "<table><thead><th><i>index</i></th><th>FIPS</th><th>Admin2</th><th>Province_State</th><th>Country_Region</th><th>Last_Update</th><th>Lat</th><th>Long_</th><th>Confirmed</th><th>Deaths</th><th>Recovered</th><th>Active</th><th>Combined_Key</th></thead><tbody><tr><td><div class=\"dni-plaintext\">0</div></td><td><div class=\"dni-plaintext\">45001</div></td><td>Abbeville</td><td>South Carolina</td><td>US</td><td><span>2020-05-28 02:32:31Z</span></td><td><div class=\"dni-plaintext\">34.223335</div></td><td><div class=\"dni-plaintext\">-82.46171</div></td><td><div class=\"dni-plaintext\">35</div></td><td><div class=\"dni-plaintext\">0</div></td><td><div class=\"dni-plaintext\">0</div></td><td><div class=\"dni-plaintext\">35</div></td><td>Abbeville_ South Carolina_ US</td></tr><tr><td><div class=\"dni-plaintext\">1</div></td><td><div class=\"dni-plaintext\">22001</div></td><td>Acadia</td><td>Louisiana</td><td>US</td><td><span>2020-05-28 02:32:31Z</span></td><td><div class=\"dni-plaintext\">30.295065</div></td><td><div class=\"dni-plaintext\">-92.4142</div></td><td><div class=\"dni-plaintext\">397</div></td><td><div class=\"dni-plaintext\">22</div></td><td><div class=\"dni-plaintext\">0</div></td><td><div class=\"dni-plaintext\">375</div></td><td>Acadia_ Louisiana_ US</td></tr><tr><td><div class=\"dni-plaintext\">2</div></td><td><div class=\"dni-plaintext\">51001</div></td><td>Accomack</td><td>Virginia</td><td>US</td><td><span>2020-05-28 02:32:31Z</span></td><td><div class=\"dni-plaintext\">37.76707</div></td><td><div class=\"dni-plaintext\">-75.63235</div></td><td><div class=\"dni-plaintext\">780</div></td><td><div class=\"dni-plaintext\">12</div></td><td><div class=\"dni-plaintext\">0</div></td><td><div class=\"dni-plaintext\">768</div></td><td>Accomack_ Virginia_ US</td></tr><tr><td><div class=\"dni-plaintext\">3</div></td><td><div class=\"dni-plaintext\">16001</div></td><td>Ada</td><td>Idaho</td><td>US</td><td><span>2020-05-28 02:32:31Z</span></td><td><div class=\"dni-plaintext\">43.452656</div></td><td><div class=\"dni-plaintext\">-116.241554</div></td><td><div class=\"dni-plaintext\">798</div></td><td><div class=\"dni-plaintext\">22</div></td><td><div class=\"dni-plaintext\">0</div></td><td><div class=\"dni-plaintext\">776</div></td><td>Ada_ Idaho_ US</td></tr><tr><td><div class=\"dni-plaintext\">4</div></td><td><div class=\"dni-plaintext\">19001</div></td><td>Adair</td><td>Iowa</td><td>US</td><td><span>2020-05-28 02:32:31Z</span></td><td><div class=\"dni-plaintext\">41.330757</div></td><td><div class=\"dni-plaintext\">-94.47106</div></td><td><div class=\"dni-plaintext\">7</div></td><td><div class=\"dni-plaintext\">0</div></td><td><div class=\"dni-plaintext\">0</div></td><td><div class=\"dni-plaintext\">7</div></td><td>Adair_ Iowa_ US</td></tr><tr><td><div class=\"dni-plaintext\">5</div></td><td><div class=\"dni-plaintext\">21001</div></td><td>Adair</td><td>Kentucky</td><td>US</td><td><span>2020-05-28 02:32:31Z</span></td><td><div class=\"dni-plaintext\">37.1046</div></td><td><div class=\"dni-plaintext\">-85.281296</div></td><td><div class=\"dni-plaintext\">96</div></td><td><div class=\"dni-plaintext\">19</div></td><td><div class=\"dni-plaintext\">0</div></td><td><div class=\"dni-plaintext\">77</div></td><td>Adair_ Kentucky_ US</td></tr><tr><td><div class=\"dni-plaintext\">6</div></td><td><div class=\"dni-plaintext\">29001</div></td><td>Adair</td><td>Missouri</td><td>US</td><td><span>2020-05-28 02:32:31Z</span></td><td><div class=\"dni-plaintext\">40.190586</div></td><td><div class=\"dni-plaintext\">-92.600784</div></td><td><div class=\"dni-plaintext\">46</div></td><td><div class=\"dni-plaintext\">0</div></td><td><div class=\"dni-plaintext\">0</div></td><td><div class=\"dni-plaintext\">46</div></td><td>Adair_ Missouri_ US</td></tr><tr><td><div class=\"dni-plaintext\">7</div></td><td><div class=\"dni-plaintext\">40001</div></td><td>Adair</td><td>Oklahoma</td><td>US</td><td><span>2020-05-28 02:32:31Z</span></td><td><div class=\"dni-plaintext\">35.88494</div></td><td><div class=\"dni-plaintext\">-94.65859</div></td><td><div class=\"dni-plaintext\">82</div></td><td><div class=\"dni-plaintext\">3</div></td><td><div class=\"dni-plaintext\">0</div></td><td><div class=\"dni-plaintext\">79</div></td><td>Adair_ Oklahoma_ US</td></tr><tr><td><div class=\"dni-plaintext\">8</div></td><td><div class=\"dni-plaintext\">8001</div></td><td>Adams</td><td>Colorado</td><td>US</td><td><span>2020-05-28 02:32:31Z</span></td><td><div class=\"dni-plaintext\">39.87432</div></td><td><div class=\"dni-plaintext\">-104.33626</div></td><td><div class=\"dni-plaintext\">3547</div></td><td><div class=\"dni-plaintext\">148</div></td><td><div class=\"dni-plaintext\">0</div></td><td><div class=\"dni-plaintext\">2888</div></td><td>Adams_ Colorado_ US</td></tr><tr><td><div class=\"dni-plaintext\">9</div></td><td><div class=\"dni-plaintext\">16003</div></td><td>Adams</td><td>Idaho</td><td>US</td><td><span>2020-05-28 02:32:31Z</span></td><td><div class=\"dni-plaintext\">44.893337</div></td><td><div class=\"dni-plaintext\">-116.45452</div></td><td><div class=\"dni-plaintext\">3</div></td><td><div class=\"dni-plaintext\">0</div></td><td><div class=\"dni-plaintext\">0</div></td><td><div class=\"dni-plaintext\">3</div></td><td>Adams_ Idaho_ US</td></tr></tbody></table>"
      ]
     },
     "metadata": {},
     "output_type": "display_data"
    }
   ],
   "source": [
    "display(covid19Dataframe)"
   ]
  },
  {
   "cell_type": "markdown",
   "metadata": {},
   "source": [
    "##### Display Top 5 records"
   ]
  },
  {
   "cell_type": "code",
   "execution_count": 11,
   "metadata": {
    "vscode": {
     "languageId": "csharp"
    }
   },
   "outputs": [
    {
     "data": {
      "text/html": [
       "<table><thead><th><i>index</i></th><th>FIPS</th><th>Admin2</th><th>Province_State</th><th>Country_Region</th><th>Last_Update</th><th>Lat</th><th>Long_</th><th>Confirmed</th><th>Deaths</th><th>Recovered</th><th>Active</th><th>Combined_Key</th></thead><tbody><tr><td><div class=\"dni-plaintext\">0</div></td><td><div class=\"dni-plaintext\">45001</div></td><td>Abbeville</td><td>South Carolina</td><td>US</td><td><span>2020-05-28 02:32:31Z</span></td><td><div class=\"dni-plaintext\">34.223335</div></td><td><div class=\"dni-plaintext\">-82.46171</div></td><td><div class=\"dni-plaintext\">35</div></td><td><div class=\"dni-plaintext\">0</div></td><td><div class=\"dni-plaintext\">0</div></td><td><div class=\"dni-plaintext\">35</div></td><td>Abbeville_ South Carolina_ US</td></tr><tr><td><div class=\"dni-plaintext\">1</div></td><td><div class=\"dni-plaintext\">22001</div></td><td>Acadia</td><td>Louisiana</td><td>US</td><td><span>2020-05-28 02:32:31Z</span></td><td><div class=\"dni-plaintext\">30.295065</div></td><td><div class=\"dni-plaintext\">-92.4142</div></td><td><div class=\"dni-plaintext\">397</div></td><td><div class=\"dni-plaintext\">22</div></td><td><div class=\"dni-plaintext\">0</div></td><td><div class=\"dni-plaintext\">375</div></td><td>Acadia_ Louisiana_ US</td></tr><tr><td><div class=\"dni-plaintext\">2</div></td><td><div class=\"dni-plaintext\">51001</div></td><td>Accomack</td><td>Virginia</td><td>US</td><td><span>2020-05-28 02:32:31Z</span></td><td><div class=\"dni-plaintext\">37.76707</div></td><td><div class=\"dni-plaintext\">-75.63235</div></td><td><div class=\"dni-plaintext\">780</div></td><td><div class=\"dni-plaintext\">12</div></td><td><div class=\"dni-plaintext\">0</div></td><td><div class=\"dni-plaintext\">768</div></td><td>Accomack_ Virginia_ US</td></tr><tr><td><div class=\"dni-plaintext\">3</div></td><td><div class=\"dni-plaintext\">16001</div></td><td>Ada</td><td>Idaho</td><td>US</td><td><span>2020-05-28 02:32:31Z</span></td><td><div class=\"dni-plaintext\">43.452656</div></td><td><div class=\"dni-plaintext\">-116.241554</div></td><td><div class=\"dni-plaintext\">798</div></td><td><div class=\"dni-plaintext\">22</div></td><td><div class=\"dni-plaintext\">0</div></td><td><div class=\"dni-plaintext\">776</div></td><td>Ada_ Idaho_ US</td></tr><tr><td><div class=\"dni-plaintext\">4</div></td><td><div class=\"dni-plaintext\">19001</div></td><td>Adair</td><td>Iowa</td><td>US</td><td><span>2020-05-28 02:32:31Z</span></td><td><div class=\"dni-plaintext\">41.330757</div></td><td><div class=\"dni-plaintext\">-94.47106</div></td><td><div class=\"dni-plaintext\">7</div></td><td><div class=\"dni-plaintext\">0</div></td><td><div class=\"dni-plaintext\">0</div></td><td><div class=\"dni-plaintext\">7</div></td><td>Adair_ Iowa_ US</td></tr></tbody></table>"
      ]
     },
     "execution_count": 11,
     "metadata": {},
     "output_type": "execute_result"
    }
   ],
   "source": [
    "covid19Dataframe.Head(5)"
   ]
  },
  {
   "cell_type": "markdown",
   "metadata": {},
   "source": [
    "##### Display Random 6 records"
   ]
  },
  {
   "cell_type": "code",
   "execution_count": 12,
   "metadata": {
    "vscode": {
     "languageId": "csharp"
    }
   },
   "outputs": [
    {
     "data": {
      "text/html": [
       "<table><thead><th><i>index</i></th><th>FIPS</th><th>Admin2</th><th>Province_State</th><th>Country_Region</th><th>Last_Update</th><th>Lat</th><th>Long_</th><th>Confirmed</th><th>Deaths</th><th>Recovered</th><th>Active</th><th>Combined_Key</th></thead><tbody><tr><td><div class=\"dni-plaintext\">0</div></td><td><div class=\"dni-plaintext\">17181</div></td><td>Union</td><td>Illinois</td><td>US</td><td><span>2020-05-28 02:32:31Z</span></td><td><div class=\"dni-plaintext\">37.471195</div></td><td><div class=\"dni-plaintext\">-89.25549</div></td><td><div class=\"dni-plaintext\">143</div></td><td><div class=\"dni-plaintext\">7</div></td><td><div class=\"dni-plaintext\">0</div></td><td><div class=\"dni-plaintext\">136</div></td><td>Union_ Illinois_ US</td></tr><tr><td><div class=\"dni-plaintext\">1</div></td><td><div class=\"dni-plaintext\">33015</div></td><td>Rockingham</td><td>New Hampshire</td><td>US</td><td><span>2020-05-28 02:32:31Z</span></td><td><div class=\"dni-plaintext\">42.984997</div></td><td><div class=\"dni-plaintext\">-71.12883</div></td><td><div class=\"dni-plaintext\">1254</div></td><td><div class=\"dni-plaintext\">62</div></td><td><div class=\"dni-plaintext\">0</div></td><td><div class=\"dni-plaintext\">1192</div></td><td>Rockingham_ New Hampshire_ US</td></tr><tr><td><div class=\"dni-plaintext\">2</div></td><td><div class=\"dni-plaintext\">13181</div></td><td>Lincoln</td><td>Georgia</td><td>US</td><td><span>2020-05-28 02:32:31Z</span></td><td><div class=\"dni-plaintext\">33.792015</div></td><td><div class=\"dni-plaintext\">-82.45024</div></td><td><div class=\"dni-plaintext\">16</div></td><td><div class=\"dni-plaintext\">0</div></td><td><div class=\"dni-plaintext\">0</div></td><td><div class=\"dni-plaintext\">16</div></td><td>Lincoln_ Georgia_ US</td></tr><tr><td><div class=\"dni-plaintext\">3</div></td><td><div class=\"dni-plaintext\">31073</div></td><td>Gosper</td><td>Nebraska</td><td>US</td><td><span>2020-05-28 02:32:31Z</span></td><td><div class=\"dni-plaintext\">40.51482</div></td><td><div class=\"dni-plaintext\">-99.8302</div></td><td><div class=\"dni-plaintext\">13</div></td><td><div class=\"dni-plaintext\">0</div></td><td><div class=\"dni-plaintext\">0</div></td><td><div class=\"dni-plaintext\">13</div></td><td>Gosper_ Nebraska_ US</td></tr><tr><td><div class=\"dni-plaintext\">4</div></td><td><div class=\"dni-plaintext\">18115</div></td><td>Ohio</td><td>Indiana</td><td>US</td><td><span>2020-05-28 02:32:31Z</span></td><td><div class=\"dni-plaintext\">38.955303</div></td><td><div class=\"dni-plaintext\">-84.96516</div></td><td><div class=\"dni-plaintext\">13</div></td><td><div class=\"dni-plaintext\">0</div></td><td><div class=\"dni-plaintext\">0</div></td><td><div class=\"dni-plaintext\">13</div></td><td>Ohio_ Indiana_ US</td></tr><tr><td><div class=\"dni-plaintext\">5</div></td><td><div class=\"dni-plaintext\">18091</div></td><td>LaPorte</td><td>Indiana</td><td>US</td><td><span>2020-05-28 02:32:31Z</span></td><td><div class=\"dni-plaintext\">41.54366</div></td><td><div class=\"dni-plaintext\">-86.74072</div></td><td><div class=\"dni-plaintext\">415</div></td><td><div class=\"dni-plaintext\">23</div></td><td><div class=\"dni-plaintext\">0</div></td><td><div class=\"dni-plaintext\">392</div></td><td>LaPorte_ Indiana_ US</td></tr></tbody></table>"
      ]
     },
     "execution_count": 12,
     "metadata": {},
     "output_type": "execute_result"
    }
   ],
   "source": [
    "covid19Dataframe.Sample(6)"
   ]
  },
  {
   "cell_type": "markdown",
   "metadata": {},
   "source": [
    "##### Display Dataset Statistics such as Total, Max, Min, Mean of items in a column"
   ]
  },
  {
   "cell_type": "code",
   "execution_count": 13,
   "metadata": {
    "vscode": {
     "languageId": "csharp"
    }
   },
   "outputs": [
    {
     "data": {
      "text/html": [
       "<table><thead><th><i>index</i></th><th>Description</th><th>FIPS</th><th>Last_Update</th><th>Lat</th><th>Long_</th><th>Confirmed</th><th>Deaths</th><th>Recovered</th><th>Active</th></thead><tbody><tr><td><div class=\"dni-plaintext\">0</div></td><td>Length (excluding null values)</td><td><div class=\"dni-plaintext\">3016</div></td><td><div class=\"dni-plaintext\">3455</div></td><td><div class=\"dni-plaintext\">3383</div></td><td><div class=\"dni-plaintext\">3383</div></td><td><div class=\"dni-plaintext\">3455</div></td><td><div class=\"dni-plaintext\">3455</div></td><td><div class=\"dni-plaintext\">3455</div></td><td><div class=\"dni-plaintext\">3455</div></td></tr><tr><td><div class=\"dni-plaintext\">1</div></td><td>Max</td><td><div class=\"dni-plaintext\">99999</div></td><td><div class=\"dni-plaintext\">&lt;null&gt;</div></td><td><div class=\"dni-plaintext\">71.7069</div></td><td><div class=\"dni-plaintext\">178.065</div></td><td><div class=\"dni-plaintext\">370680</div></td><td><div class=\"dni-plaintext\">44548</div></td><td><div class=\"dni-plaintext\">391508</div></td><td><div class=\"dni-plaintext\">229780</div></td></tr><tr><td><div class=\"dni-plaintext\">2</div></td><td>Min</td><td><div class=\"dni-plaintext\">0</div></td><td><div class=\"dni-plaintext\">&lt;null&gt;</div></td><td><div class=\"dni-plaintext\">-71.9499</div></td><td><div class=\"dni-plaintext\">-175.1982</div></td><td><div class=\"dni-plaintext\">0</div></td><td><div class=\"dni-plaintext\">0</div></td><td><div class=\"dni-plaintext\">0</div></td><td><div class=\"dni-plaintext\">0</div></td></tr><tr><td><div class=\"dni-plaintext\">3</div></td><td>Mean</td><td><div class=\"dni-plaintext\">27417.465</div></td><td><div class=\"dni-plaintext\">&lt;null&gt;</div></td><td><div class=\"dni-plaintext\">35.103237</div></td><td><div class=\"dni-plaintext\">-77.68432</div></td><td><div class=\"dni-plaintext\">1648.4315</div></td><td><div class=\"dni-plaintext\">111.46715</div></td><td><div class=\"dni-plaintext\">680.17395</div></td><td><div class=\"dni-plaintext\">1034.0492</div></td></tr></tbody></table>"
      ]
     },
     "execution_count": 13,
     "metadata": {},
     "output_type": "execute_result"
    }
   ],
   "source": [
    "covid19Dataframe.Description()"
   ]
  },
  {
   "cell_type": "markdown",
   "metadata": {},
   "source": [
    "##### Display Dataset type information for each column"
   ]
  },
  {
   "cell_type": "code",
   "execution_count": 14,
   "metadata": {
    "vscode": {
     "languageId": "csharp"
    }
   },
   "outputs": [
    {
     "data": {
      "text/html": [
       "<table><thead><th><i>index</i></th><th>Info</th><th>FIPS</th><th>Admin2</th><th>Province_State</th><th>Country_Region</th><th>Last_Update</th><th>Lat</th><th>Long_</th><th>Confirmed</th><th>Deaths</th><th>Recovered</th><th>Active</th><th>Combined_Key</th></thead><tbody><tr><td><div class=\"dni-plaintext\">0</div></td><td>DataType</td><td>System.Single</td><td>System.String</td><td>System.String</td><td>System.String</td><td>System.DateTime</td><td>System.Single</td><td>System.Single</td><td>System.Single</td><td>System.Single</td><td>System.Single</td><td>System.Single</td><td>System.String</td></tr><tr><td><div class=\"dni-plaintext\">1</div></td><td>Length (excluding null values)</td><td>3016</td><td>3455</td><td>3455</td><td>3455</td><td>3455</td><td>3383</td><td>3383</td><td>3455</td><td>3455</td><td>3455</td><td>3455</td><td>3455</td></tr></tbody></table>"
      ]
     },
     "execution_count": 14,
     "metadata": {},
     "output_type": "execute_result"
    }
   ],
   "source": [
    "covid19Dataframe.Info()"
   ]
  },
  {
   "cell_type": "markdown",
   "metadata": {},
   "source": [
    "### 5. Visualization\n",
    "\n",
    "Visualization of data helps business owners make better decisions. The DataFrame maintains data in a tabular format. In order to prepare data for different plots, I have used DataFrame features such as Sum, GroupBy, OrderBy, OrderByDescending etc. \n",
    "\n",
    "For visualization, I have used open source library called as [XPlot.Plotly](https://fslab.org/XPlot/plotly.html). Different plots have been used such as Bar, Pie and Line/Scatter Graph. "
   ]
  },
  {
   "cell_type": "markdown",
   "metadata": {},
   "source": [
    "#### Global"
   ]
  },
  {
   "cell_type": "markdown",
   "metadata": {},
   "source": [
    "##### Collect Data"
   ]
  },
  {
   "cell_type": "code",
   "execution_count": 15,
   "metadata": {
    "vscode": {
     "languageId": "csharp"
    }
   },
   "outputs": [],
   "source": [
    "//  Gets the collection of confirmed, deaths and recovered\n",
    "\n",
    "var confirmed = covid19Dataframe.Columns[CONFIRMED];\n",
    "var deaths = covid19Dataframe.Columns[DEATHS];\n",
    "var recovered = covid19Dataframe.Columns[RECOVERED];\n",
    "\n",
    "// Gets the sum of collection by using Sum method of DataFrame\n",
    "var totalConfirmed = Convert.ToDouble(confirmed.Sum());\n",
    "var totalDeaths = Convert.ToDouble(deaths.Sum());\n",
    "var totaRecovered = Convert.ToDouble(recovered.Sum());"
   ]
  },
  {
   "cell_type": "markdown",
   "metadata": {},
   "source": [
    "##### Confirmed Vs Deaths Vs Receovered cases"
   ]
  },
  {
   "cell_type": "code",
   "execution_count": 16,
   "metadata": {
    "vscode": {
     "languageId": "csharp"
    }
   },
   "outputs": [
    {
     "data": {
      "text/html": [
       "<!DOCTYPE html>\r\n",
       "<div style=\"width: 900px; height: 500px;\" id=\"4f6562fa-e659-436b-b74a-364a2dd49385\"></div><script type=\"text/javascript\">\r\n",
       "\n",
       "var renderPlotly = function() {\n",
       "    var xplotRequire = require.config({context:'xplot-3.0.1',paths:{plotly:'https://cdn.plot.ly/plotly-1.49.2.min'}}) || require;\n",
       "    xplotRequire(['plotly'], function(Plotly) { \r\n",
       "\n",
       "            var data = [{\"type\":\"pie\",\"labels\":[\"Confirmed\",\"Deaths\",\"Recovered\"],\"values\":[5695331.0,385119.0,2350001.0]}];\n",
       "           var layout = \"\";\n",
       "           Plotly.newPlot('4f6562fa-e659-436b-b74a-364a2dd49385', data, layout);\n",
       "        \r\n",
       "});\n",
       "};\r\n",
       "// ensure `require` is available globally\r\n",
       "if ((typeof(require) !==  typeof(Function)) || (typeof(require.config) !== typeof(Function))) {\r\n",
       "    let require_script = document.createElement('script');\r\n",
       "    require_script.setAttribute('src', 'https://cdnjs.cloudflare.com/ajax/libs/require.js/2.3.6/require.min.js');\r\n",
       "    require_script.setAttribute('type', 'text/javascript');\r\n",
       "    \r\n",
       "    \r\n",
       "    require_script.onload = function() {\r\n",
       "        renderPlotly();\r\n",
       "    };\r\n",
       "\r\n",
       "    document.getElementsByTagName('head')[0].appendChild(require_script);\r\n",
       "}\r\n",
       "else {\r\n",
       "    renderPlotly();\r\n",
       "}\r\n",
       "\r\n",
       "</script>\r\n"
      ]
     },
     "metadata": {},
     "output_type": "display_data"
    }
   ],
   "source": [
    "display(Chart.Plot(\n",
    "    new Pie()\n",
    "    {\n",
    "        values = new double[]{totalConfirmed, totalDeaths, totaRecovered},\n",
    "        labels = new string[] {CONFIRMED, DEATHS, RECOVERED}\n",
    "    }\n",
    "));"
   ]
  },
  {
   "cell_type": "markdown",
   "metadata": {},
   "source": [
    "##### Top 5 Countries with Confirmed cases"
   ]
  },
  {
   "cell_type": "markdown",
   "metadata": {},
   "source": [
    "In order to get top 5 countries data, I have used DataFrame's GroupBy, Sum, OrderByDescending methods"
   ]
  },
  {
   "cell_type": "code",
   "execution_count": 17,
   "metadata": {
    "vscode": {
     "languageId": "csharp"
    }
   },
   "outputs": [],
   "source": [
    "// The data for top 5 countries is not present in the csv file.\n",
    "// In order to get that, first DataFrame's GROUPBY is used aginst the country.\n",
    "// Then it was aggregated using SUM on Confirmed column.\n",
    "// In the last, ORDERBYDESCENDING is used to get the top five countries.\n",
    "\n",
    "var countryConfirmedGroup = covid19Dataframe.GroupBy(COUNTRY).Sum(CONFIRMED).OrderByDescending(CONFIRMED);\n",
    "var topCountriesColumn = countryConfirmedGroup.Columns[COUNTRY];\n",
    "var topConfirmedCasesByCountry = countryConfirmedGroup.Columns[CONFIRMED];\n",
    "\n",
    "HashSet<string> countries = new HashSet<string>(TOP_COUNT);\n",
    "HashSet<long> confirmedCases = new HashSet<long>(TOP_COUNT);\n",
    "for(int index = 0; index < TOP_COUNT; index++)\n",
    "{\n",
    "    countries.Add(topCountriesColumn[index].ToString());\n",
    "    confirmedCases.Add(Convert.ToInt64(topConfirmedCasesByCountry[index]));\n",
    "}"
   ]
  },
  {
   "cell_type": "code",
   "execution_count": 18,
   "metadata": {
    "vscode": {
     "languageId": "csharp"
    }
   },
   "outputs": [
    {
     "data": {
      "text/html": [
       "<!DOCTYPE html>\r\n",
       "<div style=\"width: 900px; height: 500px;\" id=\"8d5ba8c8-ae60-45bf-a99d-e6df84f72b61\"></div><script type=\"text/javascript\">\r\n",
       "\n",
       "var renderPlotly = function() {\n",
       "    var xplotRequire = require.config({context:'xplot-3.0.1',paths:{plotly:'https://cdn.plot.ly/plotly-1.49.2.min'}}) || require;\n",
       "    xplotRequire(['plotly'], function(Plotly) { \r\n",
       "\n",
       "            var data = [{\"type\":\"bar\",\"x\":[\"US\",\"Brazil\",\"Russia\",\"United Kingdom\",\"Spain\"],\"y\":[1695244,415366,370680,268614,236259]}];\n",
       "           var layout = {\"title\":\"Top 5 Countries : Confirmed\"};\n",
       "           Plotly.newPlot('8d5ba8c8-ae60-45bf-a99d-e6df84f72b61', data, layout);\n",
       "        \r\n",
       "});\n",
       "};\r\n",
       "// ensure `require` is available globally\r\n",
       "if ((typeof(require) !==  typeof(Function)) || (typeof(require.config) !== typeof(Function))) {\r\n",
       "    let require_script = document.createElement('script');\r\n",
       "    require_script.setAttribute('src', 'https://cdnjs.cloudflare.com/ajax/libs/require.js/2.3.6/require.min.js');\r\n",
       "    require_script.setAttribute('type', 'text/javascript');\r\n",
       "    \r\n",
       "    \r\n",
       "    require_script.onload = function() {\r\n",
       "        renderPlotly();\r\n",
       "    };\r\n",
       "\r\n",
       "    document.getElementsByTagName('head')[0].appendChild(require_script);\r\n",
       "}\r\n",
       "else {\r\n",
       "    renderPlotly();\r\n",
       "}\r\n",
       "\r\n",
       "</script>\r\n"
      ]
     },
     "metadata": {},
     "output_type": "display_data"
    }
   ],
   "source": [
    "var title = \"Top 5 Countries : Confirmed\";\n",
    "var series1 = new Bar{\n",
    "        x = countries.ToArray(),\n",
    "        y = confirmedCases.ToArray()\n",
    "    };\n",
    "\n",
    "var chart = Chart.Plot(new []{series1});\n",
    "chart.WithTitle(title);\n",
    "display(chart);"
   ]
  },
  {
   "cell_type": "markdown",
   "metadata": {},
   "source": [
    "##### Top 5 Countries with Deaths"
   ]
  },
  {
   "cell_type": "code",
   "execution_count": 19,
   "metadata": {
    "vscode": {
     "languageId": "csharp"
    }
   },
   "outputs": [],
   "source": [
    "// Get the data\n",
    "var countryDeathsGroup = covid19Dataframe.GroupBy(COUNTRY).Sum(DEATHS).OrderByDescending(DEATHS);\n",
    "var topCountriesColumn = countryDeathsGroup.Columns[COUNTRY];\n",
    "var topDeathCasesByCountry = countryDeathsGroup.Columns[DEATHS];\n",
    "\n",
    "HashSet<string> countries = new HashSet<string>(TOP_COUNT);\n",
    "HashSet<long> deathCases = new HashSet<long>(TOP_COUNT);\n",
    "for(int index = 0; index < TOP_COUNT; index++)\n",
    "{\n",
    "    countries.Add(topCountriesColumn[index].ToString());\n",
    "    deathCases.Add(Convert.ToInt64(topDeathCasesByCountry[index]));\n",
    "}"
   ]
  },
  {
   "cell_type": "code",
   "execution_count": 20,
   "metadata": {
    "vscode": {
     "languageId": "csharp"
    }
   },
   "outputs": [
    {
     "data": {
      "text/html": [
       "<!DOCTYPE html>\r\n",
       "<div style=\"width: 900px; height: 500px;\" id=\"a7315518-c87f-455c-aa47-dbc6d662004f\"></div><script type=\"text/javascript\">\r\n",
       "\n",
       "var renderPlotly = function() {\n",
       "    var xplotRequire = require.config({context:'xplot-3.0.1',paths:{plotly:'https://cdn.plot.ly/plotly-1.49.2.min'}}) || require;\n",
       "    xplotRequire(['plotly'], function(Plotly) { \r\n",
       "\n",
       "            var data = [{\"type\":\"bar\",\"x\":[\"US\",\"United Kingdom\",\"Italy\",\"France\",\"Spain\"],\"y\":[100824,51613,33072,28599,27117]}];\n",
       "           var layout = {\"title\":\"Top 5 Countries : Deaths\"};\n",
       "           Plotly.newPlot('a7315518-c87f-455c-aa47-dbc6d662004f', data, layout);\n",
       "        \r\n",
       "});\n",
       "};\r\n",
       "// ensure `require` is available globally\r\n",
       "if ((typeof(require) !==  typeof(Function)) || (typeof(require.config) !== typeof(Function))) {\r\n",
       "    let require_script = document.createElement('script');\r\n",
       "    require_script.setAttribute('src', 'https://cdnjs.cloudflare.com/ajax/libs/require.js/2.3.6/require.min.js');\r\n",
       "    require_script.setAttribute('type', 'text/javascript');\r\n",
       "    \r\n",
       "    \r\n",
       "    require_script.onload = function() {\r\n",
       "        renderPlotly();\r\n",
       "    };\r\n",
       "\r\n",
       "    document.getElementsByTagName('head')[0].appendChild(require_script);\r\n",
       "}\r\n",
       "else {\r\n",
       "    renderPlotly();\r\n",
       "}\r\n",
       "\r\n",
       "</script>\r\n"
      ]
     },
     "metadata": {},
     "output_type": "display_data"
    }
   ],
   "source": [
    "var title = \"Top 5 Countries : Deaths\";\n",
    "var series1 = new Bar{\n",
    "        x = countries.ToArray(),\n",
    "        y = deathCases.ToArray()\n",
    "    };\n",
    "\n",
    "var chart = Chart.Plot(new []{series1});\n",
    "chart.WithTitle(title);\n",
    "display(chart);"
   ]
  },
  {
   "cell_type": "markdown",
   "metadata": {},
   "source": [
    "##### Top 5 Countries with Recovered cases"
   ]
  },
  {
   "cell_type": "code",
   "execution_count": 21,
   "metadata": {
    "vscode": {
     "languageId": "csharp"
    }
   },
   "outputs": [],
   "source": [
    "// Get the data\n",
    "var countryRecoveredGroup = covid19Dataframe.GroupBy(COUNTRY).Sum(RECOVERED).OrderByDescending(RECOVERED);\n",
    "var topCountriesColumn = countryRecoveredGroup.Columns[COUNTRY];\n",
    "var topRecoveredCasesByCountry = countryRecoveredGroup.Columns[RECOVERED];\n",
    "\n",
    "HashSet<string> countries = new HashSet<string>(TOP_COUNT);\n",
    "HashSet<long> recoveredCases = new HashSet<long>(TOP_COUNT);\n",
    "for(int index = 0; index < TOP_COUNT; index++)\n",
    "{\n",
    "    countries.Add(topCountriesColumn[index].ToString());\n",
    "    recoveredCases.Add(Convert.ToInt64(topRecoveredCasesByCountry[index]));\n",
    "}"
   ]
  },
  {
   "cell_type": "code",
   "execution_count": 22,
   "metadata": {
    "vscode": {
     "languageId": "csharp"
    }
   },
   "outputs": [
    {
     "data": {
      "text/html": [
       "<!DOCTYPE html>\r\n",
       "<div style=\"width: 900px; height: 500px;\" id=\"e8cd9fc8-c3c6-45d4-a479-9280e951e118\"></div><script type=\"text/javascript\">\r\n",
       "\n",
       "var renderPlotly = function() {\n",
       "    var xplotRequire = require.config({context:'xplot-3.0.1',paths:{plotly:'https://cdn.plot.ly/plotly-1.49.2.min'}}) || require;\n",
       "    xplotRequire(['plotly'], function(Plotly) { \r\n",
       "\n",
       "            var data = [{\"type\":\"bar\",\"x\":[\"US\",\"Brazil\",\"Germany\",\"Spain\",\"Italy\"],\"y\":[391508,166647,162820,150376,147101]}];\n",
       "           var layout = {\"title\":\"Top 5 Countries : Recovered\"};\n",
       "           Plotly.newPlot('e8cd9fc8-c3c6-45d4-a479-9280e951e118', data, layout);\n",
       "        \r\n",
       "});\n",
       "};\r\n",
       "// ensure `require` is available globally\r\n",
       "if ((typeof(require) !==  typeof(Function)) || (typeof(require.config) !== typeof(Function))) {\r\n",
       "    let require_script = document.createElement('script');\r\n",
       "    require_script.setAttribute('src', 'https://cdnjs.cloudflare.com/ajax/libs/require.js/2.3.6/require.min.js');\r\n",
       "    require_script.setAttribute('type', 'text/javascript');\r\n",
       "    \r\n",
       "    \r\n",
       "    require_script.onload = function() {\r\n",
       "        renderPlotly();\r\n",
       "    };\r\n",
       "\r\n",
       "    document.getElementsByTagName('head')[0].appendChild(require_script);\r\n",
       "}\r\n",
       "else {\r\n",
       "    renderPlotly();\r\n",
       "}\r\n",
       "\r\n",
       "</script>\r\n"
      ]
     },
     "metadata": {},
     "output_type": "display_data"
    }
   ],
   "source": [
    "var title = \"Top 5 Countries : Recovered\";\n",
    "var series1 = new Bar{\n",
    "        x = countries.ToArray(),\n",
    "        y = recoveredCases.ToArray()\n",
    "    };\n",
    "\n",
    "var chart = Chart.Plot(new []{series1});\n",
    "chart.WithTitle(title);\n",
    "display(chart);"
   ]
  },
  {
   "cell_type": "markdown",
   "metadata": {},
   "source": [
    "#### India"
   ]
  },
  {
   "cell_type": "markdown",
   "metadata": {},
   "source": [
    "##### Confirmed Vs Deaths Vs Receovered cases"
   ]
  },
  {
   "cell_type": "markdown",
   "metadata": {},
   "source": [
    "Filering on Country column with INDIA as value"
   ]
  },
  {
   "cell_type": "code",
   "execution_count": 23,
   "metadata": {
    "vscode": {
     "languageId": "csharp"
    }
   },
   "outputs": [],
   "source": [
    "// Filering on Country column with INDIA as value\n",
    "\n",
    "PrimitiveDataFrameColumn<bool> indiaFilter = covid19Dataframe.Columns[COUNTRY].ElementwiseEquals(INDIA);\n",
    "var indiaDataFrame = covid19Dataframe.Filter(indiaFilter);\n",
    "            \n",
    "var indiaConfirmed = indiaDataFrame.Columns[CONFIRMED];\n",
    "var indiaDeaths = indiaDataFrame.Columns[DEATHS];\n",
    "var indiaRecovered = indiaDataFrame.Columns[RECOVERED];\n",
    "\n",
    "var indiaTotalConfirmed = Convert.ToDouble(indiaConfirmed.Sum());\n",
    "var indiaTotalDeaths = Convert.ToDouble(indiaDeaths.Sum());\n",
    "var indiaTotaRecovered = Convert.ToDouble(indiaRecovered.Sum());"
   ]
  },
  {
   "cell_type": "code",
   "execution_count": 24,
   "metadata": {
    "vscode": {
     "languageId": "csharp"
    }
   },
   "outputs": [
    {
     "data": {
      "text/html": [
       "<!DOCTYPE html>\r\n",
       "<div style=\"width: 900px; height: 500px;\" id=\"f1bcc31a-d915-4fdf-ad69-7daa75de2347\"></div><script type=\"text/javascript\">\r\n",
       "\n",
       "var renderPlotly = function() {\n",
       "    var xplotRequire = require.config({context:'xplot-3.0.1',paths:{plotly:'https://cdn.plot.ly/plotly-1.49.2.min'}}) || require;\n",
       "    xplotRequire(['plotly'], function(Plotly) { \r\n",
       "\n",
       "            var data = [{\"type\":\"pie\",\"labels\":[\"Confirmed\",\"Deaths\",\"Recovered\"],\"values\":[158086.0,4534.0,67749.0]}];\n",
       "           var layout = \"\";\n",
       "           Plotly.newPlot('f1bcc31a-d915-4fdf-ad69-7daa75de2347', data, layout);\n",
       "        \r\n",
       "});\n",
       "};\r\n",
       "// ensure `require` is available globally\r\n",
       "if ((typeof(require) !==  typeof(Function)) || (typeof(require.config) !== typeof(Function))) {\r\n",
       "    let require_script = document.createElement('script');\r\n",
       "    require_script.setAttribute('src', 'https://cdnjs.cloudflare.com/ajax/libs/require.js/2.3.6/require.min.js');\r\n",
       "    require_script.setAttribute('type', 'text/javascript');\r\n",
       "    \r\n",
       "    \r\n",
       "    require_script.onload = function() {\r\n",
       "        renderPlotly();\r\n",
       "    };\r\n",
       "\r\n",
       "    document.getElementsByTagName('head')[0].appendChild(require_script);\r\n",
       "}\r\n",
       "else {\r\n",
       "    renderPlotly();\r\n",
       "}\r\n",
       "\r\n",
       "</script>\r\n"
      ]
     },
     "metadata": {},
     "output_type": "display_data"
    }
   ],
   "source": [
    "display(Chart.Plot(\n",
    "    new Pie()\n",
    "    {\n",
    "        values = new double[]{indiaTotalConfirmed, indiaTotalDeaths, indiaTotaRecovered},\n",
    "        labels = new string[] {CONFIRMED, DEATHS, RECOVERED}\n",
    "    }\n",
    "));"
   ]
  },
  {
   "cell_type": "markdown",
   "metadata": {},
   "source": [
    "## Conclusion"
   ]
  },
  {
   "cell_type": "markdown",
   "metadata": {},
   "source": [
    "I hope you have enjoyed reading the notebook, and might have got some idea on the powerful features of DataFrame in .Net. Datascience capabilities are emerging fast in the .Net ecosystem which abstracts lot of complexity present in the field. The focus of this notebook is data analysis and there is nothing present from a Machine Learning perspective such as making a prediction. In [Part-2](https://github.com/praveenraghuvanshi/covid-19/tree/Part-2/part-2), I have done time series analysis and predictions using ML.Net \n",
    "\n",
    "Feedback/Suggestion are welcome. Please reach out to me through below channels\n",
    "\n",
    "**Contact**\n",
    " \n",
    "**LinkedIn :** https://in.linkedin.com/in/praveenraghuvanshi  \n",
    "**Github   :** https://github.com/praveenraghuvanshi  \n",
    "**Twitter  :** @praveenraghuvan\n",
    "\n"
   ]
  },
  {
   "cell_type": "markdown",
   "metadata": {},
   "source": [
    "## References\n",
    "- [Using ML.NET in Jupyter notebooks](https://devblogs.microsoft.com/cesardelatorre/using-ml-net-in-jupyter-notebooks/)\n",
    "- [An Introduction to DataFrame](https://devblogs.microsoft.com/dotnet/an-introduction-to-dataframe/)\n",
    "- [DataFrame - Sample](https://github.com/dotnet/interactive/blob/master/NotebookExamples/csharp/Samples/HousingML.ipynb)\n",
    "- [Getting started with ML.NET in Jupyter Notebooks](https://xamlbrewer.wordpress.com/2020/02/20/getting-started-with-ml-net-in-jupyter-notebooks/)\n",
    "- [Tips and tricks for C# Jupyter notebook](https://ewinnington.github.io/posts/jupyter-tips-csharp)\n",
    "- [Jupyter notebooks with C# and R running](https://github.com/ewinnington/noteb)\n",
    "- [Data analysis using F# and Jupyter notebook — Samuele Resca](https://medium.com/@samueleresca/data-analysis-using-f-and-jupyter-notebook-samuele-resca-66a229e25306)\n",
    "- [Exploring the C# Dataframe API](https://www.youtube.com/watch?v=FI3VxXClJ7Y) by Jon Wood\n",
    "- [Coronavirus-COVID-19-Visualization-Prediction](https://www.kaggle.com/therealcyberlord/coronavirus-covid-19-visualization-prediction)\n",
    "- [Data Modelling & Analysing Coronavirus (COVID19) Spread using Data Science & Data Analytics in Python Code](https://in.springboard.com/blog/data-modelling-covid/)"
   ]
  },
  {
   "cell_type": "markdown",
   "metadata": {},
   "source": [
    "#  ******************** Be Safe **********************"
   ]
  }
 ],
 "metadata": {
  "kernelspec": {
   "display_name": ".NET (C#)",
   "language": "C#",
   "name": ".net-csharp"
  },
  "language_info": {
   "file_extension": ".cs",
   "mimetype": "text/x-csharp",
   "name": "C#",
   "pygments_lexer": "csharp",
   "version": "10.0"
  },
  "nteract": {
   "version": "0.23.3"
  }
 },
 "nbformat": 4,
 "nbformat_minor": 2
}
