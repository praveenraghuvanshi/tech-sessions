{
  "cells": [
    {
      "cell_type": "markdown",
      "source": [
        "<img src=\"https://github.com/praveenraghuvanshi/tech-sessions/tree/master/03092020-Global-AI-Community/assets/global-ai-community-logo.png\" alt=\"Global AI Talks\" style=\"zoom:80%;margin:auto;\" />\n",
        "<img src=\".\\assets\\praveen.png\" alt=\"Introduction\" style=\"zoom:40%;margin:auto;\">\n",
        "\n",
        "# Machine Learning using C# on Jupyter Notebook!"
      ],
      "metadata": {
        "slideshow": {
          "slide_type": "slide"
        }
      }
    },
    {
      "cell_type": "markdown",
      "source": [
        "# Introduction\n",
        "\n",
        "- Cloud Architect @ Harman, A Samsung Company    \n",
        "- Domain: Professional Audio, Video and Control\n",
        "- Area of Expertise: Cloud, Distributed computing\n",
        "- Area of Interest: AI/ML, Cloud and IoT\n",
        "- Location: Bangalore\n",
        "- Member: .Net Foundation"
      ],
      "metadata": {
        "slideshow": {
          "slide_type": "slide"
        }
      }
    },
    {
      "cell_type": "markdown",
      "source": [
        "# Agenda\n",
        "\n",
        "- Jupyter Notebook\n",
        "- .Net on Juypter Notebook\n",
        "- Prerequisites & Installation\n",
        "- Machine Learning – ML.Net\n",
        "- Demo – Sentiment Analysis"
      ],
      "metadata": {
        "slideshow": {
          "slide_type": "slide"
        }
      }
    },
    {
      "cell_type": "markdown",
      "source": [
        "# Jupyter Notebook\n",
        "\n",
        "*A notebook = Code + Output (Visualizations/text/equations/media)*\n",
        "- Open source web application maintained by [Project Jupyter](https://jupyter.org/)\n",
        "- Live code\n",
        "- Easy to share notebooks\n",
        "- Stores results from previous execution\n",
        "- Mainly used by Data scientists "
      ],
      "metadata": {
        "slideshow": {
          "slide_type": "slide"
        }
      }
    },
    {
      "cell_type": "markdown",
      "source": [
        "# Jupyter Notebook\n",
        "\n",
        "<img src=\"https://github.com/praveenraghuvanshi/tech-sessions/tree/master/03092020-Global-AI-Community/assets/jupyter-notebook-features.png\" alt=\"Jupyter Notebook Features\" style=\"zoom:40%;margin:auto;\">"
      ],
      "metadata": {
        "slideshow": {
          "slide_type": "slide"
        }
      }
    },
    {
      "cell_type": "markdown",
      "source": [
        "# .Net on Jupyter Notebook"
      ],
      "metadata": {
        "slideshow": {
          "slide_type": "slide"
        }
      }
    },
    {
      "cell_type": "code",
      "source": [
        "public class Employee\n",
        "{    \n",
        "    public Employee(string firstName, string lastName)\n",
        "    {\n",
        "        FirstName = firstName; LastName = lastName;\n",
        "    }    \n",
        "    public string FirstName { get; set; }    \n",
        "    public string LastName { get; set; }    \n",
        "    public string FullName => $\"{FirstName}_{LastName}\";\n",
        "}\n",
        "var developer = new Employee(\"Praveen\", \"Raghuvanshi\");\n",
        "display(developer.FullName);"
      ],
      "outputs": [
        {
          "output_type": "display_data",
          "data": {
            "text/plain": "Praveen_Raghuvanshi"
          },
          "metadata": {}
        }
      ],
      "execution_count": 17,
      "metadata": {
        "slideshow": {
          "slide_type": "fragment"
        }
      }
    },
    {
      "cell_type": "markdown",
      "source": [
        "# Prerequisites and Installation\n",
        "\n",
        "- Jupyter (Easiest way is to install Anaconda)\n",
        "- Latest [.Net core](https://dotnet.microsoft.com/download/dotnet-core)  \n",
        "- [dotnet interactive](https://github.com/dotnet/interactive) : [Installation](https://github.com/dotnet/interactive/blob/main/docs/NotebooksLocalExperience.md)\n",
        "- Enable the .NET kernel for Jupyter"
      ],
      "metadata": {
        "slideshow": {
          "slide_type": "slide"
        }
      }
    },
    {
      "cell_type": "markdown",
      "source": [
        "# ML.Net\n",
        "\n",
        "*ML framework from Microsoft for developing Custom AI/ML applications. Originated in 2002 as part of Microsoft Research project*\n",
        "\n",
        "<img src=\"https://github.com/praveenraghuvanshi/tech-sessions/tree/master/03092020-Global-AI-Community/assets/ml-dotnet-vs-cognitive.png\" alt=\"ML.Net\" style=\"zoom:80%;margin:auto;\">\n"
      ],
      "metadata": {
        "slideshow": {
          "slide_type": "slide"
        }
      }
    },
    {
      "cell_type": "markdown",
      "source": [
        "<img src=\".\\assets\\ml-dotnet.png\" alt=\"ML.Net\" style=\"zoom:120%;margin:auto;\">"
      ],
      "metadata": {
        "slideshow": {
          "slide_type": "slide"
        }
      }
    },
    {
      "cell_type": "markdown",
      "source": [
        "# Proven at scale, Enterprise ready\n",
        "\n",
        "<img src=\".\\assets\\ml-dotnet-use-case.png\" alt=\"ML.Net\" style=\"zoom:80%;margin:auto;\">"
      ],
      "metadata": {
        "slideshow": {
          "slide_type": "slide"
        }
      }
    },
    {
      "cell_type": "markdown",
      "source": [
        "# Possibilities\n",
        "\n",
        "<img src=\"https://github.com/praveenraghuvanshi/tech-sessions/tree/master/03092020-Global-AI-Community/assets/ml-dotnet-possiblities.png\" alt=\"ML.Net\" style=\"zoom:80%;margin:auto;\">"
      ],
      "metadata": {
        "slideshow": {
          "slide_type": "slide"
        }
      }
    },
    {
      "cell_type": "markdown",
      "source": [
        "# Demo - Sentiment Analysis\n",
        "\n",
        "- Positive(+ve) , Negative(-ve)\n",
        "- Sentiment(Label) and Text(Features)\n",
        "- Train model using ML.Net\n",
        "- ML Pipeline : Load -> Transform -> Train -> Evaluate -> Predict"
      ],
      "metadata": {
        "slideshow": {
          "slide_type": "slide"
        }
      }
    },
    {
      "cell_type": "markdown",
      "source": [
        "# Dataset - Yelp Reviews\n",
        "\n",
        "<img src=\"https://github.com/praveenraghuvanshi/tech-sessions/tree/master/03092020-Global-AI-Community/assets/sentiment-dataset.png\" alt=\"Dataset\" style=\"zoom:80%;margin:auto;\">"
      ],
      "metadata": {
        "slideshow": {
          "slide_type": "slide"
        }
      }
    },
    {
      "cell_type": "markdown",
      "source": [
        "### 1. Define Application wide Items"
      ],
      "metadata": {
        "slideshow": {
          "slide_type": "skip"
        }
      }
    },
    {
      "cell_type": "markdown",
      "source": [
        "#### Nuget Packages\n",
        "- Microsoft.ML"
      ],
      "metadata": {
        "slideshow": {
          "slide_type": "skip"
        }
      }
    },
    {
      "cell_type": "code",
      "source": [
        "// ML.NET Nuget packages installation\n",
        "#r \"nuget:Microsoft.ML\""
      ],
      "outputs": [
        {
          "output_type": "display_data",
          "data": {
            "text/html": "Installed package Microsoft.ML version 1.5.1"
          },
          "metadata": {}
        }
      ],
      "execution_count": 2,
      "metadata": {
        "slideshow": {
          "slide_type": "skip"
        }
      }
    },
    {
      "cell_type": "markdown",
      "source": [
        "#### Namespaces"
      ],
      "metadata": {
        "slideshow": {
          "slide_type": "skip"
        }
      }
    },
    {
      "cell_type": "code",
      "source": [
        "using Microsoft.ML;\n",
        "using Microsoft.ML.Data;\n",
        "using static Microsoft.ML.DataOperationsCatalog;\n",
        "using System;\n",
        "using System.IO;"
      ],
      "outputs": [],
      "execution_count": 3,
      "metadata": {
        "slideshow": {
          "slide_type": "skip"
        }
      }
    },
    {
      "cell_type": "markdown",
      "source": [
        "### 2. Load data"
      ],
      "metadata": {
        "slideshow": {
          "slide_type": "skip"
        }
      }
    },
    {
      "cell_type": "markdown",
      "source": [
        "#### Set the dataset path"
      ],
      "metadata": {
        "slideshow": {
          "slide_type": "skip"
        }
      }
    },
    {
      "cell_type": "code",
      "source": [
        "var dataPath = Path.Combine(Environment.CurrentDirectory, \"Data\", \"yelp_labelled.txt\");\n",
        "display(dataPath)"
      ],
      "outputs": [
        {
          "output_type": "display_data",
          "data": {
            "text/plain": "D:\\Praveen\\sourcecontrol\\github\\praveenraghuvanshi\\tech-sessions\\03092020-Global-AI-Community\\Data\\yelp_labelled.txt"
          },
          "metadata": {}
        }
      ],
      "execution_count": 4,
      "metadata": {
        "slideshow": {
          "slide_type": "skip"
        }
      }
    },
    {
      "cell_type": "markdown",
      "source": [
        "#### Define Schema(classes) for input data and predictions"
      ],
      "metadata": {
        "slideshow": {
          "slide_type": "skip"
        }
      }
    },
    {
      "cell_type": "code",
      "source": [
        "/// Input\n",
        "public class SentimentData\n",
        "{\n",
        "    [LoadColumn(0)]\n",
        "    public string SentimentText;\n",
        "\n",
        "    [LoadColumn(1), ColumnName(\"Label\")]\n",
        "    public bool Sentiment;\n",
        "}\n",
        "\n",
        "/// Prediction\n",
        "public class SentimentPrediction : SentimentData\n",
        "{\n",
        "\n",
        "    [ColumnName(\"PredictedLabel\")]\n",
        "    public bool Prediction { get; set; }\n",
        "\n",
        "    public float Probability { get; set; }\n",
        "\n",
        "    public float Score { get; set; }\n",
        "}"
      ],
      "outputs": [],
      "execution_count": 5,
      "metadata": {
        "slideshow": {
          "slide_type": "skip"
        }
      }
    },
    {
      "cell_type": "code",
      "source": [
        "// Initialize ML Context\n",
        "MLContext mlContext = new MLContext();"
      ],
      "outputs": [],
      "execution_count": 6,
      "metadata": {
        "slideshow": {
          "slide_type": "skip"
        }
      }
    },
    {
      "cell_type": "code",
      "source": [
        "// Load : Split it into 80% training and 20% test data\n",
        "public TrainTestData LoadData(MLContext mlContext)\n",
        "{\n",
        "    IDataView dataView = mlContext.Data.LoadFromTextFile<SentimentData>(dataPath, hasHeader: false);\n",
        "    TrainTestData splitDataView = mlContext.Data.TrainTestSplit(dataView, testFraction: 0.2);\n",
        "    return splitDataView;\n",
        "}"
      ],
      "outputs": [],
      "execution_count": 7,
      "metadata": {
        "slideshow": {
          "slide_type": "skip"
        }
      }
    },
    {
      "cell_type": "code",
      "source": [
        "TrainTestData splitDataView = LoadData(mlContext);"
      ],
      "outputs": [],
      "execution_count": 8,
      "metadata": {
        "slideshow": {
          "slide_type": "skip"
        }
      }
    },
    {
      "cell_type": "markdown",
      "source": [
        "### 3. Transform data and choose algorithm"
      ],
      "metadata": {
        "slideshow": {
          "slide_type": "skip"
        }
      }
    },
    {
      "cell_type": "code",
      "source": [
        "// Transform : Converts the text column(SentimentText) into numeric type Features column using FeaturizeText\n",
        "var estimator = mlContext.Transforms.Text.FeaturizeText(outputColumnName: \"Features\", inputColumnName: nameof(SentimentData.SentimentText))\n",
        "                        .Append(mlContext.BinaryClassification.Trainers.SdcaLogisticRegression(labelColumnName: \"Label\", featureColumnName: \"Features\"));\n"
      ],
      "outputs": [],
      "execution_count": 9,
      "metadata": {
        "slideshow": {
          "slide_type": "skip"
        }
      }
    },
    {
      "cell_type": "markdown",
      "source": [
        "### 4. Train Model"
      ],
      "metadata": {
        "slideshow": {
          "slide_type": "skip"
        }
      }
    },
    {
      "cell_type": "code",
      "source": [
        "// Train/Fit model\n",
        "display(\"=============== Create and Train the Model ===============\");\n",
        "var model = estimator.Fit(splitDataView.TrainSet);\n",
        "display(\"=============== End of training ===============\");"
      ],
      "outputs": [
        {
          "output_type": "display_data",
          "data": {
            "text/plain": "=============== Create and Train the Model ==============="
          },
          "metadata": {}
        },
        {
          "output_type": "display_data",
          "data": {
            "text/plain": "=============== End of training ==============="
          },
          "metadata": {}
        }
      ],
      "execution_count": 10,
      "metadata": {
        "slideshow": {
          "slide_type": "skip"
        }
      }
    },
    {
      "cell_type": "markdown",
      "source": [
        "### 5. Evaluate Model"
      ],
      "metadata": {
        "slideshow": {
          "slide_type": "skip"
        }
      }
    },
    {
      "cell_type": "code",
      "source": [
        "// Evaluate : Evaluate performance of the model using Test set\n",
        "Console.WriteLine(\"=============== Evaluating Model accuracy with Test data===============\");\n",
        "IDataView predictions = model.Transform(splitDataView.TestSet);\n",
        "CalibratedBinaryClassificationMetrics metrics = mlContext.BinaryClassification.Evaluate(predictions, \"Label\");"
      ],
      "outputs": [
        {
          "output_type": "stream",
          "name": "stdout",
          "text": [
            "=============== Evaluating Model accuracy with Test data===============\r\n"
          ]
        }
      ],
      "execution_count": 11,
      "metadata": {
        "slideshow": {
          "slide_type": "skip"
        }
      }
    },
    {
      "cell_type": "code",
      "source": [
        "// Display Metrics\n",
        "display(\"Model quality metrics evaluation\");\n",
        "display(\"--------------------------------\");\n",
        "display($\"Accuracy: {metrics.Accuracy:P2}\");\n",
        "display($\"Auc: {metrics.AreaUnderRocCurve:P2}\");\n",
        "display($\"F1Score: {metrics.F1Score:P2}\");\n",
        "display(\"=============== End of model evaluation ===============\");"
      ],
      "outputs": [
        {
          "output_type": "display_data",
          "data": {
            "text/plain": "Model quality metrics evaluation"
          },
          "metadata": {}
        },
        {
          "output_type": "display_data",
          "data": {
            "text/plain": "--------------------------------"
          },
          "metadata": {}
        },
        {
          "output_type": "display_data",
          "data": {
            "text/plain": "Accuracy: 83.96%"
          },
          "metadata": {}
        },
        {
          "output_type": "display_data",
          "data": {
            "text/plain": "Auc: 90.05%"
          },
          "metadata": {}
        },
        {
          "output_type": "display_data",
          "data": {
            "text/plain": "F1Score: 84.54%"
          },
          "metadata": {}
        },
        {
          "output_type": "display_data",
          "data": {
            "text/plain": "=============== End of model evaluation ==============="
          },
          "metadata": {}
        }
      ],
      "execution_count": 12,
      "metadata": {
        "slideshow": {
          "slide_type": "skip"
        }
      }
    },
    {
      "cell_type": "markdown",
      "source": [
        "### 6. Prediction"
      ],
      "metadata": {
        "slideshow": {
          "slide_type": "skip"
        }
      }
    },
    {
      "cell_type": "code",
      "source": [
        "// Create PredictionEngine passing above model\n",
        "var predictionFunction = mlContext.Model.CreatePredictionEngine<SentimentData, SentimentPrediction>(model);"
      ],
      "outputs": [],
      "execution_count": 13,
      "metadata": {
        "slideshow": {
          "slide_type": "skip"
        }
      }
    },
    {
      "cell_type": "code",
      "source": [
        "// Create sample text\n",
        "SentimentData sampleStatement = new SentimentData\n",
        "{\n",
        "    SentimentText = \"This was a very bad steak\"\n",
        "};\n",
        "\n",
        "// Predict\n",
        "var resultPrediction = predictionFunction.Predict(sampleStatement);"
      ],
      "outputs": [],
      "execution_count": 14,
      "metadata": {
        "slideshow": {
          "slide_type": "skip"
        }
      }
    },
    {
      "cell_type": "code",
      "source": [
        "// Display Prediction\n",
        "display(\"=============== Prediction Test of model with a single sample and test dataset ===============\");\n",
        "display($\"Sentiment: {resultPrediction.SentimentText} | Prediction: {(Convert.ToBoolean(resultPrediction.Prediction) ? \"Positive\" : \"Negative\")} | Probability: {resultPrediction.Probability} \");\n",
        "display(\"=============== End of Predictions ===============\");"
      ],
      "outputs": [
        {
          "output_type": "display_data",
          "data": {
            "text/plain": "=============== Prediction Test of model with a single sample and test dataset ==============="
          },
          "metadata": {}
        },
        {
          "output_type": "display_data",
          "data": {
            "text/plain": "Sentiment: This was a very bad steak | Prediction: Negative | Probability: 0.031075107 "
          },
          "metadata": {}
        },
        {
          "output_type": "display_data",
          "data": {
            "text/plain": "=============== End of Predictions ==============="
          },
          "metadata": {}
        }
      ],
      "execution_count": 15,
      "metadata": {
        "slideshow": {
          "slide_type": "skip"
        }
      }
    },
    {
      "cell_type": "markdown",
      "source": [
        "### 7. Save Model"
      ],
      "metadata": {
        "slideshow": {
          "slide_type": "skip"
        }
      }
    },
    {
      "cell_type": "code",
      "source": [
        "// Save Model\n",
        "mlContext.Model.Save(model, splitDataView.TrainSet.Schema,\"SentimentAnalysisModel.zip\");"
      ],
      "outputs": [],
      "execution_count": 16,
      "metadata": {
        "slideshow": {
          "slide_type": "skip"
        }
      }
    },
    {
      "cell_type": "markdown",
      "source": [
        "# Resources\n",
        "\n",
        "- [Github](https://github.com/praveenraghuvanshi/tech-sessions/tree/master/03092020-Global-AI-Community)\n",
        "- [Deck + Notebook](https://github.com/praveenraghuvanshi/tech-sessions/blob/master/03092020-Global-AI-Community/Global-AI-Community.ipynb)\n",
        "- [Source](https://github.com/praveenraghuvanshi/tech-sessions/tree/master/03092020-Global-AI-Community/src/Classification(Binary))"
      ],
      "metadata": {
        "slideshow": {
          "slide_type": "slide"
        }
      }
    },
    {
      "cell_type": "markdown",
      "source": [
        "# References\n",
        "\n",
        "- [How to Use Jupyter Notebook in 2020: A Beginner’s Tutorial](dataquest.io/blog/jupyter-notebook-tutorial/)\n",
        "- [.Net interactive](https://github.com/dotnet/interactive)\n",
        "- [Using ML.NET in Jupyter notebooks](https://devblogs.microsoft.com/cesardelatorre/using-ml-net-in-jupyter-notebooks/)\n",
        "- [RISE-Jupyter/IPython Slideshow Extension](https://rise.readthedocs.io/en/stable/)"
      ],
      "metadata": {
        "slideshow": {
          "slide_type": "slide"
        }
      }
    },
    {
      "cell_type": "markdown",
      "source": [
        "# Thank you\n",
        "\n",
        "**Contact**\n",
        "\n",
        "Twitter : @praveenraghuvan\\\n",
        "LinkedIn : https://in.linkedin.com/in/praveenraghuvanshi \\\n",
        "Github : https://github.com/praveenraghuvanshi \\\n",
        "dev.to : https://dev.to/praveenraghuvanshi\n",
        "\n",
        "I am running an unofficial **telegram** group for ML.Net enthusiasts, please feel free to join it at https://t.me/joinchat/IifUJQ_PuYT757Turx-nLg"
      ],
      "metadata": {
        "slideshow": {
          "slide_type": "slide"
        }
      }
    }
  ],
  "metadata": {
    "celltoolbar": "Slideshow",
    "kernelspec": {
      "display_name": ".NET (C#)",
      "language": "C#",
      "name": ".net-csharp"
    },
    "language_info": {
      "name": "C#",
      "version": "8.0",
      "mimetype": "text/x-csharp",
      "file_extension": ".cs",
      "pygments_lexer": "csharp"
    },
    "nteract": {
      "version": "0.25.0"
    }
  },
  "nbformat": 4,
  "nbformat_minor": 4
}